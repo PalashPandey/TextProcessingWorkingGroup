{
 "cells": [
  {
   "cell_type": "markdown",
   "metadata": {},
   "source": [
    "# Text Generation Using Markov Chains "
   ]
  },
  {
   "cell_type": "markdown",
   "metadata": {},
   "source": [
    "### Definition: \n",
    "\n",
    "A Markov Chain is a stochastic (random) process that models a finite set of states, with fixed conditional probabilities of jumping from a given state to another.\n",
    "\n",
    "What this means is, we will have an “agent” that randomly jumps around different states, with a certain probability of going from each state to another one.\n",
    "\n",
    "To show what a Markov Chain looks like, we can use a digraph, where each node is a state (with a label or associated data), and the weight of the edge that goes from node a to node b is the probability of jumping from state a to state b.\n"
   ]
  },
  {
   "cell_type": "markdown",
   "metadata": {},
   "source": [
    "### To understand markov chains, we need to understand Finite State Machines \n",
    "\n",
    " It is an abstract machine that can be in exactly one of a finite number of states at any given time. The FSM can change from one state to another in response to some inputs; the change from one state to another is called a transition. An FSM is defined by a list of its states, its initial state, and the inputs that trigger each transition.\n",
    "\n",
    "\n",
    "A finite state machine can be used as a representation of a Markov chain. Assuming a sequence of independent and identically distributed input signals (for example, symbols from a binary alphabet chosen by coin tosses), if the machine is in state y at time n, then the probability that it moves to state x at time n + 1 depends only on the current state.\n"
   ]
  },
  {
   "cell_type": "code",
   "execution_count": null,
   "metadata": {},
   "outputs": [],
   "source": []
  },
  {
   "cell_type": "markdown",
   "metadata": {},
   "source": [
    "Image for Markov chains\n"
   ]
  },
  {
   "cell_type": "code",
   "execution_count": 1,
   "metadata": {},
   "outputs": [
    {
     "name": "stdout",
     "output_type": "stream",
     "text": [
      "Collecting markovify\n",
      "  Downloading https://files.pythonhosted.org/packages/de/c3/2e017f687e47e88eb9d8adf970527e2299fb566eba62112c2851ebb7ab93/markovify-0.8.0.tar.gz\n",
      "Collecting unidecode (from markovify)\n",
      "  Downloading https://files.pythonhosted.org/packages/d0/42/d9edfed04228bacea2d824904cae367ee9efd05e6cce7ceaaedd0b0ad964/Unidecode-1.1.1-py2.py3-none-any.whl (238kB)\n",
      "Building wheels for collected packages: markovify\n",
      "  Building wheel for markovify (setup.py): started\n",
      "  Building wheel for markovify (setup.py): finished with status 'done'\n",
      "  Created wheel for markovify: filename=markovify-0.8.0-cp37-none-any.whl size=10698 sha256=26a52cef3e5595e51a586c228b97e8d4d71ff26740298c1b4293c916399f57cc\n",
      "  Stored in directory: C:\\Users\\pxp142\\AppData\\Local\\pip\\Cache\\wheels\\5d\\a8\\92\\35e2df870ff15a65657679dca105d190ec3c854a9f75435e40\n",
      "Successfully built markovify\n",
      "Installing collected packages: unidecode, markovify\n",
      "Successfully installed markovify-0.8.0 unidecode-1.1.1\n"
     ]
    }
   ],
   "source": [
    "!pip install markovify"
   ]
  },
  {
   "cell_type": "code",
   "execution_count": 2,
   "metadata": {},
   "outputs": [],
   "source": [
    "import markovify\n",
    "import pandas as pd\n",
    "# Get raw text as string.\n",
    "course_descriptions_df = pd.read_csv('course_df.csv', sep = '\\t' )\n",
    "\n"
   ]
  },
  {
   "cell_type": "code",
   "execution_count": 14,
   "metadata": {},
   "outputs": [
    {
     "name": "stdout",
     "output_type": "stream",
     "text": [
      "The students, with faculty supervision, plans a project that demonstrates the integration of these systems into the building design and construction and prepares students for senior seminar by providing a forum for collaborative, critical inquiry based on the field experience.\n",
      "Topics decided upon by faculty will vary within the area of study requiring intermittent consultation with a designated instructor.\n",
      "Sound Post-Production is a workshop that allows students the opportunity to synthesize, contextualize, and deepen their understanding of and skills in inter-cultural communication.\n",
      "Special consideration is given to the training of standard pronunciation and listening comprehension as well as in one or more manufactured DNA testing kits.\n",
      "Topics decided upon by faculty will vary within the area of study requiring intermittent consultation with a designated instructor.\n",
      "Includes development of nutrition education materials as well as social and strategic interactions.\n",
      "Seminar that examines theories and principles to organizational systems and decision-making.\n",
      "Focuses on practice rather than theory by using existing Python libraries and tools to assist them in their leadership development journeys; explore concepts such as the nature and delivery of IT services.\n"
     ]
    }
   ],
   "source": [
    "text = \" \".join(list(course_descriptions_df[\"DescriptionBlock\"].fillna(\" \") ) )\n",
    "\n",
    "# Build the model.\n",
    "text_model = markovify.Text(text ,state_size=3)\n",
    "\n",
    "# Print five randomly-generated sentences\n",
    "for i in range(5):\n",
    "    print(text_model.make_sentence())\n",
    "\n",
    "# Print three randomly-generated sentences of no more than 280 characters\n",
    "for i in range(3):\n",
    "    print(text_model.make_short_sentence(280))"
   ]
  }
 ],
 "metadata": {
  "kernelspec": {
   "display_name": "Python 3",
   "language": "python",
   "name": "python3"
  },
  "language_info": {
   "codemirror_mode": {
    "name": "ipython",
    "version": 3
   },
   "file_extension": ".py",
   "mimetype": "text/x-python",
   "name": "python",
   "nbconvert_exporter": "python",
   "pygments_lexer": "ipython3",
   "version": "3.7.4"
  }
 },
 "nbformat": 4,
 "nbformat_minor": 2
}
