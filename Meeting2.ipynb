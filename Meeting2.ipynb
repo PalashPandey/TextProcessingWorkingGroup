{
 "cells": [
  {
   "cell_type": "markdown",
   "metadata": {},
   "source": [
    "# Meeting 2! \n",
    "\n",
    "# Thanks for coming back! \n",
    "\n",
    "# Agenda\n",
    "\n",
    "\n",
    "## Today we will apply the concepts we learned in the first meeting in an interactive project. \n",
    "\n",
    "\n",
    "## We will create a content based recommender system that would suggest courses simillar to the ones that we like. \n",
    "\n",
    "To begin, we first need to acquire some data. One very interesting place do to so could be drexel's course catalog (http://catalog.drexel.edu/coursedescriptions/quarter/undergrad/). If we start from here we can get all the course listings for all the courses for all different colleges and then use those the text descriptions for our purpose. \n"
   ]
  },
  {
   "cell_type": "code",
   "execution_count": 1,
   "metadata": {},
   "outputs": [],
   "source": [
    "import requests\n",
    "from bs4 import BeautifulSoup\n",
    "import pandas as pd\n",
    "import sklearn\n",
    "from sklearn.metrics.pairwise import linear_kernel\n",
    "from gensim.models import Word2Vec\n",
    "import logging  # Setting up the loggings to monitor gensim\n",
    "logging.basicConfig(format=\"%(levelname)s - %(asctime)s: %(message)s\", datefmt= '%H:%M:%S', level=logging.INFO)\n",
    "from sklearn.manifold import TSNE\n",
    "import spacy\n",
    "import en_core_web_sm\n",
    "import numpy as np"
   ]
  },
  {
   "cell_type": "code",
   "execution_count": null,
   "metadata": {},
   "outputs": [],
   "source": [
    "!pip install beautifulsoup4"
   ]
  },
  {
   "cell_type": "markdown",
   "metadata": {},
   "source": [
    "Beautifulsoup is an astonishingly useful library to parse HTML. We can use it here to get links to the courses for all the colleges and then all the courses subsequently. "
   ]
  },
  {
   "cell_type": "code",
   "execution_count": 2,
   "metadata": {},
   "outputs": [
    {
     "data": {
      "text/plain": [
       "'<!DOCTYPE html PUBLIC \"-//W3C//DTD XHTML 1.0 Transitional//EN\" \"http://www.w3.org/TR/xhtml1/DTD/xhtml1-transitional.dtd\">\\n<html xmlns=\"http://www.w3.org/1999/xhtml\">\\n\\n<head>\\n<title>Undergraduate &lt; 2019-2020 Catalog | Drexel University</title>\\n<meta http-equiv=\"Content-Type\" content=\"text/html; charset=utf-8\" />\\n<meta name=\"google-site-verification\" content=\"LnQFIpujtH5SBNWtg5epHrmxj2C9vrkw7fOJegSnNnQ\" />\\n<link rel=\"search\" type=\"application/opensearchdescription+xml\"\\n\\t\\t\\thref=\"/search/opensearch.xml\" title=\"Catalog\" />\\n<meta name=\"viewport\" content=\"width=device-width, initial-scale=1.0, minimum-scale=1.0\" />\\n<link href=\"/favicon.ico\" rel=\"shortcut icon\" />\\n<link rel=\"stylesheet\" type=\"text/css\" href=\"/css/reset.css\" />\\n<link rel=\"stylesheet\" type=\"text/css\" href=\"/css/screen.css\" media=\"screen\" />\\n<link rel=\"stylesheet\" type=\"text/css\" href=\"/css/handheld.css\" media=\"only screen and (max-width: 640px)\" />\\n<link rel=\"stylesheet\" type=\"text/css\" href=\"/css/print.css\" media=\"print\" />\\n'"
      ]
     },
     "execution_count": 2,
     "metadata": {},
     "output_type": "execute_result"
    }
   ],
   "source": [
    "data = requests.get(\"http://catalog.drexel.edu/coursedescriptions/quarter/undergrad/\")\n",
    "\n",
    "data.text[:1000]"
   ]
  },
  {
   "cell_type": "code",
   "execution_count": 3,
   "metadata": {},
   "outputs": [],
   "source": [
    "link_page_soup = BeautifulSoup(data.text, 'html.parser')"
   ]
  },
  {
   "cell_type": "code",
   "execution_count": 4,
   "metadata": {},
   "outputs": [
    {
     "data": {
      "text/plain": [
       "15"
      ]
     },
     "execution_count": 4,
     "metadata": {},
     "output_type": "execute_result"
    }
   ],
   "source": [
    "# To find all the links to course descriptions\n",
    "\n",
    "list_link_divs = link_page_soup.find_all(\"div\", class_=\"qugcourses\")\n",
    "len(list_link_divs)"
   ]
  },
  {
   "cell_type": "code",
   "execution_count": 5,
   "metadata": {},
   "outputs": [],
   "source": [
    "list_links_a = []\n",
    "for div in list_link_divs:\n",
    "#     print(div.find_all(\"a\"))\n",
    "#     print(\"*\"*100)\n",
    "    for a in div.find_all(\"a\",  href=True):\n",
    "#         print(\"http://catalog.drexel.edu/\" + a['href'])\n",
    "        list_links_a.append(\"http://catalog.drexel.edu/\" + a['href'] )"
   ]
  },
  {
   "cell_type": "code",
   "execution_count": 6,
   "metadata": {},
   "outputs": [],
   "source": [
    "course_name_description_list = []\n",
    "for course_link in list_links_a:\n",
    "    course_soup = BeautifulSoup(requests.get(course_link).text, 'html.parser')\n",
    "    for course in course_soup.find_all(\"div\", class_=\"courseblock\"):\n",
    "#         print(course.find(\"p\" , class_ = \"courseblocktitle\").text)\n",
    "#         print(course.find(\"p\" , class_ = \"courseblockdesc\").text)        \n",
    "        course_name_description_list.append([course.find(\"p\" , class_ = \"courseblocktitle\").text, course.find(\"p\" , class_ = \"courseblockdesc\").text ])"
   ]
  },
  {
   "cell_type": "markdown",
   "metadata": {},
   "source": [
    "As you can probably see, the data that we extract is fairly messy, we need some preprocessing before we can start to play with it."
   ]
  },
  {
   "cell_type": "code",
   "execution_count": 7,
   "metadata": {
    "scrolled": true
   },
   "outputs": [
    {
     "data": {
      "text/html": [
       "<div>\n",
       "<style scoped>\n",
       "    .dataframe tbody tr th:only-of-type {\n",
       "        vertical-align: middle;\n",
       "    }\n",
       "\n",
       "    .dataframe tbody tr th {\n",
       "        vertical-align: top;\n",
       "    }\n",
       "\n",
       "    .dataframe thead th {\n",
       "        text-align: right;\n",
       "    }\n",
       "</style>\n",
       "<table border=\"1\" class=\"dataframe\">\n",
       "  <thead>\n",
       "    <tr style=\"text-align: right;\">\n",
       "      <th></th>\n",
       "      <th>TitleBlock</th>\n",
       "      <th>DescriptionBlock</th>\n",
       "    </tr>\n",
       "  </thead>\n",
       "  <tbody>\n",
       "    <tr>\n",
       "      <td>0</td>\n",
       "      <td>ADGD I199  Independent Study in ADGD 0.0-12.0 ...</td>\n",
       "      <td>\\nSelf-directed within the area of study requi...</td>\n",
       "    </tr>\n",
       "    <tr>\n",
       "      <td>1</td>\n",
       "      <td>ADGD I299  Independent Study in ADGD 0.0-12.0 ...</td>\n",
       "      <td>\\nSelf-directed within the area of study requi...</td>\n",
       "    </tr>\n",
       "    <tr>\n",
       "      <td>2</td>\n",
       "      <td>ADGD I399  Independent Study in ADGD 0.0-12.0 ...</td>\n",
       "      <td>\\nSelf-directed within the area of study requi...</td>\n",
       "    </tr>\n",
       "    <tr>\n",
       "      <td>3</td>\n",
       "      <td>ADGD I499  Independent Study in ADGD 0.0-12.0 ...</td>\n",
       "      <td>\\nSelf-directed within the area of study requi...</td>\n",
       "    </tr>\n",
       "    <tr>\n",
       "      <td>4</td>\n",
       "      <td>ADGD T180  Special Topics in Advertising Desig...</td>\n",
       "      <td>\\nTopics decided upon by faculty will vary wit...</td>\n",
       "    </tr>\n",
       "    <tr>\n",
       "      <td>...</td>\n",
       "      <td>...</td>\n",
       "      <td>...</td>\n",
       "    </tr>\n",
       "    <tr>\n",
       "      <td>4761</td>\n",
       "      <td>NSC 302  Weapons 2.0 Credits</td>\n",
       "      <td>\\nThis course provides an overview of the theo...</td>\n",
       "    </tr>\n",
       "    <tr>\n",
       "      <td>4762</td>\n",
       "      <td>NSC 310  Evolution of Warfare 2.0 Credits</td>\n",
       "      <td>\\nThis course is designed to add broad histori...</td>\n",
       "    </tr>\n",
       "    <tr>\n",
       "      <td>4763</td>\n",
       "      <td>NSC 401  Navigation II 2.0 Credits</td>\n",
       "      <td>\\nInsight into modern naval operations is gain...</td>\n",
       "    </tr>\n",
       "    <tr>\n",
       "      <td>4764</td>\n",
       "      <td>NSC 402  Leadership and Ethics 2.0 Credits</td>\n",
       "      <td>\\nThe capstone course of the NROTC curriculum,...</td>\n",
       "    </tr>\n",
       "    <tr>\n",
       "      <td>4765</td>\n",
       "      <td>NSC 410  Amphibious Warfare 2.0 Credits</td>\n",
       "      <td>\\nManeuver Warfare is designed to provide a fo...</td>\n",
       "    </tr>\n",
       "  </tbody>\n",
       "</table>\n",
       "<p>4766 rows × 2 columns</p>\n",
       "</div>"
      ],
      "text/plain": [
       "                                             TitleBlock  \\\n",
       "0     ADGD I199  Independent Study in ADGD 0.0-12.0 ...   \n",
       "1     ADGD I299  Independent Study in ADGD 0.0-12.0 ...   \n",
       "2     ADGD I399  Independent Study in ADGD 0.0-12.0 ...   \n",
       "3     ADGD I499  Independent Study in ADGD 0.0-12.0 ...   \n",
       "4     ADGD T180  Special Topics in Advertising Desig...   \n",
       "...                                                 ...   \n",
       "4761                       NSC 302  Weapons 2.0 Credits   \n",
       "4762          NSC 310  Evolution of Warfare 2.0 Credits   \n",
       "4763                 NSC 401  Navigation II 2.0 Credits   \n",
       "4764         NSC 402  Leadership and Ethics 2.0 Credits   \n",
       "4765            NSC 410  Amphibious Warfare 2.0 Credits   \n",
       "\n",
       "                                       DescriptionBlock  \n",
       "0     \\nSelf-directed within the area of study requi...  \n",
       "1     \\nSelf-directed within the area of study requi...  \n",
       "2     \\nSelf-directed within the area of study requi...  \n",
       "3     \\nSelf-directed within the area of study requi...  \n",
       "4     \\nTopics decided upon by faculty will vary wit...  \n",
       "...                                                 ...  \n",
       "4761  \\nThis course provides an overview of the theo...  \n",
       "4762  \\nThis course is designed to add broad histori...  \n",
       "4763  \\nInsight into modern naval operations is gain...  \n",
       "4764  \\nThe capstone course of the NROTC curriculum,...  \n",
       "4765  \\nManeuver Warfare is designed to provide a fo...  \n",
       "\n",
       "[4766 rows x 2 columns]"
      ]
     },
     "execution_count": 7,
     "metadata": {},
     "output_type": "execute_result"
    }
   ],
   "source": [
    "course_df = pd.DataFrame(course_name_description_list)\n",
    "course_df.columns = [\"TitleBlock\" , \"DescriptionBlock\"]\n",
    "course_df"
   ]
  },
  {
   "cell_type": "markdown",
   "metadata": {},
   "source": [
    "We can use regular expressions to extract the three pieces of data that we need from the TitleBlock. "
   ]
  },
  {
   "cell_type": "code",
   "execution_count": 8,
   "metadata": {},
   "outputs": [],
   "source": [
    "course_df = pd.concat([course_df,  course_df.TitleBlock.str.extract(r\"(.*\\s*\\d{3,5})\\s*(.*)(\\d.\\d)\") ], axis =1 )\n",
    "\n",
    "course_df.columns = [\"TitleBlock\" , \"DescriptionBlock\", \"CourseID\" , \"CourseName\" , \"Credits\" ]\n"
   ]
  },
  {
   "cell_type": "code",
   "execution_count": 9,
   "metadata": {},
   "outputs": [],
   "source": [
    "course_df.DescriptionBlock = course_df.DescriptionBlock.str.replace(\"\\n\", \"\")\n"
   ]
  },
  {
   "cell_type": "code",
   "execution_count": 34,
   "metadata": {},
   "outputs": [
    {
     "data": {
      "text/html": [
       "<div>\n",
       "<style scoped>\n",
       "    .dataframe tbody tr th:only-of-type {\n",
       "        vertical-align: middle;\n",
       "    }\n",
       "\n",
       "    .dataframe tbody tr th {\n",
       "        vertical-align: top;\n",
       "    }\n",
       "\n",
       "    .dataframe thead th {\n",
       "        text-align: right;\n",
       "    }\n",
       "</style>\n",
       "<table border=\"1\" class=\"dataframe\">\n",
       "  <thead>\n",
       "    <tr style=\"text-align: right;\">\n",
       "      <th></th>\n",
       "      <th>TitleBlock</th>\n",
       "      <th>DescriptionBlock</th>\n",
       "      <th>CourseID</th>\n",
       "      <th>CourseName</th>\n",
       "      <th>Credits</th>\n",
       "      <th>tf_idf_vector</th>\n",
       "    </tr>\n",
       "  </thead>\n",
       "  <tbody>\n",
       "    <tr>\n",
       "      <td>0</td>\n",
       "      <td>ADGD I199  Independent Study in ADGD 0.0-12.0 ...</td>\n",
       "      <td>Self-directed within the area of study requiri...</td>\n",
       "      <td>ADGD I199</td>\n",
       "      <td>Independent Study in ADGD 0.0-1</td>\n",
       "      <td>2.0</td>\n",
       "      <td>[0.0, 0.0, 0.0, 0.0, 0.0, 0.0, 0.0, 0.0, 0.0, ...</td>\n",
       "    </tr>\n",
       "    <tr>\n",
       "      <td>1</td>\n",
       "      <td>ADGD I299  Independent Study in ADGD 0.0-12.0 ...</td>\n",
       "      <td>Self-directed within the area of study requiri...</td>\n",
       "      <td>ADGD I299</td>\n",
       "      <td>Independent Study in ADGD 0.0-1</td>\n",
       "      <td>2.0</td>\n",
       "      <td>[0.0, 0.0, 0.0, 0.0, 0.0, 0.0, 0.0, 0.0, 0.0, ...</td>\n",
       "    </tr>\n",
       "    <tr>\n",
       "      <td>2</td>\n",
       "      <td>ADGD I399  Independent Study in ADGD 0.0-12.0 ...</td>\n",
       "      <td>Self-directed within the area of study requiri...</td>\n",
       "      <td>ADGD I399</td>\n",
       "      <td>Independent Study in ADGD 0.0-1</td>\n",
       "      <td>2.0</td>\n",
       "      <td>[0.0, 0.0, 0.0, 0.0, 0.0, 0.0, 0.0, 0.0, 0.0, ...</td>\n",
       "    </tr>\n",
       "    <tr>\n",
       "      <td>3</td>\n",
       "      <td>ADGD I499  Independent Study in ADGD 0.0-12.0 ...</td>\n",
       "      <td>Self-directed within the area of study requiri...</td>\n",
       "      <td>ADGD I499</td>\n",
       "      <td>Independent Study in ADGD 0.0-1</td>\n",
       "      <td>2.0</td>\n",
       "      <td>[0.0, 0.0, 0.0, 0.0, 0.0, 0.0, 0.0, 0.0, 0.0, ...</td>\n",
       "    </tr>\n",
       "    <tr>\n",
       "      <td>4</td>\n",
       "      <td>ADGD T180  Special Topics in Advertising Desig...</td>\n",
       "      <td>Topics decided upon by faculty will vary withi...</td>\n",
       "      <td>ADGD T180</td>\n",
       "      <td>Special Topics in Advertising Design 0.0-1</td>\n",
       "      <td>2.0</td>\n",
       "      <td>[0.0, 0.0, 0.0, 0.0, 0.0, 0.0, 0.0, 0.0, 0.0, ...</td>\n",
       "    </tr>\n",
       "    <tr>\n",
       "      <td>...</td>\n",
       "      <td>...</td>\n",
       "      <td>...</td>\n",
       "      <td>...</td>\n",
       "      <td>...</td>\n",
       "      <td>...</td>\n",
       "      <td>...</td>\n",
       "    </tr>\n",
       "    <tr>\n",
       "      <td>4761</td>\n",
       "      <td>NSC 302  Weapons 2.0 Credits</td>\n",
       "      <td>This course provides an overview of the theory...</td>\n",
       "      <td>NSC 302</td>\n",
       "      <td>Weapons</td>\n",
       "      <td>2.0</td>\n",
       "      <td>[0.0, 0.0, 0.0, 0.0, 0.0, 0.0, 0.0, 0.0, 0.0, ...</td>\n",
       "    </tr>\n",
       "    <tr>\n",
       "      <td>4762</td>\n",
       "      <td>NSC 310  Evolution of Warfare 2.0 Credits</td>\n",
       "      <td>This course is designed to add broad historica...</td>\n",
       "      <td>NSC 310</td>\n",
       "      <td>Evolution of Warfare</td>\n",
       "      <td>2.0</td>\n",
       "      <td>[0.0, 0.0, 0.0, 0.0, 0.0, 0.0, 0.0, 0.0, 0.0, ...</td>\n",
       "    </tr>\n",
       "    <tr>\n",
       "      <td>4763</td>\n",
       "      <td>NSC 401  Navigation II 2.0 Credits</td>\n",
       "      <td>Insight into modern naval operations is gained...</td>\n",
       "      <td>NSC 401</td>\n",
       "      <td>Navigation II</td>\n",
       "      <td>2.0</td>\n",
       "      <td>[0.0, 0.0, 0.0, 0.0, 0.0, 0.0, 0.0, 0.0, 0.0, ...</td>\n",
       "    </tr>\n",
       "    <tr>\n",
       "      <td>4764</td>\n",
       "      <td>NSC 402  Leadership and Ethics 2.0 Credits</td>\n",
       "      <td>The capstone course of the NROTC curriculum, t...</td>\n",
       "      <td>NSC 402</td>\n",
       "      <td>Leadership and Ethics</td>\n",
       "      <td>2.0</td>\n",
       "      <td>[0.0, 0.0, 0.0, 0.0, 0.0, 0.0, 0.0, 0.0, 0.0, ...</td>\n",
       "    </tr>\n",
       "    <tr>\n",
       "      <td>4765</td>\n",
       "      <td>NSC 410  Amphibious Warfare 2.0 Credits</td>\n",
       "      <td>Maneuver Warfare is designed to provide a foun...</td>\n",
       "      <td>NSC 410</td>\n",
       "      <td>Amphibious Warfare</td>\n",
       "      <td>2.0</td>\n",
       "      <td>[0.0, 0.0, 0.0, 0.0, 0.0, 0.0, 0.0, 0.0, 0.0, ...</td>\n",
       "    </tr>\n",
       "  </tbody>\n",
       "</table>\n",
       "<p>4766 rows × 6 columns</p>\n",
       "</div>"
      ],
      "text/plain": [
       "                                             TitleBlock  \\\n",
       "0     ADGD I199  Independent Study in ADGD 0.0-12.0 ...   \n",
       "1     ADGD I299  Independent Study in ADGD 0.0-12.0 ...   \n",
       "2     ADGD I399  Independent Study in ADGD 0.0-12.0 ...   \n",
       "3     ADGD I499  Independent Study in ADGD 0.0-12.0 ...   \n",
       "4     ADGD T180  Special Topics in Advertising Desig...   \n",
       "...                                                 ...   \n",
       "4761                       NSC 302  Weapons 2.0 Credits   \n",
       "4762          NSC 310  Evolution of Warfare 2.0 Credits   \n",
       "4763                 NSC 401  Navigation II 2.0 Credits   \n",
       "4764         NSC 402  Leadership and Ethics 2.0 Credits   \n",
       "4765            NSC 410  Amphibious Warfare 2.0 Credits   \n",
       "\n",
       "                                       DescriptionBlock   CourseID  \\\n",
       "0     Self-directed within the area of study requiri...  ADGD I199   \n",
       "1     Self-directed within the area of study requiri...  ADGD I299   \n",
       "2     Self-directed within the area of study requiri...  ADGD I399   \n",
       "3     Self-directed within the area of study requiri...  ADGD I499   \n",
       "4     Topics decided upon by faculty will vary withi...  ADGD T180   \n",
       "...                                                 ...        ...   \n",
       "4761  This course provides an overview of the theory...    NSC 302   \n",
       "4762  This course is designed to add broad historica...    NSC 310   \n",
       "4763  Insight into modern naval operations is gained...    NSC 401   \n",
       "4764  The capstone course of the NROTC curriculum, t...    NSC 402   \n",
       "4765  Maneuver Warfare is designed to provide a foun...    NSC 410   \n",
       "\n",
       "                                      CourseName Credits  \\\n",
       "0                Independent Study in ADGD 0.0-1     2.0   \n",
       "1                Independent Study in ADGD 0.0-1     2.0   \n",
       "2                Independent Study in ADGD 0.0-1     2.0   \n",
       "3                Independent Study in ADGD 0.0-1     2.0   \n",
       "4     Special Topics in Advertising Design 0.0-1     2.0   \n",
       "...                                          ...     ...   \n",
       "4761                                    Weapons      2.0   \n",
       "4762                       Evolution of Warfare      2.0   \n",
       "4763                              Navigation II      2.0   \n",
       "4764                      Leadership and Ethics      2.0   \n",
       "4765                         Amphibious Warfare      2.0   \n",
       "\n",
       "                                          tf_idf_vector  \n",
       "0     [0.0, 0.0, 0.0, 0.0, 0.0, 0.0, 0.0, 0.0, 0.0, ...  \n",
       "1     [0.0, 0.0, 0.0, 0.0, 0.0, 0.0, 0.0, 0.0, 0.0, ...  \n",
       "2     [0.0, 0.0, 0.0, 0.0, 0.0, 0.0, 0.0, 0.0, 0.0, ...  \n",
       "3     [0.0, 0.0, 0.0, 0.0, 0.0, 0.0, 0.0, 0.0, 0.0, ...  \n",
       "4     [0.0, 0.0, 0.0, 0.0, 0.0, 0.0, 0.0, 0.0, 0.0, ...  \n",
       "...                                                 ...  \n",
       "4761  [0.0, 0.0, 0.0, 0.0, 0.0, 0.0, 0.0, 0.0, 0.0, ...  \n",
       "4762  [0.0, 0.0, 0.0, 0.0, 0.0, 0.0, 0.0, 0.0, 0.0, ...  \n",
       "4763  [0.0, 0.0, 0.0, 0.0, 0.0, 0.0, 0.0, 0.0, 0.0, ...  \n",
       "4764  [0.0, 0.0, 0.0, 0.0, 0.0, 0.0, 0.0, 0.0, 0.0, ...  \n",
       "4765  [0.0, 0.0, 0.0, 0.0, 0.0, 0.0, 0.0, 0.0, 0.0, ...  \n",
       "\n",
       "[4766 rows x 6 columns]"
      ]
     },
     "execution_count": 34,
     "metadata": {},
     "output_type": "execute_result"
    }
   ],
   "source": [
    "course_df"
   ]
  },
  {
   "cell_type": "markdown",
   "metadata": {},
   "source": [
    "You might remember TF-IDF from our last meeting. It is a way to represent sentences (documents) using their frequency and unique-ness. We use TF-IDF here to get vector representation of our course descriptions. "
   ]
  },
  {
   "cell_type": "code",
   "execution_count": 16,
   "metadata": {},
   "outputs": [],
   "source": [
    "from sklearn.feature_extraction.text import TfidfVectorizer\n",
    "tfidf_vectorizer = TfidfVectorizer(use_idf=True)\n",
    "tfidf_matrix = tfidf_vectorizer.fit_transform(course_df[\"DescriptionBlock\"])"
   ]
  },
  {
   "cell_type": "code",
   "execution_count": 17,
   "metadata": {},
   "outputs": [
    {
     "data": {
      "text/plain": [
       "(4766, 9971)"
      ]
     },
     "execution_count": 17,
     "metadata": {},
     "output_type": "execute_result"
    }
   ],
   "source": [
    "tfidf_matrix.shape"
   ]
  },
  {
   "cell_type": "code",
   "execution_count": 36,
   "metadata": {},
   "outputs": [
    {
     "data": {
      "text/plain": [
       "matrix([[0., 0., 0., ..., 0., 0., 0.],\n",
       "        [0., 0., 0., ..., 0., 0., 0.],\n",
       "        [0., 0., 0., ..., 0., 0., 0.],\n",
       "        ...,\n",
       "        [0., 0., 0., ..., 0., 0., 0.],\n",
       "        [0., 0., 0., ..., 0., 0., 0.],\n",
       "        [0., 0., 0., ..., 0., 0., 0.]])"
      ]
     },
     "execution_count": 36,
     "metadata": {},
     "output_type": "execute_result"
    }
   ],
   "source": [
    "tfidf_matrix.todense()"
   ]
  },
  {
   "cell_type": "code",
   "execution_count": 18,
   "metadata": {},
   "outputs": [],
   "source": [
    "course_df[\"tf_idf_vector\"] = pd.DataFrame(tfidf_matrix.todense()).values.tolist()"
   ]
  },
  {
   "cell_type": "code",
   "execution_count": 37,
   "metadata": {},
   "outputs": [
    {
     "data": {
      "text/plain": [
       "0       [0.0, 0.0, 0.0, 0.0, 0.0, 0.0, 0.0, 0.0, 0.0, ...\n",
       "1       [0.0, 0.0, 0.0, 0.0, 0.0, 0.0, 0.0, 0.0, 0.0, ...\n",
       "2       [0.0, 0.0, 0.0, 0.0, 0.0, 0.0, 0.0, 0.0, 0.0, ...\n",
       "3       [0.0, 0.0, 0.0, 0.0, 0.0, 0.0, 0.0, 0.0, 0.0, ...\n",
       "4       [0.0, 0.0, 0.0, 0.0, 0.0, 0.0, 0.0, 0.0, 0.0, ...\n",
       "                              ...                        \n",
       "4761    [0.0, 0.0, 0.0, 0.0, 0.0, 0.0, 0.0, 0.0, 0.0, ...\n",
       "4762    [0.0, 0.0, 0.0, 0.0, 0.0, 0.0, 0.0, 0.0, 0.0, ...\n",
       "4763    [0.0, 0.0, 0.0, 0.0, 0.0, 0.0, 0.0, 0.0, 0.0, ...\n",
       "4764    [0.0, 0.0, 0.0, 0.0, 0.0, 0.0, 0.0, 0.0, 0.0, ...\n",
       "4765    [0.0, 0.0, 0.0, 0.0, 0.0, 0.0, 0.0, 0.0, 0.0, ...\n",
       "Name: tf_idf_vector, Length: 4766, dtype: object"
      ]
     },
     "execution_count": 37,
     "metadata": {},
     "output_type": "execute_result"
    }
   ],
   "source": [
    "course_df[\"tf_idf_vector\"]"
   ]
  },
  {
   "cell_type": "code",
   "execution_count": 19,
   "metadata": {},
   "outputs": [
    {
     "data": {
      "text/plain": [
       "Index(['TitleBlock', 'DescriptionBlock', 'CourseID', 'CourseName', 'Credits',\n",
       "       'tf_idf_vector'],\n",
       "      dtype='object')"
      ]
     },
     "execution_count": 19,
     "metadata": {},
     "output_type": "execute_result"
    }
   ],
   "source": [
    "course_df[\"CourseID\"] = course_df[\"CourseID\"].str.replace(\"\\xa0\", ' ')\n",
    "course_df.columns\n",
    "# [\"tf_idf_vector\"]"
   ]
  },
  {
   "attachments": {
    "cosine_similarity_formula.png": {
     "image/png": "[encoded data removed]"
    },
    "cosine_similarity_graph.png": {
     "image/png": "[encoded data removed]"
    }
   },
   "cell_type": "markdown",
   "metadata": {},
   "source": [
    "Cosine similarity is just the cosine of angles between two vectors. \n",
    "\n",
    "![cosine_similarity_formula.png](attachment:cosine_similarity_formula.png)        \n",
    "\n",
    "\n",
    "\n",
    "![cosine_similarity_graph.png](attachment:cosine_similarity_graph.png)"
   ]
  },
  {
   "cell_type": "code",
   "execution_count": 20,
   "metadata": {},
   "outputs": [],
   "source": [
    "def get_tf_idf_by_course(course_name):\n",
    "    return np.array(np.array(course_df[course_df[\"CourseID\"] == course_name][\"tf_idf_vector\"])[0]).reshape(1, -1)\n",
    "\n",
    "\n",
    "def get_cosine_similarity(course_a , course_b):\n",
    "    return sklearn.metrics.pairwise.cosine_similarity(get_tf_idf_by_course(course_a) , get_tf_idf_by_course(course_b) )     "
   ]
  },
  {
   "cell_type": "code",
   "execution_count": 21,
   "metadata": {},
   "outputs": [
    {
     "data": {
      "text/plain": [
       "array([[0.06270216]])"
      ]
     },
     "execution_count": 21,
     "metadata": {},
     "output_type": "execute_result"
    }
   ],
   "source": [
    "sklearn.metrics.pairwise.cosine_similarity(get_tf_idf_by_course(\"CS 171\") , get_tf_idf_by_course(\"INFO 151\") ) \n",
    "# get_tf_idf_by_course(\"CS 172\")"
   ]
  },
  {
   "cell_type": "code",
   "execution_count": 22,
   "metadata": {},
   "outputs": [
    {
     "data": {
      "text/plain": [
       "array([[0.04055797]])"
      ]
     },
     "execution_count": 22,
     "metadata": {},
     "output_type": "execute_result"
    }
   ],
   "source": [
    "get_cosine_similarity(\"CS 171\", \"INFO 152\")"
   ]
  },
  {
   "cell_type": "code",
   "execution_count": 38,
   "metadata": {},
   "outputs": [
    {
     "data": {
      "text/plain": [
       "array([[0.03573379]])"
      ]
     },
     "execution_count": 38,
     "metadata": {},
     "output_type": "execute_result"
    }
   ],
   "source": [
    "get_cosine_similarity(\"CS 171\", \"ENGL 101\")"
   ]
  },
  {
   "cell_type": "code",
   "execution_count": 24,
   "metadata": {},
   "outputs": [
    {
     "data": {
      "text/plain": [
       "array([[0.3894445]])"
      ]
     },
     "execution_count": 24,
     "metadata": {},
     "output_type": "execute_result"
    }
   ],
   "source": [
    "get_cosine_similarity(\"ENGL 101\", \"ENGL 102\")"
   ]
  },
  {
   "cell_type": "code",
   "execution_count": 25,
   "metadata": {},
   "outputs": [
    {
     "data": {
      "text/plain": [
       "array([[1.]])"
      ]
     },
     "execution_count": 25,
     "metadata": {},
     "output_type": "execute_result"
    }
   ],
   "source": [
    "sklearn.metrics.pairwise.cosine_similarity(np.array(course_df[\"tf_idf_vector\"].values[0]).reshape(1, -1)  )     "
   ]
  },
  {
   "cell_type": "code",
   "execution_count": 26,
   "metadata": {},
   "outputs": [
    {
     "data": {
      "text/plain": [
       "0       [0.0, 0.0, 0.0, 0.0, 0.0, 0.0, 0.0, 0.0, 0.0, ...\n",
       "1       [0.0, 0.0, 0.0, 0.0, 0.0, 0.0, 0.0, 0.0, 0.0, ...\n",
       "2       [0.0, 0.0, 0.0, 0.0, 0.0, 0.0, 0.0, 0.0, 0.0, ...\n",
       "3       [0.0, 0.0, 0.0, 0.0, 0.0, 0.0, 0.0, 0.0, 0.0, ...\n",
       "4       [0.0, 0.0, 0.0, 0.0, 0.0, 0.0, 0.0, 0.0, 0.0, ...\n",
       "                              ...                        \n",
       "4761    [0.0, 0.0, 0.0, 0.0, 0.0, 0.0, 0.0, 0.0, 0.0, ...\n",
       "4762    [0.0, 0.0, 0.0, 0.0, 0.0, 0.0, 0.0, 0.0, 0.0, ...\n",
       "4763    [0.0, 0.0, 0.0, 0.0, 0.0, 0.0, 0.0, 0.0, 0.0, ...\n",
       "4764    [0.0, 0.0, 0.0, 0.0, 0.0, 0.0, 0.0, 0.0, 0.0, ...\n",
       "4765    [0.0, 0.0, 0.0, 0.0, 0.0, 0.0, 0.0, 0.0, 0.0, ...\n",
       "Name: tf_idf_vector, Length: 4766, dtype: object"
      ]
     },
     "execution_count": 26,
     "metadata": {},
     "output_type": "execute_result"
    }
   ],
   "source": [
    "\n",
    "course_df[\"tf_idf_vector\"] = course_df[\"tf_idf_vector\"].apply(lambda x: np.array(x))\n",
    "\n",
    "course_df[\"tf_idf_vector\"]\n",
    "\n"
   ]
  },
  {
   "cell_type": "code",
   "execution_count": 27,
   "metadata": {},
   "outputs": [],
   "source": [
    "tf_idf_cosine_sim = linear_kernel(tfidf_matrix , tfidf_matrix)"
   ]
  },
  {
   "cell_type": "code",
   "execution_count": 29,
   "metadata": {},
   "outputs": [],
   "source": [
    "def get_recommendations(title, cosine_sim=tf_idf_cosine_sim):\n",
    "    # Get the index of the movie that matches the title\n",
    "    idx = pd.Index(course_df[\"CourseID\"]).get_loc(title)\n",
    "#     print(idx)\n",
    "    \n",
    "#     # Get the pairwsie similarity scores of all movies with that movie\n",
    "    sim_scores = list(enumerate(cosine_sim[idx]))\n",
    "\n",
    "    # Sort the movies based on the similarity scores\n",
    "    sim_scores = sorted(sim_scores, key=lambda x: x[1], reverse=True)\n",
    "\n",
    "    # Get the scores of the 10 most similar movies\n",
    "    sim_scores = sim_scores[1:11]\n",
    "\n",
    "    # Get the movie indices\n",
    "    movie_indices = [i[0] for i in sim_scores]\n",
    "\n",
    "    # Return the top 10 most similar movies\n",
    "    return course_df[['CourseID','CourseName'] ].iloc[movie_indices]"
   ]
  },
  {
   "cell_type": "code",
   "execution_count": 30,
   "metadata": {},
   "outputs": [
    {
     "data": {
      "text/html": [
       "<div>\n",
       "<style scoped>\n",
       "    .dataframe tbody tr th:only-of-type {\n",
       "        vertical-align: middle;\n",
       "    }\n",
       "\n",
       "    .dataframe tbody tr th {\n",
       "        vertical-align: top;\n",
       "    }\n",
       "\n",
       "    .dataframe thead th {\n",
       "        text-align: right;\n",
       "    }\n",
       "</style>\n",
       "<table border=\"1\" class=\"dataframe\">\n",
       "  <thead>\n",
       "    <tr style=\"text-align: right;\">\n",
       "      <th></th>\n",
       "      <th>CourseID</th>\n",
       "      <th>CourseName</th>\n",
       "    </tr>\n",
       "  </thead>\n",
       "  <tbody>\n",
       "    <tr>\n",
       "      <td>3016</td>\n",
       "      <td>CS 176</td>\n",
       "      <td>Advanced Computer Programming II</td>\n",
       "    </tr>\n",
       "    <tr>\n",
       "      <td>3009</td>\n",
       "      <td>CS 143</td>\n",
       "      <td>Computer Programming Fundamentals</td>\n",
       "    </tr>\n",
       "    <tr>\n",
       "      <td>3490</td>\n",
       "      <td>ECE 203</td>\n",
       "      <td>Programming for Engineers</td>\n",
       "    </tr>\n",
       "    <tr>\n",
       "      <td>2756</td>\n",
       "      <td>MIS 348</td>\n",
       "      <td>Visual Basic Database Programming for Business</td>\n",
       "    </tr>\n",
       "    <tr>\n",
       "      <td>3019</td>\n",
       "      <td>CS 265</td>\n",
       "      <td>Advanced Programming Tools and Techniques</td>\n",
       "    </tr>\n",
       "    <tr>\n",
       "      <td>3008</td>\n",
       "      <td>CS 140</td>\n",
       "      <td>Introduction to Multimedia Programming</td>\n",
       "    </tr>\n",
       "    <tr>\n",
       "      <td>2752</td>\n",
       "      <td>MIS 342</td>\n",
       "      <td>Systems Analysis and Design</td>\n",
       "    </tr>\n",
       "    <tr>\n",
       "      <td>3136</td>\n",
       "      <td>INFO 355</td>\n",
       "      <td>Systems Analysis II</td>\n",
       "    </tr>\n",
       "    <tr>\n",
       "      <td>3158</td>\n",
       "      <td>SE 320</td>\n",
       "      <td>Software Verification and Validation</td>\n",
       "    </tr>\n",
       "    <tr>\n",
       "      <td>3015</td>\n",
       "      <td>CS 175</td>\n",
       "      <td>Advanced Computer Programming I</td>\n",
       "    </tr>\n",
       "  </tbody>\n",
       "</table>\n",
       "</div>"
      ],
      "text/plain": [
       "      CourseID                                       CourseName\n",
       "3016    CS 176                Advanced Computer Programming II \n",
       "3009    CS 143               Computer Programming Fundamentals \n",
       "3490   ECE 203                       Programming for Engineers \n",
       "2756   MIS 348  Visual Basic Database Programming for Business \n",
       "3019    CS 265       Advanced Programming Tools and Techniques \n",
       "3008    CS 140          Introduction to Multimedia Programming \n",
       "2752   MIS 342                     Systems Analysis and Design \n",
       "3136  INFO 355                             Systems Analysis II \n",
       "3158    SE 320            Software Verification and Validation \n",
       "3015    CS 175                 Advanced Computer Programming I "
      ]
     },
     "execution_count": 30,
     "metadata": {},
     "output_type": "execute_result"
    }
   ],
   "source": [
    "get_recommendations(\"CS 172\", tf_idf_cosine_sim)"
   ]
  },
  {
   "cell_type": "code",
   "execution_count": 31,
   "metadata": {},
   "outputs": [
    {
     "data": {
      "text/html": [
       "<div>\n",
       "<style scoped>\n",
       "    .dataframe tbody tr th:only-of-type {\n",
       "        vertical-align: middle;\n",
       "    }\n",
       "\n",
       "    .dataframe tbody tr th {\n",
       "        vertical-align: top;\n",
       "    }\n",
       "\n",
       "    .dataframe thead th {\n",
       "        text-align: right;\n",
       "    }\n",
       "</style>\n",
       "<table border=\"1\" class=\"dataframe\">\n",
       "  <thead>\n",
       "    <tr style=\"text-align: right;\">\n",
       "      <th></th>\n",
       "      <th>CourseID</th>\n",
       "      <th>CourseName</th>\n",
       "    </tr>\n",
       "  </thead>\n",
       "  <tbody>\n",
       "    <tr>\n",
       "      <td>3118</td>\n",
       "      <td>INFO 152</td>\n",
       "      <td>Web Systems and Services II</td>\n",
       "    </tr>\n",
       "    <tr>\n",
       "      <td>578</td>\n",
       "      <td>IDM 101</td>\n",
       "      <td>History of Web Development</td>\n",
       "    </tr>\n",
       "    <tr>\n",
       "      <td>2759</td>\n",
       "      <td>MIS 352</td>\n",
       "      <td>Advanced Business Programming with ASP.Net</td>\n",
       "    </tr>\n",
       "    <tr>\n",
       "      <td>3036</td>\n",
       "      <td>CS 375</td>\n",
       "      <td>Web and Mobile App Development</td>\n",
       "    </tr>\n",
       "    <tr>\n",
       "      <td>584</td>\n",
       "      <td>IDM 221</td>\n",
       "      <td>Web Design I</td>\n",
       "    </tr>\n",
       "    <tr>\n",
       "      <td>585</td>\n",
       "      <td>IDM 222</td>\n",
       "      <td>Web Design II</td>\n",
       "    </tr>\n",
       "    <tr>\n",
       "      <td>597</td>\n",
       "      <td>IDM 364</td>\n",
       "      <td>Interactive App Design IV</td>\n",
       "    </tr>\n",
       "    <tr>\n",
       "      <td>561</td>\n",
       "      <td>VSCM 455</td>\n",
       "      <td>Electronic Portfolio</td>\n",
       "    </tr>\n",
       "    <tr>\n",
       "      <td>1064</td>\n",
       "      <td>WMGD 330</td>\n",
       "      <td>Web Graphics II</td>\n",
       "    </tr>\n",
       "    <tr>\n",
       "      <td>2758</td>\n",
       "      <td>MIS 351</td>\n",
       "      <td>Introduction to Programming for Business in C#</td>\n",
       "    </tr>\n",
       "  </tbody>\n",
       "</table>\n",
       "</div>"
      ],
      "text/plain": [
       "      CourseID                                       CourseName\n",
       "3118  INFO 152                     Web Systems and Services II \n",
       "578    IDM 101                      History of Web Development \n",
       "2759   MIS 352      Advanced Business Programming with ASP.Net \n",
       "3036    CS 375                  Web and Mobile App Development \n",
       "584    IDM 221                                    Web Design I \n",
       "585    IDM 222                                   Web Design II \n",
       "597    IDM 364                       Interactive App Design IV \n",
       "561   VSCM 455                            Electronic Portfolio \n",
       "1064  WMGD 330                                 Web Graphics II \n",
       "2758   MIS 351  Introduction to Programming for Business in C# "
      ]
     },
     "execution_count": 31,
     "metadata": {},
     "output_type": "execute_result"
    }
   ],
   "source": [
    "get_recommendations(\"INFO 151\", tf_idf_cosine_sim)"
   ]
  },
  {
   "cell_type": "code",
   "execution_count": 32,
   "metadata": {},
   "outputs": [
    {
     "data": {
      "text/html": [
       "<div>\n",
       "<style scoped>\n",
       "    .dataframe tbody tr th:only-of-type {\n",
       "        vertical-align: middle;\n",
       "    }\n",
       "\n",
       "    .dataframe tbody tr th {\n",
       "        vertical-align: top;\n",
       "    }\n",
       "\n",
       "    .dataframe thead th {\n",
       "        text-align: right;\n",
       "    }\n",
       "</style>\n",
       "<table border=\"1\" class=\"dataframe\">\n",
       "  <thead>\n",
       "    <tr style=\"text-align: right;\">\n",
       "      <th></th>\n",
       "      <th>CourseID</th>\n",
       "      <th>CourseName</th>\n",
       "    </tr>\n",
       "  </thead>\n",
       "  <tbody>\n",
       "    <tr>\n",
       "      <td>1527</td>\n",
       "      <td>ENGL 111</td>\n",
       "      <td>English Composition I</td>\n",
       "    </tr>\n",
       "    <tr>\n",
       "      <td>1528</td>\n",
       "      <td>ENGL 112</td>\n",
       "      <td>English Composition II</td>\n",
       "    </tr>\n",
       "    <tr>\n",
       "      <td>1524</td>\n",
       "      <td>ENGL 102</td>\n",
       "      <td>Composition and Rhetoric II: Advanced Research...</td>\n",
       "    </tr>\n",
       "    <tr>\n",
       "      <td>1525</td>\n",
       "      <td>ENGL 103</td>\n",
       "      <td>Composition and Rhetoric III: Themes and Genres</td>\n",
       "    </tr>\n",
       "    <tr>\n",
       "      <td>1529</td>\n",
       "      <td>ENGL 113</td>\n",
       "      <td>English Composition III</td>\n",
       "    </tr>\n",
       "    <tr>\n",
       "      <td>1871</td>\n",
       "      <td>HIST 102</td>\n",
       "      <td>Introductory Seminar in History II</td>\n",
       "    </tr>\n",
       "    <tr>\n",
       "      <td>2530</td>\n",
       "      <td>WRIT 220</td>\n",
       "      <td>[WI] Creative Nonfiction Writing</td>\n",
       "    </tr>\n",
       "    <tr>\n",
       "      <td>863</td>\n",
       "      <td>SCRP 260</td>\n",
       "      <td>Writing Comics</td>\n",
       "    </tr>\n",
       "    <tr>\n",
       "      <td>1584</td>\n",
       "      <td>ESL 002</td>\n",
       "      <td>Foundations of Academic Writing</td>\n",
       "    </tr>\n",
       "    <tr>\n",
       "      <td>144</td>\n",
       "      <td>ARTH 150</td>\n",
       "      <td>Art History Research Methods</td>\n",
       "    </tr>\n",
       "  </tbody>\n",
       "</table>\n",
       "</div>"
      ],
      "text/plain": [
       "      CourseID                                         CourseName\n",
       "1527  ENGL 111                             English Composition I \n",
       "1528  ENGL 112                            English Composition II \n",
       "1524  ENGL 102  Composition and Rhetoric II: Advanced Research...\n",
       "1525  ENGL 103   Composition and Rhetoric III: Themes and Genres \n",
       "1529  ENGL 113                           English Composition III \n",
       "1871  HIST 102                Introductory Seminar in History II \n",
       "2530  WRIT 220                  [WI] Creative Nonfiction Writing \n",
       "863   SCRP 260                                    Writing Comics \n",
       "1584   ESL 002                   Foundations of Academic Writing \n",
       "144   ARTH 150                      Art History Research Methods "
      ]
     },
     "execution_count": 32,
     "metadata": {},
     "output_type": "execute_result"
    }
   ],
   "source": [
    "get_recommendations(\"ENGL 101\", tf_idf_cosine_sim)"
   ]
  },
  {
   "cell_type": "markdown",
   "metadata": {},
   "source": [
    "# Cool stuff! Right! \n",
    "\n",
    "\n",
    "We were able to achieve arguably good results while by using a fairly staraightforward tf-idf model, now lets try to represent our courses as concepts,  "
   ]
  },
  {
   "cell_type": "markdown",
   "metadata": {},
   "source": [
    "# Tf-Idf is one way to represent the words but there are better ways\n",
    "\n",
    "# One such way is word embeddings\n",
    "\n",
    "Starting from basics, word embeddings are just another way to get vecor representation of the words but they can perform better than methods like tf-idf because they can look at words in context rather than as individual unrellated units.\n",
    "\n",
    "Simple example could be: \n",
    "    \n",
    "    She loves you.\n",
    "    He loves you.\n",
    "\n",
    "If we just use one hot vectors to repesent words using unique words from these sentences as vocabulary then our vocabulary is {\"she\" , \"he\" , \"love\" , \"you\"}\n",
    "\n",
    "she = {1, 0, 0, 0}, he = {0, 1, 0 , 0} , loves = {0, 0, 1, 0}, you = {0 , 0 , 0 , 1}\n",
    "\n",
    "Here the ideas of he and she are pretty close to each  other, they are both pronouns, signifying a person but they are as different to each other as they are to the words \"loves\" and \"you\". This is not particularly useful if we start to vizualize these word vectors in a 4 dimensional space, because intutively, \"she\" and \"he\" should be close together but if we use just one hot vectors to represent them they are not. \n",
    "\n",
    "\n",
    "Word embeddings like word2vec try to get around this by using the words in context. \n",
    "\n"
   ]
  },
  {
   "cell_type": "code",
   "execution_count": 33,
   "metadata": {},
   "outputs": [],
   "source": [
    "from gensim.models.doc2vec import Doc2Vec, TaggedDocument\n",
    "from nltk.tokenize import word_tokenize"
   ]
  },
  {
   "cell_type": "code",
   "execution_count": null,
   "metadata": {},
   "outputs": [],
   "source": [
    "tagged_data = [TaggedDocument(words=word_tokenize(_d.lower()) , tags=[str(i)]) for i, _d in enumerate(data)]"
   ]
  },
  {
   "cell_type": "code",
   "execution_count": null,
   "metadata": {},
   "outputs": [],
   "source": [
    "# !pip install gensim\n",
    "# !pip install spacy\n",
    "!pip install https://github.com/explosion/spacy-models/releases/download/en_core_web_sm-2.2.0/en_core_web_sm-2.2.0.tar.gz"
   ]
  },
  {
   "cell_type": "code",
   "execution_count": 10,
   "metadata": {},
   "outputs": [],
   "source": [
    "nlp = en_core_web_sm.load()\n"
   ]
  },
  {
   "cell_type": "code",
   "execution_count": 11,
   "metadata": {},
   "outputs": [],
   "source": [
    "def create_token_text_list(text):\n",
    "    doc = nlp(text)\n",
    "    token_text_list = []\n",
    "    for i in doc:\n",
    "        token_text_list.append(i.text)\n",
    "    return token_text_list\n",
    "def convert_string_to_list(text):\n",
    "    return [text.replace(\"\\xa0\", ' ')]"
   ]
  },
  {
   "cell_type": "code",
   "execution_count": 14,
   "metadata": {
    "scrolled": true
   },
   "outputs": [
    {
     "data": {
      "text/plain": [
       "[['Self',\n",
       "  '-',\n",
       "  'directed',\n",
       "  'within',\n",
       "  'the',\n",
       "  'area',\n",
       "  'of',\n",
       "  'study',\n",
       "  'requiring',\n",
       "  'intermittent',\n",
       "  'consultation',\n",
       "  'with',\n",
       "  'a',\n",
       "  'designated',\n",
       "  'instructor',\n",
       "  '.',\n",
       "  'ADGD I199'],\n",
       " ['Self',\n",
       "  '-',\n",
       "  'directed',\n",
       "  'within',\n",
       "  'the',\n",
       "  'area',\n",
       "  'of',\n",
       "  'study',\n",
       "  'requiring',\n",
       "  'intermittent',\n",
       "  'consultation',\n",
       "  'with',\n",
       "  'a',\n",
       "  'designated',\n",
       "  'instructor',\n",
       "  '.',\n",
       "  'ADGD I299'],\n",
       " ['Self',\n",
       "  '-',\n",
       "  'directed',\n",
       "  'within',\n",
       "  'the',\n",
       "  'area',\n",
       "  'of',\n",
       "  'study',\n",
       "  'requiring',\n",
       "  'intermittent',\n",
       "  'consultation',\n",
       "  'with',\n",
       "  'a',\n",
       "  'designated',\n",
       "  'instructor',\n",
       "  '.',\n",
       "  'ADGD I399']]"
      ]
     },
     "execution_count": 14,
     "metadata": {},
     "output_type": "execute_result"
    }
   ],
   "source": [
    "training_df = course_df[\"DescriptionBlock\"].apply(create_token_text_list ) +  course_df[\"CourseID\"].apply(convert_string_to_list)\n",
    "training_df.to_list()[:3]\n"
   ]
  },
  {
   "cell_type": "code",
   "execution_count": 15,
   "metadata": {
    "scrolled": true
   },
   "outputs": [
    {
     "name": "stderr",
     "output_type": "stream",
     "text": [
      "WARNING - 09:57:41: consider setting layer size to a multiple of 4 for greater performance\n",
      "INFO - 09:57:41: collecting all words and their counts\n",
      "INFO - 09:57:41: PROGRESS: at sentence #0, processed 0 words, keeping 0 word types\n",
      "INFO - 09:57:41: collected 16203 word types from a corpus of 208289 raw words and 4766 sentences\n",
      "INFO - 09:57:41: Loading a fresh vocabulary\n",
      "INFO - 09:57:41: effective_min_count=1 retains 16203 unique words (100% of original 16203, drops 0)\n",
      "INFO - 09:57:41: effective_min_count=1 leaves 208289 word corpus (100% of original 208289, drops 0)\n",
      "INFO - 09:57:41: deleting the raw counts dictionary of 16203 items\n",
      "INFO - 09:57:41: sample=0.001 downsamples 35 most-common words\n",
      "INFO - 09:57:41: downsampling leaves estimated 147434 word corpus (70.8% of prior 208289)\n",
      "INFO - 09:57:41: estimated required memory for 16203 words and 50 dimensions: 14582700 bytes\n",
      "INFO - 09:57:41: resetting layer weights\n",
      "INFO - 09:57:41: training model with 3 workers on 16203 vocabulary and 50 features, using sg=1 hs=0 sample=0.001 negative=5 window=3\n",
      "INFO - 09:57:41: worker thread finished; awaiting finish of 2 more threads\n",
      "INFO - 09:57:41: worker thread finished; awaiting finish of 1 more threads\n",
      "INFO - 09:57:41: worker thread finished; awaiting finish of 0 more threads\n",
      "INFO - 09:57:41: EPOCH - 1 : training on 208289 raw words (147488 effective words) took 0.2s, 675830 effective words/s\n",
      "INFO - 09:57:42: worker thread finished; awaiting finish of 2 more threads\n",
      "INFO - 09:57:42: worker thread finished; awaiting finish of 1 more threads\n",
      "INFO - 09:57:42: worker thread finished; awaiting finish of 0 more threads\n",
      "INFO - 09:57:42: EPOCH - 2 : training on 208289 raw words (147349 effective words) took 0.2s, 682879 effective words/s\n",
      "INFO - 09:57:42: worker thread finished; awaiting finish of 2 more threads\n",
      "INFO - 09:57:42: worker thread finished; awaiting finish of 1 more threads\n",
      "INFO - 09:57:42: worker thread finished; awaiting finish of 0 more threads\n",
      "INFO - 09:57:42: EPOCH - 3 : training on 208289 raw words (147385 effective words) took 0.2s, 663751 effective words/s\n",
      "INFO - 09:57:42: worker thread finished; awaiting finish of 2 more threads\n",
      "INFO - 09:57:42: worker thread finished; awaiting finish of 1 more threads\n",
      "INFO - 09:57:42: worker thread finished; awaiting finish of 0 more threads\n",
      "INFO - 09:57:42: EPOCH - 4 : training on 208289 raw words (147440 effective words) took 0.3s, 567193 effective words/s\n",
      "INFO - 09:57:42: worker thread finished; awaiting finish of 2 more threads\n",
      "INFO - 09:57:42: worker thread finished; awaiting finish of 1 more threads\n",
      "INFO - 09:57:42: worker thread finished; awaiting finish of 0 more threads\n",
      "INFO - 09:57:42: EPOCH - 5 : training on 208289 raw words (147451 effective words) took 0.3s, 585572 effective words/s\n",
      "INFO - 09:57:42: training on a 1041445 raw words (737113 effective words) took 1.2s, 621591 effective words/s\n"
     ]
    }
   ],
   "source": [
    "model = Word2Vec(training_df.to_list(), min_count=1,size= 50,workers=3, window =3, sg = 1)"
   ]
  },
  {
   "cell_type": "code",
   "execution_count": 44,
   "metadata": {},
   "outputs": [
    {
     "name": "stderr",
     "output_type": "stream",
     "text": [
      "C:\\Users\\pxp142\\AppData\\Local\\Continuum\\anaconda3\\lib\\site-packages\\ipykernel_launcher.py:1: DeprecationWarning: Call to deprecated `similarity` (Method will be removed in 4.0.0, use self.wv.similarity() instead).\n",
      "  \"\"\"Entry point for launching an IPython kernel.\n"
     ]
    },
    {
     "data": {
      "text/plain": [
       "0.8971983"
      ]
     },
     "execution_count": 44,
     "metadata": {},
     "output_type": "execute_result"
    }
   ],
   "source": [
    "model.similarity('CS 171', 'ENGL 101')"
   ]
  },
  {
   "cell_type": "code",
   "execution_count": null,
   "metadata": {},
   "outputs": [],
   "source": []
  },
  {
   "cell_type": "code",
   "execution_count": null,
   "metadata": {},
   "outputs": [],
   "source": []
  },
  {
   "cell_type": "code",
   "execution_count": null,
   "metadata": {},
   "outputs": [],
   "source": []
  },
  {
   "cell_type": "code",
   "execution_count": null,
   "metadata": {},
   "outputs": [],
   "source": []
  },
  {
   "cell_type": "code",
   "execution_count": null,
   "metadata": {},
   "outputs": [],
   "source": []
  },
  {
   "cell_type": "code",
   "execution_count": null,
   "metadata": {},
   "outputs": [],
   "source": []
  },
  {
   "cell_type": "code",
   "execution_count": null,
   "metadata": {},
   "outputs": [],
   "source": []
  },
  {
   "cell_type": "code",
   "execution_count": null,
   "metadata": {},
   "outputs": [],
   "source": []
  },
  {
   "cell_type": "code",
   "execution_count": null,
   "metadata": {},
   "outputs": [],
   "source": []
  },
  {
   "cell_type": "code",
   "execution_count": null,
   "metadata": {},
   "outputs": [],
   "source": []
  },
  {
   "cell_type": "code",
   "execution_count": null,
   "metadata": {},
   "outputs": [],
   "source": []
  },
  {
   "cell_type": "code",
   "execution_count": null,
   "metadata": {},
   "outputs": [],
   "source": []
  },
  {
   "cell_type": "code",
   "execution_count": null,
   "metadata": {},
   "outputs": [],
   "source": []
  },
  {
   "cell_type": "code",
   "execution_count": null,
   "metadata": {},
   "outputs": [],
   "source": []
  },
  {
   "cell_type": "code",
   "execution_count": null,
   "metadata": {},
   "outputs": [],
   "source": []
  },
  {
   "cell_type": "code",
   "execution_count": null,
   "metadata": {},
   "outputs": [],
   "source": []
  },
  {
   "cell_type": "code",
   "execution_count": 49,
   "metadata": {},
   "outputs": [
    {
     "data": {
      "text/plain": [
       "'<!DOCTYPE html>\\n<!--[if lt IE 7]> <html lang=\"en\" class=\"ie ie6 lte9 lte8 lte7\"> <![endif]-->\\n<!--[if IE 7]> <html lang=\"en\" class=\"ie ie7 lte9 lte8 lte7\"> <![endif]-->\\n<!--[if IE 8]> <html lang=\"en\" class=\"ie ie8 lte9 lte8\"> <![endif]-->\\n<!--[if IE 9]> <html lang=\"en\" class=\"ie ie9 lte9\"> <![endif]-->\\n<!--[if gt IE 9]> <html lang=\"en\"> <![endif]-->\\n<!--[if !IE]><!--> <html lang=\"en\"> <!--<![endif]-->\\n  <head>\\n    <meta charset=\"UTF-8\">\\n    <title>LinkedIn</title>\\n    <meta http-equiv=\"X-UA-Compatible\" content=\"IE=edge\">\\n    <!--[if lte IE 9]><link rel=\"icon\" href=\"/scds/common/u/images/logos/favicons/v1/favicon.ico\"><![endif]--> <!--[if !IE]><!--><link rel=\"icon\" href=\"data:image/png;base64,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\"><!--<![endif]-->\\n    <style type=\"text/css\" id=\"DOM_CSS\">body,html{background:#fff;margin:0;padding:0;border:0;outline:0;font-size:100%;line-height:1;vertical-align:baseline}#body-footer,#body-header,#body-main{width:1128px;box-sizing:content-box;padding:0 30px;display:block;margin:auto;position:relative}@media (max-width:1208px){#body-footer,#body-header,#body-main{width:calc(100vw - 20px);box-sizing:border-box}}@media (max-width:976px){#body-footer,#body-header,#body-main{padding:0 18px}}#body-header{padding:32px 0;z-index:10}#body-header .header-content{box-sizing:border-box;float:left;margin-bottom:24px;margin-right:-1px;width:1128px}@media (max-width:1208px){#body-header .header-content{width:calc(((100vw - 632px) * 1) + 552px)}}@media (max-width:976px){#body-header .header-content{width:calc(((100vw - 424px) * 1) + 368px);margin-bottom:12px}}@media (max-width:769px){#body-header .header-content{left:0;right:0;width:100%;margin-left:0;margin-right:0}}#body-header .header-content #language-selector+.header-logo{margin-top:4px}#body-header .header-logo svg{width:84px;height:21px}.footer-wrapper{display:block;position:fixed;bottom:0;left:0;width:100%;background:#f5f5f5;z-index:10}#body-footer{padding:16px 32px;display:inline-block;margin:0 auto;text-align:center;vertical-align:middle;width:100%;font-family:Source Sans Pro,Helvetica,Arial,sans-serif;line-height:16px;font-weight:400;color:rgba(0,0,0,.85);font-size:13px;color:#4f6878}#body-footer:after{content:\"\";display:table;clear:both}#body-footer:lang(ja),#body-footer:lang(ko),#body-footer:lang(zh){font-size:1.1rem;line-height:1.7rem}#body-footer:lang(ar){font-size:1.3rem;line-height:1.6rem}#body-footer:lang(th){font-size:1.2rem;line-height:1.8rem}#body-footer .footer-copyright{display:inline-block}#body-footer .footer-copyright a{text-decoration:none}#body-footer .footer-copyright svg{width:56px;height:14px;display:inline-block;vertical-align:top}html[lang=ar] #body-footer .footer-copyright svg,html[lang=ja] #body-footer .footer-copyright svg,html[lang=ko] #body-footer .footer-copyright svg,html[lang=th] #body-footer .footer-copyright svg,html[lang=zh] #body-footer .footer-copyright svg{vertical-align:baseline}#body-footer .footer-nav{display:inline-block;margin:0;padding:0;list-style:none}#body-footer .footer-nav>li{padding:0 16px;margin:0;display:inline-block}#body-footer .footer-nav a{color:#4f6878;font-weight:600;text-decoration:none}#body-footer .footer-nav a:hover{text-decoration:underline}#body-main{z-index:10}#body-main:after{content:\"\";display:table;clear:both}#body-main .body-content{box-sizing:border-box;float:left;margin-bottom:24px;margin-right:-1px;width:1128px}@media (max-width:1208px){#body-main .body-content{width:calc(((100vw - 632px) * 1) + 552px)}}@media (max-width:976px){#body-main .body-content{width:calc(((100vw - 424px) * 1) + 368px);margin-bottom:12px}}@media (max-width:769px){#body-main .body-content{left:0;right:0;width:100%;margin-left:0;margin-right:0}}#body-main .heading{font-family:Source Sans Pro,Helvetica,Arial,sans-serif;line-height:48px;font-weight:200;color:rgba(0,0,0,.85);font-size:42px;margin:24px 0}#body-main .heading:lang(ja),#body-main .heading:lang(ko),#body-main .heading:lang(zh){font-size:3.2rem;line-height:4.4rem}#body-main .heading:lang(ar){font-size:4.2rem;line-height:5rem}#body-main .heading:lang(th){font-size:3.4rem;line-height:4.8rem}#body-main .subheading{font-family:Source Sans Pro,Helvetica,Arial,sans-serif;line-height:28px;font-weight:400;color:rgba(0,0,0,.7);font-size:19px;max-width:560px;margin:0 auto}#body-main .subheading:lang(ja),#body-main .subheading:lang(ko),#body-main .subheading:lang(zh){font-size:1.8rem;line-height:3.3rem}#body-main .subheading:lang(ar){font-size:1.9rem;line-height:2.8rem}#body-main .subheading:lang(th){font-size:1.6rem;line-height:2.8rem}#body-main .subheading a{text-decoration:none;font-weight:700;background-color:transparent;border:0;color:#0084bf;font-weight:600}#body-main .subheading a:visited{color:#0084bf}#body-main .subheading a:visited:active{color:#006097}.artdeco-link-variant #body-main .subheading a{font-weight:400;color:#0073b1}.artdeco-link-variant #body-main .subheading a:visited{color:#0084bf}.artdeco-link-variant #body-main .subheading a:visited:active{color:#006097}.artdeco-link-variant #body-main .subheading a:active{color:#004b7c}#body-main .subheading a.focus,#body-main .subheading a.hover,#body-main .subheading a:focus,#body-main .subheading a:hover{text-decoration:underline}#body-main .subheading a.active,#body-main .subheading a:active{text-decoration:none;color:#006097}.artdeco-link-variant #body-main .subheading a.active,.artdeco-link-variant #body-main .subheading a:active{color:#004b7c}.lte9 .footer-copyright img,.lte9 .header-logo img{border:none}#language-selector{float:right;position:relative}#language-selector label{border:0!important;clip:rect(1px,1px,1px,1px);height:1px!important;overflow:hidden;padding:0!important;position:absolute!important;white-space:nowrap!important;width:1px!important}#language-selector select{-webkit-appearance:none;-moz-appearance:none;appearance:none;background:none;border:1px solid rgba(0,0,0,.25);border-radius:1px;box-shadow:none;box-sizing:border-box;color:rgba(0,0,0,.85);font-size:12px;font-weight:400;height:32px;line-height:1.75;max-width:175px;outline:0;position:relative;padding:0 32px 0 12px;transition:box-shadow .15s;vertical-align:middle;width:100%;z-index:2}#language-selector select:hover{cursor:pointer;border-color:rgba(0,0,0,.55)}#language-selector select:focus{border-color:#0084bf;box-shadow:0 0 0 1px #0084bf}#language-selector .icon-globe{color:#44474a;overflow:hidden;position:absolute;z-index:1;display:inline-block;height:24px;width:24px;right:4px;top:50%;transform:translateY(-50%)}#language-selector .icon-globe svg{display:block;margin:auto;vertical-align:top}.js #i18n_ar_AE,.js #i18n_cs_CZ,.js #i18n_da_DK,.js #i18n_de_DE,.js #i18n_en_US,.js #i18n_es_ES,.js #i18n_footer_ar_AE,.js #i18n_footer_cs_CZ,.js #i18n_footer_da_DK,.js #i18n_footer_de_DE,.js #i18n_footer_en_US,.js #i18n_footer_es_ES,.js #i18n_footer_fr_FR,.js #i18n_footer_in_ID,.js #i18n_footer_it_IT,.js #i18n_footer_ja_JP,.js #i18n_footer_ko_KR,.js #i18n_footer_ms_MY,.js #i18n_footer_nl_NL,.js #i18n_footer_no_NO,.js #i18n_footer_pl_PL,.js #i18n_footer_pt_BR,.js #i18n_footer_ro_RO,.js #i18n_footer_ru_RU,.js #i18n_footer_sv_SE,.js #i18n_footer_th_TH,.js #i18n_footer_tl_PH,.js #i18n_footer_tr_TR,.js #i18n_footer_zh_CN,.js #i18n_footer_zh_TW,.js #i18n_fr_FR,.js #i18n_in_ID,.js #i18n_it_IT,.js #i18n_ja_JP,.js #i18n_ko_KR,.js #i18n_ms_MY,.js #i18n_nl_NL,.js #i18n_no_NO,.js #i18n_pl_PL,.js #i18n_pt_BR,.js #i18n_ro_RO,.js #i18n_ru_RU,.js #i18n_sv_SE,.js #i18n_th_TH,.js #i18n_tl_PH,.js #i18n_tr_TR,.js #i18n_zh_CN,.js #i18n_zh_TW,[id^=i18n_]{display:none}.js [data-lang=ar_AE] #i18n_ar_AE{display:block}.js [data-lang=ar_AE] #i18n_footer_ar_AE{display:inline-block}.js [data-lang=cs_CZ] #i18n_cs_CZ{display:block}.js [data-lang=cs_CZ] #i18n_footer_cs_CZ{display:inline-block}.js [data-lang=da_DK] #i18n_da_DK{display:block}.js [data-lang=da_DK] #i18n_footer_da_DK{display:inline-block}.js [data-lang=de_DE] #i18n_de_DE{display:block}.js [data-lang=de_DE] #i18n_footer_de_DE{display:inline-block}.js [data-lang=en_US] #i18n_en_US{display:block}.js [data-lang=en_US] #i18n_footer_en_US{display:inline-block}.js [data-lang=es_ES] #i18n_es_ES{display:block}.js [data-lang=es_ES] #i18n_footer_es_ES{display:inline-block}.js [data-lang=fr_FR] #i18n_fr_FR{display:block}.js [data-lang=fr_FR] #i18n_footer_fr_FR{display:inline-block}.js [data-lang=in_ID] #i18n_in_ID{display:block}.js [data-lang=in_ID] #i18n_footer_in_ID{display:inline-block}.js [data-lang=it_IT] #i18n_it_IT{display:block}.js [data-lang=it_IT] #i18n_footer_it_IT{display:inline-block}.js [data-lang=ja_JP] #i18n_ja_JP{display:block}.js [data-lang=ja_JP] #i18n_footer_ja_JP{display:inline-block}.js [data-lang=ko_KR] #i18n_ko_KR{display:block}.js [data-lang=ko_KR] #i18n_footer_ko_KR{display:inline-block}.js [data-lang=ms_MY] #i18n_ms_MY{display:block}.js [data-lang=ms_MY] #i18n_footer_ms_MY{display:inline-block}.js [data-lang=nl_NL] #i18n_nl_NL{display:block}.js [data-lang=nl_NL] #i18n_footer_nl_NL{display:inline-block}.js [data-lang=no_NO] #i18n_no_NO{display:block}.js [data-lang=no_NO] #i18n_footer_no_NO{display:inline-block}.js [data-lang=pl_PL] #i18n_pl_PL{display:block}.js [data-lang=pl_PL] #i18n_footer_pl_PL{display:inline-block}.js [data-lang=pt_BR] #i18n_pt_BR{display:block}.js [data-lang=pt_BR] #i18n_footer_pt_BR{display:inline-block}.js [data-lang=ro_RO] #i18n_ro_RO{display:block}.js [data-lang=ro_RO] #i18n_footer_ro_RO{display:inline-block}.js [data-lang=ru_RU] #i18n_ru_RU{display:block}.js [data-lang=ru_RU] #i18n_footer_ru_RU{display:inline-block}.js [data-lang=sv_SE] #i18n_sv_SE{display:block}.js [data-lang=sv_SE] #i18n_footer_sv_SE{display:inline-block}.js [data-lang=th_TH] #i18n_th_TH{display:block}.js [data-lang=th_TH] #i18n_footer_th_TH{display:inline-block}.js [data-lang=tl_PH] #i18n_tl_PH{display:block}.js [data-lang=tl_PH] #i18n_footer_tl_PH{display:inline-block}.js [data-lang=tr_TR] #i18n_tr_TR{display:block}.js [data-lang=tr_TR] #i18n_footer_tr_TR{display:inline-block}.js [data-lang=zh_CN] #i18n_zh_CN{display:block}.js [data-lang=zh_CN] #i18n_footer_zh_CN{display:inline-block}.js [data-lang=zh_TW] #i18n_zh_TW{display:block}.js [data-lang=zh_TW] #i18n_footer_zh_TW{display:inline-block}@keyframes a{0%{transform:rotate(0deg)}25%{transform:rotate(12deg)}75%{transform:rotate(-12deg)}to{transform:rotate(0deg)}}@keyframes b{0%{opacity:1}50%{opacity:.05}to{opacity:1}}html{font-size:62.5%}#mountains,#stars,.bg-graphics,.telescope{display:block;position:absolute;width:100%;height:100%;max-height:100%;max-width:100%;min-height:750px;left:0;top:0;overflow:hidden}#stars{z-index:1}#stars>svg{left:50%;top:50%;position:absolute;transform:translate(-50%,-50%)}#stars.animating .star.fast{animation:b 3s ease infinite}#stars.animating .star.medium{animation:b 5s ease infinite}#stars.animating .star.slow{animation:b 7s ease infinite}#mountains{z-index:2}#mountains>svg{position:absolute;left:50%;bottom:0;transform:translateX(-50%)}.telescope{z-index:3}.telescope>svg{position:absolute;left:50%;bottom:0;transform:translateX(-50%)}.telescope#telescopeScope{display:block;transform-origin:50% 75%}.telescope#telescopeScope.animating{animation:a 20s ease infinite}.not-found-404{position:relative;z-index:10;text-align:center;padding-top:96px}.not-found-404 .not-found-cta{display:block;padding-top:32px;font-family:Source Sans Pro,Helvetica,Arial,sans-serif;line-height:24px;font-weight:400;color:rgba(0,0,0,.85);font-size:17px}.not-found-404 .not-found-cta:lang(ja),.not-found-404 .not-found-cta:lang(ko),.not-found-404 .not-found-cta:lang(zh){font-size:1.6rem;line-height:2.3rem}.not-found-404 .not-found-cta:lang(ar){font-size:1.7rem;line-height:2.1rem}.not-found-404 .not-found-cta:lang(th){font-size:1.5rem;line-height:2.2rem}.not-found-404 .not-found-cta a{background-color:transparent;border:0;border-radius:2px;box-sizing:border-box;color:#0084bf;cursor:pointer;display:inline-block;font-size:1.7rem;font-weight:600;font-family:inherit;height:32px;line-height:32px;overflow:hidden;outline-width:2px;padding:0 16px;position:relative;text-align:center;text-decoration:none;transition-duration:167ms;transition-property:background-color,box-shadow,color;transition-timing-function:cubic-bezier(0,0,.2,1);vertical-align:middle;z-index:0;box-shadow:inset 0 0 0 1px #0084bf,inset 0 0 0 2px transparent,inset 0 0 0 3px transparent}.not-found-404 .not-found-cta a>svg,.not-found-404 .not-found-cta a li-icon{top:2px;box-sizing:content-box;height:16px;left:0;margin:-12px 0 0 -6px;padding:0 6px 0 0;position:relative;width:16px}.not-found-404 .not-found-cta a>svg,.not-found-404 .not-found-cta a li-icon>svg{transition:transform 167ms;transition-timing-function:cubic-bezier(0,0,.2,1)}.not-found-404 .not-found-cta a li-icon>svg{display:inline-block;vertical-align:top}.not-found-404 .not-found-cta a:after{border:.5vw solid rgba(0,96,151,.2);padding:calc(50% + 22px);background-color:transparent;border-radius:50%;content:\"\";height:0;left:50%;position:absolute;top:50%;-webkit-transform:translate(-50%,-50%);transform:translate(-50%,-50%);transition-property:padding,border-width;transition-duration:334ms;transition-timing-function:cubic-bezier(0,0,.2,1);width:0;z-index:-1}.edge .not-found-404 .not-found-cta a:after,.ie .not-found-404 .not-found-cta a:after{padding:100%}.edge .not-found-404 .not-found-cta a,.ie .not-found-404 .not-found-cta a{border-radius:0}.artdeco-button-variant .not-found-404 .not-found-cta a{font-weight:400;background-color:transparent}.artdeco-button-variant .not-found-404 .not-found-cta a:after{border-color:rgba(0,75,124,.2);padding:calc(50% + 22px)}.edge .artdeco-button-variant .not-found-404 .not-found-cta a:after,.ie .artdeco-button-variant .not-found-404 .not-found-cta a:after{padding:100%}.not-found-404 .not-found-cta a:hover:not(:disabled)[data-is-animating-click=true],.not-found-404 .not-found-cta a:not(:disabled)[data-is-animating-click=true]{color:#006097;transition-duration:.14s;transition-timing-function:cubic-bezier(.4,0,1,1);box-shadow:inset 0 0 0 1px #0084bf,inset 0 0 0 2px #0073b1,inset 0 0 0 3px #006097}.not-found-404 .not-found-cta a:hover:not(:disabled)[data-is-animating-click=true]:after,.not-found-404 .not-found-cta a:not(:disabled)[data-is-animating-click=true]:after{border-width:50vw;padding:0;transition-duration:.14s}.not-found-404 .not-found-cta a.hover-not-disabled,.not-found-404 .not-found-cta a:hover:not(:disabled){background-color:rgba(0,115,177,.1);color:#0073b1;box-shadow:inset 0 0 0 1px #0084bf,inset 0 0 0 2px #0073b1,inset 0 0 0 3px transparent}.artdeco-button-variant .not-found-404 .not-found-cta a.hover-not-disabled,.artdeco-button-variant .not-found-404 .not-found-cta a:hover:not(:disabled){background-color:rgba(0,96,151,.1);box-shadow:inset 0 0 0 1px #0084bf,inset 0 0 0 2px #006097,inset 0 0 0 3px transparent}.not-found-404 .not-found-cta a.disabled,.not-found-404 .not-found-cta a:disabled{color:rgba(0,132,191,.4);box-shadow:inset 0 0 0 1px rgba(0,132,191,.4);cursor:not-allowed}.lte9 #mountains,.lte9 #stars,.lte9 .bg-graphics,.lte9 .telescope{margin-left:-960px}</style><!-- I18N_RTL_CSS -->\\n    <meta id=\"i18n_rtl_css\" name=\"i18n_rtl_css\" content=\\'body,html{background:#fff;margin:0;padding:0;border:0;outline:0;font-size:100%;line-height:1;vertical-align:baseline}#body-footer,#body-header,#body-main{width:1128px;box-sizing:content-box;padding:0 30px;display:block;margin:auto;position:relative}@media (max-width:1208px){#body-footer,#body-header,#body-main{width:calc(100vw - 20px);box-sizing:border-box}}@media (max-width:976px){#body-footer,#body-header,#body-main{padding:0 18px}}#body-header{padding:32px 0;z-index:10}#body-header .header-content{box-sizing:border-box;float:right;margin-bottom:24px;margin-left:-1px;width:1128px}@media (max-width:1208px){#body-header .header-content{width:calc(((100vw - 632px) * 1) + 552px)}}@media (max-width:976px){#body-header .header-content{width:calc(((100vw - 424px) * 1) + 368px);margin-bottom:12px}}@media (max-width:769px){#body-header .header-content{right:0;left:0;width:100%;margin-right:0;margin-left:0}}#body-header .header-content #language-selector+.header-logo{margin-top:4px}#body-header .header-logo svg{width:84px;height:21px}.footer-wrapper{display:block;position:fixed;bottom:0;right:0;width:100%;background:#f5f5f5;z-index:10}#body-footer{padding:16px 32px;display:inline-block;margin:0 auto;text-align:center;vertical-align:middle;width:100%;font-family:Source Sans Pro,Helvetica,Arial,sans-serif;line-height:16px;font-weight:400;color:rgba(0,0,0,.85);font-size:13px;color:#4f6878}#body-footer:after{content:\"\";display:table;clear:both}#body-footer:lang(ja),#body-footer:lang(ko),#body-footer:lang(zh){font-size:1.1rem;line-height:1.7rem}#body-footer:lang(ar){font-size:1.3rem;line-height:1.6rem}#body-footer:lang(th){font-size:1.2rem;line-height:1.8rem}#body-footer .footer-copyright{display:inline-block}#body-footer .footer-copyright a{text-decoration:none}#body-footer .footer-copyright svg{width:56px;height:14px;display:inline-block;vertical-align:top}html[lang=ar] #body-footer .footer-copyright svg,html[lang=ja] #body-footer .footer-copyright svg,html[lang=ko] #body-footer .footer-copyright svg,html[lang=th] #body-footer .footer-copyright svg,html[lang=zh] #body-footer .footer-copyright svg{vertical-align:baseline}#body-footer .footer-nav{display:inline-block;margin:0;padding:0;list-style:none}#body-footer .footer-nav>li{padding:0 16px;margin:0;display:inline-block}#body-footer .footer-nav a{color:#4f6878;font-weight:600;text-decoration:none}#body-footer .footer-nav a:hover{text-decoration:underline}#body-main{z-index:10}#body-main:after{content:\"\";display:table;clear:both}#body-main .body-content{box-sizing:border-box;float:right;margin-bottom:24px;margin-left:-1px;width:1128px}@media (max-width:1208px){#body-main .body-content{width:calc(((100vw - 632px) * 1) + 552px)}}@media (max-width:976px){#body-main .body-content{width:calc(((100vw - 424px) * 1) + 368px);margin-bottom:12px}}@media (max-width:769px){#body-main .body-content{right:0;left:0;width:100%;margin-right:0;margin-left:0}}#body-main .heading{font-family:Source Sans Pro,Helvetica,Arial,sans-serif;line-height:48px;font-weight:200;color:rgba(0,0,0,.85);font-size:42px;margin:24px 0}#body-main .heading:lang(ja),#body-main .heading:lang(ko),#body-main .heading:lang(zh){font-size:3.2rem;line-height:4.4rem}#body-main .heading:lang(ar){font-size:4.2rem;line-height:5rem}#body-main .heading:lang(th){font-size:3.4rem;line-height:4.8rem}#body-main .subheading{font-family:Source Sans Pro,Helvetica,Arial,sans-serif;line-height:28px;font-weight:400;color:rgba(0,0,0,.7);font-size:19px;max-width:560px;margin:0 auto}#body-main .subheading:lang(ja),#body-main .subheading:lang(ko),#body-main .subheading:lang(zh){font-size:1.8rem;line-height:3.3rem}#body-main .subheading:lang(ar){font-size:1.9rem;line-height:2.8rem}#body-main .subheading:lang(th){font-size:1.6rem;line-height:2.8rem}#body-main .subheading a{text-decoration:none;font-weight:700;background-color:transparent;border:0;color:#0084bf;font-weight:600}#body-main .subheading a:visited{color:#0084bf}#body-main .subheading a:visited:active{color:#006097}.artdeco-link-variant #body-main .subheading a{font-weight:400;color:#0073b1}.artdeco-link-variant #body-main .subheading a:visited{color:#0084bf}.artdeco-link-variant #body-main .subheading a:visited:active{color:#006097}.artdeco-link-variant #body-main .subheading a:active{color:#004b7c}#body-main .subheading a.focus,#body-main .subheading a.hover,#body-main .subheading a:focus,#body-main .subheading a:hover{text-decoration:underline}#body-main .subheading a.active,#body-main .subheading a:active{text-decoration:none;color:#006097}.artdeco-link-variant #body-main .subheading a.active,.artdeco-link-variant #body-main .subheading a:active{color:#004b7c}.lte9 .footer-copyright img,.lte9 .header-logo img{border:none}#language-selector{float:left;position:relative}#language-selector label{border:0!important;clip:rect(1px,1px,1px,1px);height:1px!important;overflow:hidden;padding:0!important;position:absolute!important;white-space:nowrap!important;width:1px!important}#language-selector select{-webkit-appearance:none;-moz-appearance:none;appearance:none;background:none;border:1px solid rgba(0,0,0,.25);border-radius:1px;box-shadow:none;box-sizing:border-box;color:rgba(0,0,0,.85);font-size:12px;font-weight:400;height:32px;line-height:1.75;max-width:175px;outline:0;position:relative;padding:0 12px 0 32px;transition:box-shadow .15s;vertical-align:middle;width:100%;z-index:2}#language-selector select:hover{cursor:pointer;border-color:rgba(0,0,0,.55)}#language-selector select:focus{border-color:#0084bf;box-shadow:0 0 0 1px #0084bf}#language-selector .icon-globe{color:#44474a;overflow:hidden;position:absolute;z-index:1;display:inline-block;height:24px;width:24px;left:4px;top:50%;transform:translateY(-50%)}#language-selector .icon-globe svg{display:block;margin:auto;vertical-align:top}.js #i18n_ar_AE,.js #i18n_cs_CZ,.js #i18n_da_DK,.js #i18n_de_DE,.js #i18n_en_US,.js #i18n_es_ES,.js #i18n_footer_ar_AE,.js #i18n_footer_cs_CZ,.js #i18n_footer_da_DK,.js #i18n_footer_de_DE,.js #i18n_footer_en_US,.js #i18n_footer_es_ES,.js #i18n_footer_fr_FR,.js #i18n_footer_in_ID,.js #i18n_footer_it_IT,.js #i18n_footer_ja_JP,.js #i18n_footer_ko_KR,.js #i18n_footer_ms_MY,.js #i18n_footer_nl_NL,.js #i18n_footer_no_NO,.js #i18n_footer_pl_PL,.js #i18n_footer_pt_BR,.js #i18n_footer_ro_RO,.js #i18n_footer_ru_RU,.js #i18n_footer_sv_SE,.js #i18n_footer_th_TH,.js #i18n_footer_tl_PH,.js #i18n_footer_tr_TR,.js #i18n_footer_zh_CN,.js #i18n_footer_zh_TW,.js #i18n_fr_FR,.js #i18n_in_ID,.js #i18n_it_IT,.js #i18n_ja_JP,.js #i18n_ko_KR,.js #i18n_ms_MY,.js #i18n_nl_NL,.js #i18n_no_NO,.js #i18n_pl_PL,.js #i18n_pt_BR,.js #i18n_ro_RO,.js #i18n_ru_RU,.js #i18n_sv_SE,.js #i18n_th_TH,.js #i18n_tl_PH,.js #i18n_tr_TR,.js #i18n_zh_CN,.js #i18n_zh_TW,[id^=i18n_]{display:none}.js [data-lang=ar_AE] #i18n_ar_AE{display:block}.js [data-lang=ar_AE] #i18n_footer_ar_AE{display:inline-block}.js [data-lang=cs_CZ] #i18n_cs_CZ{display:block}.js [data-lang=cs_CZ] #i18n_footer_cs_CZ{display:inline-block}.js [data-lang=da_DK] #i18n_da_DK{display:block}.js [data-lang=da_DK] #i18n_footer_da_DK{display:inline-block}.js [data-lang=de_DE] #i18n_de_DE{display:block}.js [data-lang=de_DE] #i18n_footer_de_DE{display:inline-block}.js [data-lang=en_US] #i18n_en_US{display:block}.js [data-lang=en_US] #i18n_footer_en_US{display:inline-block}.js [data-lang=es_ES] #i18n_es_ES{display:block}.js [data-lang=es_ES] #i18n_footer_es_ES{display:inline-block}.js [data-lang=fr_FR] #i18n_fr_FR{display:block}.js [data-lang=fr_FR] #i18n_footer_fr_FR{display:inline-block}.js [data-lang=in_ID] #i18n_in_ID{display:block}.js [data-lang=in_ID] #i18n_footer_in_ID{display:inline-block}.js [data-lang=it_IT] #i18n_it_IT{display:block}.js [data-lang=it_IT] #i18n_footer_it_IT{display:inline-block}.js [data-lang=ja_JP] #i18n_ja_JP{display:block}.js [data-lang=ja_JP] #i18n_footer_ja_JP{display:inline-block}.js [data-lang=ko_KR] #i18n_ko_KR{display:block}.js [data-lang=ko_KR] #i18n_footer_ko_KR{display:inline-block}.js [data-lang=ms_MY] #i18n_ms_MY{display:block}.js [data-lang=ms_MY] #i18n_footer_ms_MY{display:inline-block}.js [data-lang=nl_NL] #i18n_nl_NL{display:block}.js [data-lang=nl_NL] #i18n_footer_nl_NL{display:inline-block}.js [data-lang=no_NO] #i18n_no_NO{display:block}.js [data-lang=no_NO] #i18n_footer_no_NO{display:inline-block}.js [data-lang=pl_PL] #i18n_pl_PL{display:block}.js [data-lang=pl_PL] #i18n_footer_pl_PL{display:inline-block}.js [data-lang=pt_BR] #i18n_pt_BR{display:block}.js [data-lang=pt_BR] #i18n_footer_pt_BR{display:inline-block}.js [data-lang=ro_RO] #i18n_ro_RO{display:block}.js [data-lang=ro_RO] #i18n_footer_ro_RO{display:inline-block}.js [data-lang=ru_RU] #i18n_ru_RU{display:block}.js [data-lang=ru_RU] #i18n_footer_ru_RU{display:inline-block}.js [data-lang=sv_SE] #i18n_sv_SE{display:block}.js [data-lang=sv_SE] #i18n_footer_sv_SE{display:inline-block}.js [data-lang=th_TH] #i18n_th_TH{display:block}.js [data-lang=th_TH] #i18n_footer_th_TH{display:inline-block}.js [data-lang=tl_PH] #i18n_tl_PH{display:block}.js [data-lang=tl_PH] #i18n_footer_tl_PH{display:inline-block}.js [data-lang=tr_TR] #i18n_tr_TR{display:block}.js [data-lang=tr_TR] #i18n_footer_tr_TR{display:inline-block}.js [data-lang=zh_CN] #i18n_zh_CN{display:block}.js [data-lang=zh_CN] #i18n_footer_zh_CN{display:inline-block}.js [data-lang=zh_TW] #i18n_zh_TW{display:block}.js [data-lang=zh_TW] #i18n_footer_zh_TW{display:inline-block}@keyframes a{0%{transform:rotate(0deg)}25%{transform:rotate(-12deg)}75%{transform:rotate(12deg)}to{transform:rotate(0deg)}}@keyframes b{0%{opacity:1}50%{opacity:.05}to{opacity:1}}html{font-size:62.5%}#mountains,#stars,.bg-graphics,.telescope{display:block;position:absolute;width:100%;height:100%;max-height:100%;max-width:100%;min-height:750px;right:0;top:0;overflow:hidden}#stars{z-index:1}#stars>svg{right:50%;top:50%;position:absolute;transform:translate(50%,-50%)}#stars.animating .star.fast{animation:b 3s ease infinite}#stars.animating .star.medium{animation:b 5s ease infinite}#stars.animating .star.slow{animation:b 7s ease infinite}#mountains{z-index:2}#mountains>svg{position:absolute;right:50%;bottom:0;transform:translateX(50%)}.telescope{z-index:3}.telescope>svg{position:absolute;right:50%;bottom:0;transform:translateX(50%)}.telescope#telescopeScope{display:block;transform-origin:50% 75%}.telescope#telescopeScope.animating{animation:a 20s ease infinite}.not-found-404{position:relative;z-index:10;text-align:center;padding-top:96px}.not-found-404 .not-found-cta{display:block;padding-top:32px;font-family:Source Sans Pro,Helvetica,Arial,sans-serif;line-height:24px;font-weight:400;color:rgba(0,0,0,.85);font-size:17px}.not-found-404 .not-found-cta:lang(ja),.not-found-404 .not-found-cta:lang(ko),.not-found-404 .not-found-cta:lang(zh){font-size:1.6rem;line-height:2.3rem}.not-found-404 .not-found-cta:lang(ar){font-size:1.7rem;line-height:2.1rem}.not-found-404 .not-found-cta:lang(th){font-size:1.5rem;line-height:2.2rem}.not-found-404 .not-found-cta a{background-color:transparent;border:0;border-radius:2px;box-sizing:border-box;color:#0084bf;cursor:pointer;display:inline-block;font-size:1.7rem;font-weight:600;font-family:inherit;height:32px;line-height:32px;overflow:hidden;outline-width:2px;padding:0 16px;position:relative;text-align:center;text-decoration:none;transition-duration:167ms;transition-property:background-color,box-shadow,color;transition-timing-function:cubic-bezier(0,0,.2,1);vertical-align:middle;z-index:0;box-shadow:inset 0 0 0 1px #0084bf,inset 0 0 0 2px transparent,inset 0 0 0 3px transparent}.not-found-404 .not-found-cta a>svg,.not-found-404 .not-found-cta a li-icon{top:2px;box-sizing:content-box;height:16px;right:0;margin:-12px -6px 0 0;padding:0 0 0 6px;position:relative;width:16px}.not-found-404 .not-found-cta a>svg,.not-found-404 .not-found-cta a li-icon>svg{transition:transform 167ms;transition-timing-function:cubic-bezier(0,0,.2,1)}.not-found-404 .not-found-cta a li-icon>svg{display:inline-block;vertical-align:top}.not-found-404 .not-found-cta a:after{border:.5vw solid rgba(0,96,151,.2);padding:calc(50% + 22px);background-color:transparent;border-radius:50%;content:\"\";height:0;right:50%;position:absolute;top:50%;-webkit-transform:translate(50%,-50%);transform:translate(50%,-50%);transition-property:padding,border-width;transition-duration:334ms;transition-timing-function:cubic-bezier(0,0,.2,1);width:0;z-index:-1}.edge .not-found-404 .not-found-cta a:after,.ie .not-found-404 .not-found-cta a:after{padding:100%}.edge .not-found-404 .not-found-cta a,.ie .not-found-404 .not-found-cta a{border-radius:0}.artdeco-button-variant .not-found-404 .not-found-cta a{font-weight:400;background-color:transparent}.artdeco-button-variant .not-found-404 .not-found-cta a:after{border-color:rgba(0,75,124,.2);padding:calc(50% + 22px)}.edge .artdeco-button-variant .not-found-404 .not-found-cta a:after,.ie .artdeco-button-variant .not-found-404 .not-found-cta a:after{padding:100%}.not-found-404 .not-found-cta a:hover:not(:disabled)[data-is-animating-click=true],.not-found-404 .not-found-cta a:not(:disabled)[data-is-animating-click=true]{color:#006097;transition-duration:.14s;transition-timing-function:cubic-bezier(.4,0,1,1);box-shadow:inset 0 0 0 1px #0084bf,inset 0 0 0 2px #0073b1,inset 0 0 0 3px #006097}.not-found-404 .not-found-cta a:hover:not(:disabled)[data-is-animating-click=true]:after,.not-found-404 .not-found-cta a:not(:disabled)[data-is-animating-click=true]:after{border-width:50vw;padding:0;transition-duration:.14s}.not-found-404 .not-found-cta a.hover-not-disabled,.not-found-404 .not-found-cta a:hover:not(:disabled){background-color:rgba(0,115,177,.1);color:#0073b1;box-shadow:inset 0 0 0 1px #0084bf,inset 0 0 0 2px #0073b1,inset 0 0 0 3px transparent}.artdeco-button-variant .not-found-404 .not-found-cta a.hover-not-disabled,.artdeco-button-variant .not-found-404 .not-found-cta a:hover:not(:disabled){background-color:rgba(0,96,151,.1);box-shadow:inset 0 0 0 1px #0084bf,inset 0 0 0 2px #006097,inset 0 0 0 3px transparent}.not-found-404 .not-found-cta a.disabled,.not-found-404 .not-found-cta a:disabled{color:rgba(0,132,191,.4);box-shadow:inset 0 0 0 1px rgba(0,132,191,.4);cursor:not-allowed}.lte9 #mountains,.lte9 #stars,.lte9 .bg-graphics,.lte9 .telescope{margin-right:-960px}\\'>\\n  </head>\\n  <body dir=\"ltr\" data-lang=\"en_US\" id=\"error404\">\\n    <div class=\"bg-graphics\" aria-hidden=\"true\">\\n      <div id=\"stars\" aria-hidden=\"true\">\\n        <svg id=\"Artwork\" xmlns=\"http://www.w3.org/2000/svg\" width=\"2560\" height=\"1440\" viewBox=\"0 0 2560 1440\">\\n          <polygon class=\"star\" points=\"1562 1118 1559 1118 1559 1115 1557 1115 1557 1118 1554 1118 1554 1120 1557 1120 1557 1123 1559 1123 1559 1120 1562 1120 1562 1118\" style=\"fill: #9bdaf3\"/>\\n          <polygon class=\"star\" points=\"1075 1019 1072 1019 1072 1016 1070 1016 1070 1019 1067 1019 1067 1021 1070 1021 1070 1024 1072 1024 1072 1021 1075 1021 1075 1019\" style=\"fill: #34b3e4\"/>\\n          <polygon class=\"star\" points=\"745 1062 742 1062 742 1059 740 1059 740 1062 737 1062 737 1064 740 1064 740 1067 742 1067 742 1064 745 1064 745 1062\" style=\"fill: #34b3e4\"/>\\n          <polygon class=\"star\" points=\"649 797 646 797 646 794 644 794 644 797 641 797 641 799 644 799 644 802 646 802 646 799 649 799 649 797\" style=\"fill: #caedff\"/>\\n          <polygon class=\"star\" points=\"1353 1050 1350 1050 1350 1047 1348 1047 1348 1050 1345 1050 1345 1052 1348 1052 1348 1055 1350 1055 1350 1052 1353 1052 1353 1050\" style=\"fill: #caedff\"/>\\n          <polygon class=\"star\" points=\"923 1143 920 1143 920 1140 918 1140 918 1143 915 1143 915 1145 918 1145 918 1148 920 1148 920 1145 923 1145 923 1143\" style=\"fill: #caedff\"/>\\n          <polygon class=\"star\" points=\"659 1132 656 1132 656 1129 654 1129 654 1132 651 1132 651 1134 654 1134 654 1137 656 1137 656 1134 659 1134 659 1132\" style=\"fill: #9bdaf3\"/>\\n          <polygon class=\"star\" points=\"1527 1067 1524 1067 1524 1064 1522 1064 1522 1067 1519 1067 1519 1069 1522 1069 1522 1072 1524 1072 1524 1069 1527 1069 1527 1067\" style=\"fill: #34b3e4\"/>\\n          <polygon class=\"star\" points=\"2179 696 2176 696 2176 693 2174 693 2174 696 2171 696 2171 698 2174 698 2174 701 2176 701 2176 698 2179 698 2179 696\" style=\"fill: #34b3e4\"/>\\n          <polygon class=\"star\" points=\"1108 1150 1105 1150 1105 1147 1103 1147 1103 1150 1100 1150 1100 1152 1103 1152 1103 1155 1105 1155 1105 1152 1108 1152 1108 1150\" style=\"fill: #caedff\"/>\\n          <polygon class=\"star\" points=\"786 871 783 871 783 868 781 868 781 871 778 871 778 873 781 873 781 876 783 876 783 873 786 873 786 871\" style=\"fill: #9bdaf3\"/>\\n          <polygon class=\"star\" points=\"542 716 539 716 539 713 537 713 537 716 534 716 534 718 537 718 537 721 539 721 539 718 542 718 542 716\" style=\"fill: #9bdaf3\"/>\\n          <polygon class=\"star\" points=\"656 584 653 584 653 581 651 581 651 584 648 584 648 586 651 586 651 589 653 589 653 586 656 586 656 584\" style=\"fill: #9bdaf3\"/>\\n          <polygon class=\"star\" points=\"546 923 543 923 543 920 541 920 541 923 538 923 538 925 541 925 541 928 543 928 543 925 546 925 546 923\" style=\"fill: #9bdaf3\"/>\\n          <polygon class=\"star\" points=\"782 666 779 666 779 663 777 663 777 666 774 666 774 668 777 668 777 671 779 671 779 668 782 668 782 666\" style=\"fill: #caedff\"/>\\n          <polygon class=\"star\" points=\"975 487 972 487 972 484 970 484 970 487 967 487 967 489 970 489 970 492 972 492 972 489 975 489 975 487\" style=\"fill: #caedff\"/>\\n          <polygon class=\"star\" points=\"1858 1157 1855 1157 1855 1154 1853 1154 1853 1157 1850 1157 1850 1159 1853 1159 1853 1162 1855 1162 1855 1159 1858 1159 1858 1157\" style=\"fill: #34b3e4\"/>\\n          <polygon class=\"star\" points=\"1686 918 1683 918 1683 915 1681 915 1681 918 1678 918 1678 920 1681 920 1681 923 1683 923 1683 920 1686 920 1686 918\" style=\"fill: #caedff\"/>\\n          <polygon class=\"star\" points=\"1725 1061 1722 1061 1722 1058 1720 1058 1720 1061 1717 1061 1717 1063 1720 1063 1720 1066 1722 1066 1722 1063 1725 1063 1725 1061\" style=\"fill: #caedff\"/>\\n          <polygon class=\"star\" points=\"1777 792 1774 792 1774 789 1772 789 1772 792 1769 792 1769 794 1772 794 1772 797 1774 797 1774 794 1777 794 1777 792\" style=\"fill: #9bdaf3\"/>\\n          <polygon class=\"star\" points=\"1546 471 1543 471 1543 468 1541 468 1541 471 1538 471 1538 473 1541 473 1541 476 1543 476 1543 473 1546 473 1546 471\" style=\"fill: #caedff\"/>\\n          <polygon class=\"star\" points=\"444 518 441 518 441 515 439 515 439 518 436 518 436 520 439 520 439 523 441 523 441 520 444 520 444 518\" style=\"fill: #34b3e4\"/>\\n          <polygon class=\"star\" points=\"1735 495 1732 495 1732 492 1730 492 1730 495 1727 495 1727 497 1730 497 1730 500 1732 500 1732 497 1735 497 1735 495\" style=\"fill: #9bdaf3\"/>\\n          <polygon class=\"star\" points=\"1605 613 1602 613 1602 610 1600 610 1600 613 1597 613 1597 615 1600 615 1600 618 1602 618 1602 615 1605 615 1605 613\" style=\"fill: #caedff\"/>\\n          <polygon class=\"star\" points=\"1820 999 1817 999 1817 996 1815 996 1815 999 1812 999 1812 1001 1815 1001 1815 1004 1817 1004 1817 1001 1820 1001 1820 999\" style=\"fill: #caedff\"/>\\n          <polygon class=\"star\" points=\"2038 835 2035 835 2035 832 2033 832 2033 835 2030 835 2030 837 2033 837 2033 840 2035 840 2035 837 2038 837 2038 835\" style=\"fill: #caedff\"/>\\n          <polygon class=\"star\" points=\"1928 804 1925 804 1925 801 1923 801 1923 804 1920 804 1920 806 1923 806 1923 809 1925 809 1925 806 1928 806 1928 804\" style=\"fill: #caedff\"/>\\n          <polygon class=\"star\" points=\"2137 570 2134 570 2134 567 2132 567 2132 570 2129 570 2129 572 2132 572 2132 575 2134 575 2134 572 2137 572 2137 570\" style=\"fill: #caedff\"/>\\n          <polygon class=\"star\" points=\"1821 603 1818 603 1818 600 1816 600 1816 603 1813 603 1813 605 1816 605 1816 608 1818 608 1818 605 1821 605 1821 603\" style=\"fill: #caedff\"/>\\n          <polygon class=\"star\" points=\"1967 468 1964 468 1964 465 1962 465 1962 468 1959 468 1959 470 1962 470 1962 473 1964 473 1964 470 1967 470 1967 468\" style=\"fill: #caedff\"/>\\n          <circle class=\"planet\" cx=\"772\" cy=\"720\" r=\"1\" style=\"fill: #caedff\"/>\\n          <circle class=\"planet\" cx=\"630\" cy=\"683\" r=\"1\" style=\"fill: #caedff\"/>\\n          <circle class=\"planet\" cx=\"758\" cy=\"936\" r=\"1\" style=\"fill: #caedff\"/>\\n          <circle class=\"planet\" cx=\"984\" cy=\"1040\" r=\"1\" style=\"fill: #caedff\"/>\\n          <circle class=\"planet\" cx=\"1442\" cy=\"1047\" r=\"1\" style=\"fill: #34b3e4\"/>\\n          <circle class=\"planet\" cx=\"1620\" cy=\"1064\" r=\"1\" style=\"fill: #acb9c2\"/>\\n          <circle class=\"planet\" cx=\"1911\" cy=\"989\" r=\"2\" style=\"fill: #caedff\"/>\\n          <circle class=\"planet\" cx=\"1897\" cy=\"886\" r=\"2\" style=\"fill: #caedff\"/>\\n          <circle class=\"planet\" cx=\"1673\" cy=\"696\" r=\"2\" style=\"fill: #caedff\"/>\\n          <circle class=\"planet\" cx=\"1907\" cy=\"524\" r=\"2\" style=\"fill: #9bdaf3\"/>\\n          <circle class=\"planet\" cx=\"2024\" cy=\"996\" r=\"2\" style=\"fill: #9bdaf3\"/>\\n          <circle class=\"planet\" cx=\"2172\" cy=\"906\" r=\"2\" style=\"fill: #9bdaf3\"/>\\n          <circle class=\"planet\" cx=\"881\" cy=\"593\" r=\"2\" style=\"fill: #caedff\"/>\\n          <circle class=\"planet\" cx=\"432\" cy=\"640\" r=\"2\" style=\"fill: #caedff\"/>\\n          <circle class=\"planet\" cx=\"720\" cy=\"792\" r=\"2\" style=\"fill: #caedff\"/>\\n          <circle class=\"planet\" cx=\"396\" cy=\"748\" r=\"2\" style=\"fill: #caedff\"/>\\n          <circle class=\"planet\" cx=\"894\" cy=\"954\" r=\"2\" style=\"fill: #caedff\"/>\\n          <circle class=\"planet\" cx=\"704\" cy=\"950\" r=\"2\" style=\"fill: #caedff\"/>\\n          <circle class=\"planet\" cx=\"901\" cy=\"1212\" r=\"2\" style=\"fill: #34b3e4\"/>\\n          <circle class=\"planet\" cx=\"1320\" cy=\"1107\" r=\"2\" style=\"fill: #caedff\"/>\\n          <circle class=\"planet\" cx=\"858\" cy=\"750\" r=\"2\" style=\"fill: #34b3e4\"/>\\n          <circle class=\"planet\" cx=\"1705\" cy=\"1163\" r=\"2\" style=\"fill: #34b3e4\"/>\\n          <circle class=\"planet\" cx=\"1946\" cy=\"903\" r=\"1\" style=\"fill: #caedff\"/>\\n          <circle class=\"planet\" cx=\"1950\" cy=\"683\" r=\"1\" style=\"fill: #34b3e4\"/>\\n          <circle class=\"planet\" cx=\"1716\" cy=\"454\" r=\"1\" style=\"fill: #caedff\"/>\\n          <circle class=\"planet\" cx=\"1651\" cy=\"532\" r=\"1\" style=\"fill: #caedff\"/>\\n          <circle class=\"planet\" cx=\"1106\" cy=\"465\" r=\"1\" style=\"fill: #34b3e4\"/>\\n          <circle class=\"planet\" cx=\"842\" cy=\"532\" r=\"1\" style=\"fill: #34b3e4\"/>\\n          <circle class=\"planet\" cx=\"531\" cy=\"608\" r=\"1\" style=\"fill: #34b3e4\"/>\\n          <circle class=\"planet\" cx=\"597\" cy=\"512\" r=\"1\" style=\"fill: #34b3e4\"/>\\n          <circle class=\"planet\" cx=\"756\" cy=\"601\" r=\"1\" style=\"fill: #caedff\"/>\\n          <circle class=\"planet\" cx=\"982\" cy=\"558\" r=\"1\" style=\"fill: #caedff\"/>\\n          <circle class=\"planet\" cx=\"623\" cy=\"519\" r=\"1\" style=\"fill: #caedff\"/>\\n          <circle class=\"planet\" cx=\"1495\" cy=\"550\" r=\"1\" style=\"fill: #caedff\"/>\\n          <circle class=\"planet\" cx=\"1277\" cy=\"486\" r=\"1\" style=\"fill: #9bdaf3\"/>\\n          <circle class=\"planet\" cx=\"1448\" cy=\"454\" r=\"1\" style=\"fill: #caedff\"/>\\n          <circle class=\"planet\" cx=\"1820\" cy=\"857\" r=\"1\" style=\"fill: #caedff\"/>\\n          <circle class=\"planet\" cx=\"2028\" cy=\"616\" r=\"1\" style=\"fill: #caedff\"/>\\n          <circle class=\"planet\" cx=\"1174\" cy=\"1074\" r=\"1\" style=\"fill: #acb9c2\"/>\\n          <circle class=\"planet\" cx=\"1217\" cy=\"1148\" r=\"1\" style=\"fill: #acb9c2\"/>\\n          <circle class=\"planet\" cx=\"1414\" cy=\"1088\" r=\"1\" style=\"fill: #9bdaf3\"/>\\n          <circle class=\"planet\" cx=\"1727\" cy=\"976\" r=\"1\" style=\"fill: #9bdaf3\"/>\\n          <circle class=\"planet\" cx=\"1693\" cy=\"832\" r=\"1\" style=\"fill: #9bdaf3\"/>\\n          <circle class=\"planet\" cx=\"1836\" cy=\"761\" r=\"1\" style=\"fill: #caedff\"/>\\n          <circle class=\"planet\" cx=\"1838\" cy=\"665\" r=\"1\" style=\"fill: #9bdaf3\"/>\\n          <circle class=\"planet\" cx=\"2113\" cy=\"772\" r=\"1\" style=\"fill: #9bdaf3\"/>\\n          <circle class=\"planet\" cx=\"2140\" cy=\"497\" r=\"1\" style=\"fill: #9bdaf3\"/>\\n          <circle class=\"planet\" cx=\"1880\" cy=\"465\" r=\"1\" style=\"fill: #caedff\"/>\\n          <polygon class=\"star\" points=\"2230 151 2227 151 2227 148 2225 148 2225 151 2222 151 2222 153 2225 153 2225 156 2227 156 2227 153 2230 153 2230 151\" style=\"fill: #9bdaf3\"/>\\n          <polygon class=\"star\" points=\"2100 269 2097 269 2097 266 2095 266 2095 269 2092 269 2092 271 2095 271 2095 274 2097 274 2097 271 2100 271 2100 269\" style=\"fill: #caedff\"/>\\n          <polygon class=\"star\" points=\"2316 259 2313 259 2313 256 2311 256 2311 259 2308 259 2308 261 2311 261 2311 264 2313 264 2313 261 2316 261 2316 259\" style=\"fill: #caedff\"/>\\n          <polygon class=\"star\" points=\"2462 124 2459 124 2459 121 2457 121 2457 124 2454 124 2454 126 2457 126 2457 129 2459 129 2459 126 2462 126 2462 124\" style=\"fill: #caedff\"/>\\n          <circle class=\"planet\" cx=\"2168\" cy=\"352\" r=\"2\" style=\"fill: #caedff\"/>\\n          <circle class=\"planet\" cx=\"2402\" cy=\"180\" r=\"2\" style=\"fill: #9bdaf3\"/>\\n          <circle class=\"planet\" cx=\"2445\" cy=\"339\" r=\"1\" style=\"fill: #34b3e4\"/>\\n          <circle class=\"planet\" cx=\"2211\" cy=\"110\" r=\"1\" style=\"fill: #caedff\"/>\\n          <circle class=\"planet\" cx=\"2146\" cy=\"188\" r=\"1\" style=\"fill: #caedff\"/>\\n          <circle class=\"planet\" cx=\"2523\" cy=\"272\" r=\"1\" style=\"fill: #caedff\"/>\\n          <circle class=\"planet\" cx=\"2333\" cy=\"321\" r=\"1\" style=\"fill: #9bdaf3\"/>\\n          <circle class=\"planet\" cx=\"2375\" cy=\"121\" r=\"1\" style=\"fill: #caedff\"/>\\n          <circle class=\"planet\" cx=\"1901\" cy=\"1133\" r=\"1\" style=\"fill: #34b3e4\"/>\\n          <circle class=\"planet\" cx=\"1626\" cy=\"1172\" r=\"1\" style=\"fill: #34b3e4\"/>\\n          <circle class=\"planet\" cx=\"1871\" cy=\"1077\" r=\"1\" style=\"fill: #caedff\"/>\\n          <circle class=\"planet\" cx=\"862\" cy=\"1077\" r=\"1\" style=\"fill: #caedff\"/>\\n          <circle class=\"planet\" cx=\"1059\" cy=\"1185\" r=\"1\" style=\"fill: #caedff\"/>\\n          <circle class=\"planet\" cx=\"644\" cy=\"908\" r=\"1\" style=\"fill: #caedff\"/>\\n          <circle class=\"planet\" cx=\"416\" cy=\"833\" r=\"1\" style=\"fill: #caedff\"/>\\n          <polygon class=\"star\" points=\"1756 281 1753 281 1753 278 1751 278 1751 281 1748 281 1748 283 1751 283 1751 286 1753 286 1753 283 1756 283 1756 281\" style=\"fill: #caedff\"/>\\n          <polygon class=\"star\" points=\"1893 355 1890 355 1890 352 1888 352 1888 355 1885 355 1885 357 1888 357 1888 360 1890 360 1890 357 1893 357 1893 355\" style=\"fill: #9bdaf3\"/>\\n          <polygon class=\"star\" points=\"362 195 359 195 359 192 357 192 357 195 354 195 354 197 357 197 357 200 359 200 359 197 362 197 362 195\" style=\"fill: #caedff\"/>\\n          <polygon class=\"star\" points=\"680 180 677 180 677 177 675 177 675 180 672 180 672 182 675 182 675 185 677 185 677 182 680 182 680 180\" style=\"fill: #caedff\"/>\\n          <polygon class=\"star\" points=\"454 282 451 282 451 279 449 279 449 282 446 282 446 284 449 284 449 287 451 287 451 284 454 284 454 282\" style=\"fill: #34b3e4\"/>\\n          <polygon class=\"star\" points=\"869 204 866 204 866 201 864 201 864 204 861 204 861 206 864 206 864 209 866 209 866 206 869 206 869 204\" style=\"fill: #9bdaf3\"/>\\n          <polygon class=\"star\" points=\"739 322 736 322 736 319 734 319 734 322 731 322 731 324 734 324 734 327 736 327 736 324 739 324 739 322\" style=\"fill: #caedff\"/>\\n          <polygon class=\"star\" points=\"1271 279 1268 279 1268 276 1266 276 1266 279 1263 279 1263 281 1266 281 1266 284 1268 284 1268 281 1271 281 1271 279\" style=\"fill: #caedff\"/>\\n          <polygon class=\"star\" points=\"955 312 952 312 952 309 950 309 950 312 947 312 947 314 950 314 950 317 952 317 952 314 955 314 955 312\" style=\"fill: #caedff\"/>\\n          <polygon class=\"star\" points=\"1101 177 1098 177 1098 174 1096 174 1096 177 1093 177 1093 179 1096 179 1096 182 1098 182 1098 179 1101 179 1101 177\" style=\"fill: #caedff\"/>\\n          <circle class=\"planet\" cx=\"1041\" cy=\"233\" r=\"2\" style=\"fill: #9bdaf3\"/>\\n          <circle class=\"planet\" cx=\"485\" cy=\"169\" r=\"2\" style=\"fill: #9bdaf3\"/>\\n          <circle class=\"planet\" cx=\"850\" cy=\"163\" r=\"1\" style=\"fill: #caedff\"/>\\n          <circle class=\"planet\" cx=\"785\" cy=\"241\" r=\"1\" style=\"fill: #caedff\"/>\\n          <circle class=\"planet\" cx=\"629\" cy=\"259\" r=\"1\" style=\"fill: #caedff\"/>\\n          <circle class=\"planet\" cx=\"312\" cy=\"252\" r=\"1\" style=\"fill: #9bdaf3\"/>\\n          <circle class=\"planet\" cx=\"582\" cy=\"163\" r=\"1\" style=\"fill: #caedff\"/>\\n          <polygon class=\"star\" points=\"102 108 99 108 99 105 97 105 97 108 94 108 94 110 97 110 97 113 99 113 99 110 102 110 102 108\" style=\"fill: #caedff\"/>\\n          <polygon class=\"star\" points=\"420 93 417 93 417 90 415 90 415 93 412 93 412 95 415 95 415 98 417 98 417 95 420 95 420 93\" style=\"fill: #caedff\"/>\\n          <circle class=\"planet\" cx=\"225\" cy=\"82\" r=\"2\" style=\"fill: #9bdaf3\"/>\\n          <circle class=\"planet\" cx=\"322\" cy=\"76\" r=\"1\" style=\"fill: #caedff\"/>\\n          <circle class=\"planet\" cx=\"1274\" cy=\"206\" r=\"1\" style=\"fill: #9bdaf3\"/>\\n          <circle class=\"planet\" cx=\"1014\" cy=\"174\" r=\"1\" style=\"fill: #caedff\"/>\\n          <polygon class=\"star\" points=\"1027 64 1024 64 1024 61 1022 61 1022 64 1019 64 1019 66 1022 66 1022 69 1024 69 1024 66 1027 66 1027 64\" style=\"fill: #9bdaf3\"/>\\n          <polygon class=\"star\" points=\"1649 200 1646 200 1646 197 1644 197 1644 200 1641 200 1641 202 1644 202 1644 205 1646 205 1646 202 1649 202 1649 200\" style=\"fill: #9bdaf3\"/>\\n          <polygon class=\"star\" points=\"1889 150 1886 150 1886 147 1884 147 1884 150 1881 150 1881 152 1884 152 1884 155 1886 155 1886 152 1889 152 1889 150\" style=\"fill: #caedff\"/>\\n          <circle class=\"planet\" cx=\"1879\" cy=\"204\" r=\"1\" style=\"fill: #caedff\"/>\\n          <circle class=\"planet\" cx=\"1737\" cy=\"167\" r=\"1\" style=\"fill: #caedff\"/>\\n          <circle class=\"planet\" cx=\"1539\" cy=\"124\" r=\"2\" style=\"fill: #caedff\"/>\\n          <circle class=\"planet\" cx=\"1827\" cy=\"276\" r=\"2\" style=\"fill: #caedff\"/>\\n          <circle class=\"planet\" cx=\"1503\" cy=\"232\" r=\"2\" style=\"fill: #caedff\"/>\\n          <circle class=\"planet\" cx=\"1965\" cy=\"234\" r=\"2\" style=\"fill: #34b3e4\"/>\\n          <polygon class=\"star\" points=\"359 802 356 802 356 799 354 799 354 802 351 802 351 804 354 804 354 807 356 807 356 804 359 804 359 802\" style=\"fill: #34b3e4\"/>\\n          <polygon class=\"star\" points=\"317 676 314 676 314 673 312 673 312 676 309 676 309 678 312 678 312 681 314 681 314 678 317 678 317 676\" style=\"fill: #caedff\"/>\\n          <polygon class=\"star\" points=\"147 574 144 574 144 571 142 571 142 574 139 574 139 576 142 576 142 579 144 579 144 576 147 576 147 574\" style=\"fill: #caedff\"/>\\n          <circle class=\"planet\" cx=\"87\" cy=\"630\" r=\"2\" style=\"fill: #9bdaf3\"/>\\n          <circle class=\"planet\" cx=\"130\" cy=\"789\" r=\"1\" style=\"fill: #34b3e4\"/>\\n          <circle class=\"planet\" cx=\"208\" cy=\"722\" r=\"1\" style=\"fill: #caedff\"/>\\n          <circle class=\"planet\" cx=\"18\" cy=\"771\" r=\"1\" style=\"fill: #9bdaf3\"/>\\n          <circle class=\"planet\" cx=\"320\" cy=\"603\" r=\"1\" style=\"fill: #9bdaf3\"/>\\n          <circle class=\"planet\" cx=\"60\" cy=\"571\" r=\"1\" style=\"fill: #caedff\"/>\\n          <polygon class=\"star\" points=\"280 375 277 375 277 372 275 372 275 375 272 375 272 377 275 377 275 380 277 380 277 377 280 377 280 375\" style=\"fill: #caedff\"/>\\n          <circle class=\"planet\" cx=\"348\" cy=\"458\" r=\"2\" style=\"fill: #caedff\"/>\\n          <circle class=\"planet\" cx=\"326\" cy=\"294\" r=\"1\" style=\"fill: #caedff\"/>\\n          <polygon class=\"star\" points=\"73 461 70 461 70 458 68 458 68 461 65 461 65 463 68 463 68 466 70 466 70 463 73 463 73 461\" style=\"fill: #9bdaf3\"/>\\n          <polygon class=\"star\" points=\"69 256 66 256 66 253 64 253 64 256 61 256 61 258 64 258 64 261 66 261 66 258 69 258 69 256\" style=\"fill: #caedff\"/>\\n          <circle class=\"planet\" cx=\"59\" cy=\"310\" r=\"1\" style=\"fill: #caedff\"/>\\n          <circle class=\"planet\" cx=\"145\" cy=\"340\" r=\"2\" style=\"fill: #34b3e4\"/>\\n          <polygon class=\"star\" points=\"2278 837 2275 837 2275 834 2273 834 2273 837 2270 837 2270 839 2273 839 2273 842 2275 842 2275 839 2278 839 2278 837\" style=\"fill: #9bdaf3\"/>\\n          <polygon class=\"star\" points=\"2510 810 2507 810 2507 807 2505 807 2505 810 2502 810 2502 812 2505 812 2505 815 2507 815 2507 812 2510 812 2510 810\" style=\"fill: #caedff\"/>\\n          <circle class=\"planet\" cx=\"2450\" cy=\"866\" r=\"2\" style=\"fill: #9bdaf3\"/>\\n          <circle class=\"planet\" cx=\"2259\" cy=\"796\" r=\"1\" style=\"fill: #caedff\"/>\\n          <circle class=\"planet\" cx=\"2423\" cy=\"807\" r=\"1\" style=\"fill: #caedff\"/>\\n          <polygon class=\"star\" points=\"2299 623 2296 623 2296 620 2294 620 2294 623 2291 623 2291 625 2294 625 2294 628 2296 628 2296 625 2299 625 2299 623\" style=\"fill: #caedff\"/>\\n          <polygon class=\"star\" points=\"2436 697 2433 697 2433 694 2431 694 2431 697 2428 697 2428 699 2431 699 2431 702 2433 702 2433 699 2436 699 2436 697\" style=\"fill: #9bdaf3\"/>\\n          <circle class=\"planet\" cx=\"2422\" cy=\"546\" r=\"1\" style=\"fill: #caedff\"/>\\n          <circle class=\"planet\" cx=\"2370\" cy=\"618\" r=\"2\" style=\"fill: #caedff\"/>\\n          <circle class=\"planet\" cx=\"2508\" cy=\"576\" r=\"2\" style=\"fill: #34b3e4\"/>\\n          <circle class=\"planet\" cx=\"1638\" cy=\"92\" r=\"1\" style=\"fill: #34b3e4\"/>\\n          <circle class=\"planet\" cx=\"1523\" cy=\"317\" r=\"1\" style=\"fill: #caedff\"/>\\n          <circle class=\"planet\" cx=\"535\" cy=\"1028\" r=\"1\" style=\"fill: #caedff\"/>\\n          <circle class=\"planet\" cx=\"670\" cy=\"1040\" r=\"1\" style=\"fill: #9bdaf3\"/>\\n          <circle class=\"planet\" cx=\"818\" cy=\"1179\" r=\"1\" style=\"fill: #9bdaf3\"/>\\n          <circle class=\"planet\" cx=\"968\" cy=\"888\" r=\"1\" style=\"fill: #caedff\"/>\\n        </svg>\\n      </div>\\n      <div id=\"mountains\" aria-hidden=\"true\">\\n        <svg xmlns=\"http://www.w3.org/2000/svg\" width=\"2560\" height=\"1440\" viewBox=\"0 0 2560 1440\">\\n          <g style=\"isolation: isolate\">\\n            <g id=\"Artwork\">\\n              <polygon points=\"2560 941.4 2480 991 2437 961 2210 1121 2222 1167 2560 1202.74 2560 941.4\" style=\"fill: #e6f7ff\"/>\\n              <path d=\"M244,989C204,960,85,823,69,801L1,854.21v367.21L210,1304l189-144S284,1018,244,989Z\" style=\"fill: #e6f7ff;mix-blend-mode: multiply\"/>\\n              <path d=\"M69,801L1,854.21V986l20-32,50,103,44-92,40,53,68.18-46.8C172.85,924.07,82.77,819.94,69,801Z\" style=\"fill: #e6f7ff;opacity: 0.45;mix-blend-mode: screen\"/>\\n              <path d=\"M320,1294V1172s198-33.67,354,40,464.22,59,518,52,301.34-74.39,539-60c247.67,15,323.67,33.67,509-12.33V1294S321.33,1295,320,1294Z\" style=\"fill: #e6f7ff;mix-blend-mode: multiply\"/>\\n              <rect x=\"320\" y=\"1294\" width=\"1920\" height=\"146\" style=\"fill: #caedff\"/>\\n              <polygon points=\"794.5 1129 732 1401.73 794.5 1401.73 857 1401.73 794.5 1129\" style=\"fill: #9bdaf3\"/>\\n              <polygon points=\"1886.5 1133.27 1824 1406 1886.5 1406 1949 1406 1886.5 1133.27\" style=\"fill: #9bdaf3\"/>\\n              <polygon points=\"2163.23 942.27 2056.96 1406 2163.23 1406 2269.5 1406 2163.23 942.27\" style=\"fill: #9bdaf3\"/>\\n              <polygon points=\"2467.77 1002.27 2357 1406 2467.77 1406 2578.54 1406 2467.77 1002.27\" style=\"fill: #9bdaf3\"/>\\n              <polygon points=\"2278.77 1002.27 2168 1406 2278.77 1406 2389.54 1406 2278.77 1002.27\" style=\"fill: #9bdaf3\"/>\\n              <polygon points=\"493.21 1027.27 406.42 1406 493.21 1406 580 1406 493.21 1027.27\" style=\"fill: #9bdaf3\"/>\\n              <polygon points=\"294.21 949.27 207.42 1406 294.21 1406 381 1406 294.21 949.27\" style=\"fill: #9bdaf3\"/>\\n              <polygon points=\"142.79 1024 56 1406 142.79 1406 229.58 1406 142.79 1024\" style=\"fill: #9bdaf3\"/>\\n              <polygon points=\"81.79 951 -5 1406 81.79 1406 168.58 1406 81.79 951\" style=\"fill: #9bdaf3\"/>\\n              <polygon points=\"1712.5 1185 1672 1361.73 1712.5 1361.73 1753 1361.73 1712.5 1185\" style=\"fill: #9bdaf3\"/>\\n              <polygon points=\"1605 1206 1583 1302 1605 1302 1627 1302 1605 1206\" style=\"fill: #caedff\"/>\\n              <polygon points=\"1574 1227 1552 1323 1574 1323 1596 1323 1574 1227\" style=\"fill: #caedff\"/>\\n              <polygon points=\"1449 1250 1427 1346 1449 1346 1471 1346 1449 1250\" style=\"fill: #caedff\"/>\\n              <polygon points=\"1014 1207 992 1303 1014 1303 1036 1303 1014 1207\" style=\"fill: #caedff\"/>\\n              <polygon points=\"989 1235 967 1331 989 1331 1011 1331 989 1235\" style=\"fill: #caedff\"/>\\n              <polygon points=\"918 1223 896 1319 918 1319 940 1319 918 1223\" style=\"fill: #caedff\"/>\\n              <polygon points=\"660.5 1184 626.88 1330.73 660.5 1330.73 694.13 1330.73 660.5 1184\" style=\"fill: #9bdaf3\"/>\\n              <polygon points=\"1789.21 974 1682.42 1440 1789.21 1440 1896 1440 1789.21 974\" style=\"fill: #65c3e8\"/>\\n              <polygon points=\"1969.38 906 1847 1440 1969.38 1440 2091.75 1440 1969.38 906\" style=\"fill: #65c3e8\"/>\\n              <polygon points=\"2087.44 833 1948.33 1440 2087.44 1440 2226.54 1440 2087.44 833\" style=\"fill: #65c3e8\"/>\\n              <polygon points=\"2375.6 847 2207 1440 2375.6 1440 2544.21 1440 2375.6 847\" style=\"fill: #65c3e8\"/>\\n              <polygon points=\"2237.58 873 2107.64 1440 2237.58 1440 2367.51 1440 2237.58 873\" style=\"fill: #65c3e8\"/>\\n              <polygon points=\"2538.94 873 2409 1440 2538.94 1440 2668.88 1440 2538.94 873\" style=\"fill: #65c3e8\"/>\\n              <polygon points=\"584.79 995.82 483 1440 584.79 1440 686.58 1440 584.79 995.82\" style=\"fill: #65c3e8\"/>\\n              <polygon points=\"444.42 893.82 319.25 1440 444.42 1440 569.58 1440 444.42 893.82\" style=\"fill: #65c3e8\"/>\\n              <polygon points=\"344.17 909.54 222.61 1440 344.17 1440 465.73 1440 344.17 909.54\" style=\"fill: #65c3e8\"/>\\n              <polygon points=\"222.44 822.54 88.88 1440 222.44 1440 356 1440 222.44 822.54\" style=\"fill: #65c3e8\"/>\\n              <polygon points=\"44.56 898 -89 1440 44.56 1440 178.13 1440 44.56 898\" style=\"fill: #65c3e8\"/>\\n              <polygon points=\"718.5 1066.91 633 1440 718.5 1440 804 1440 718.5 1066.91\" style=\"fill: #65c3e8\"/>\\n              <g>\\n                <rect x=\"1362\" y=\"1311\" width=\"38\" height=\"6\" style=\"fill: #34b3e4\"/>\\n                <path d=\"M1399,1312v4h-36v-4h36m2-2h-40v8h40v-8h0Z\" style=\"fill: #005e93\"/>\\n              </g>\\n              <g>\\n                <rect x=\"1365\" y=\"1305\" width=\"38\" height=\"6\" style=\"fill: #9bdaf3\"/>\\n                <path d=\"M1402,1306v4h-36v-4h36m2-2h-40v8h40v-8h0Z\" style=\"fill: #005e93\"/>\\n              </g>\\n              <g>\\n                <path d=\"M1173,1323v-26.29l-6.79-10.66,2-2.65,4.8,3.6v-9a1,1,0,0,1,1-1h28a1,1,0,0,1,1,1v45h-30Z\" style=\"fill: #9bdaf3\"/>\\n                <path d=\"M1202,1278v44h-28v-25.58l-0.31-.49-6.26-9.83,1-1.29,2.4,1.8,3.2,2.4v-11h28m0-2h-28a2,2,0,0,0-2,2v7l-4-3-3,4,7,11v27h32v-46a2,2,0,0,0-2-2h0Z\" style=\"fill: #005e93\"/>\\n              </g>\\n              <rect x=\"1178\" y=\"1301\" width=\"2\" height=\"21\" style=\"fill: #005e93\"/>\\n              <rect x=\"1184\" y=\"1318\" width=\"2\" height=\"4\" style=\"fill: #005e93\"/>\\n              <rect x=\"1184\" y=\"1282\" width=\"2\" height=\"4\" style=\"fill: #005e93\"/>\\n              <rect x=\"1184\" y=\"1290\" width=\"2\" height=\"19\" style=\"fill: #005e93\"/>\\n              <rect x=\"1190\" y=\"1314\" width=\"2\" height=\"8\" style=\"fill: #005e93\"/>\\n              <rect x=\"1190\" y=\"1280\" width=\"2\" height=\"13\" style=\"fill: #005e93\"/>\\n              <rect x=\"1190\" y=\"1301\" width=\"2\" height=\"9\" style=\"fill: #005e93\"/>\\n              <rect x=\"1178\" y=\"1290\" width=\"2\" height=\"8\" style=\"fill: #005e93\"/>\\n              <rect x=\"1178\" y=\"1278\" width=\"2\" height=\"6\" style=\"fill: #005e93\"/>\\n              <rect x=\"1196\" y=\"1278\" width=\"2\" height=\"12\" style=\"fill: #005e93\"/>\\n              <rect x=\"1196\" y=\"1292\" width=\"2\" height=\"9\" style=\"fill: #005e93\"/>\\n              <rect x=\"1196\" y=\"1304\" width=\"2\" height=\"15\" style=\"fill: #005e93\"/>\\n              <rect x=\"1356\" y=\"1316\" width=\"50\" height=\"2\" style=\"fill: #9bdaf3\"/>\\n              <g>\\n                <g>\\n                  <path d=\"M1162,1323a1,1,0,0,1-1-1v-26a1,1,0,0,1,1-1h18v28h-18Z\" style=\"fill: #e1e9ee\"/>\\n                  <path d=\"M1179,1296v26h-17v-26h17m2-2h-19a2,2,0,0,0-2,2v26a2,2,0,0,0,2,2h19v-30h0Z\" style=\"fill: #005e93\"/>\\n                </g>\\n                <rect x=\"1164\" y=\"1298\" width=\"15\" height=\"22\" style=\"fill: #fff\"/>\\n                <g>\\n                  <path d=\"M1180,1323v-28h18a1,1,0,0,1,1,1v26a1,1,0,0,1-1,1h-18Z\" style=\"fill: #e1e9ee\"/>\\n                  <path d=\"M1198,1296v26h-17v-26h17m0-2h-19v30h19a2,2,0,0,0,2-2v-26a2,2,0,0,0-2-2h0Z\" style=\"fill: #005e93\"/>\\n                </g>\\n                <rect x=\"1181\" y=\"1298\" width=\"15\" height=\"22\" transform=\"translate(2377 2618) rotate(-180)\" style=\"fill: #fff\"/>\\n                <rect x=\"1166\" y=\"1304\" width=\"11\" height=\"2\" style=\"fill: #e1e9ee\"/>\\n                <rect x=\"1166\" y=\"1308\" width=\"11\" height=\"2\" style=\"fill: #e1e9ee\"/>\\n                <rect x=\"1166\" y=\"1312\" width=\"6\" height=\"2\" style=\"fill: #e1e9ee\"/>\\n                <polygon points=\"1177 1316 1175 1314 1173 1316 1173 1298 1177 1298 1177 1316\" style=\"fill: #65c3e8\"/>\\n                <rect x=\"1166\" y=\"1300\" width=\"5\" height=\"2\" style=\"fill: #e1e9ee\"/>\\n                <rect x=\"1183\" y=\"1304\" width=\"11\" height=\"2\" style=\"fill: #e1e9ee\"/>\\n                <rect x=\"1183\" y=\"1308\" width=\"11\" height=\"2\" style=\"fill: #e1e9ee\"/>\\n                <rect x=\"1183\" y=\"1312\" width=\"11\" height=\"2\" style=\"fill: #e1e9ee\"/>\\n                <rect x=\"1183\" y=\"1316\" width=\"8\" height=\"2\" style=\"fill: #e1e9ee\"/>\\n                <rect x=\"1183\" y=\"1300\" width=\"5\" height=\"2\" style=\"fill: #e1e9ee\"/>\\n              </g>\\n              <rect x=\"1156\" y=\"1322\" width=\"52\" height=\"2\" style=\"fill: #9bdaf3\"/>\\n              <rect x=\"1377\" y=\"1306\" width=\"14\" height=\"4\" style=\"fill: #65c3e8\"/>\\n              <rect x=\"1367\" y=\"1312\" width=\"14\" height=\"4\" style=\"fill: #0084bf\"/>\\n              <g>\\n                <polygon points=\"995.25 1359 996.87 1351.7 1007.12 1347.04 1016.24 1348.87 1018.15 1354.61 1024 1359 995.25 1359\" style=\"fill: #e1e9ee\"/>\\n                <path d=\"M1007.24,1348.09l8.23,1.65,1.63,4.9,0.2,0.59,0.5,0.38,3.2,2.4H996.49l1.24-5.59,9.5-4.32M1007,1346l-11,5-2,9h33l-8-6-2-6-10-2h0Z\" style=\"fill: #acb9c2\"/>\\n              </g>\\n              <g>\\n                <polygon points=\"966.28 1352 966.9 1349.51 970.36 1346.05 977.38 1346.93 980.28 1352 966.28 1352\" style=\"fill: #e1e9ee\"/>\\n                <path d=\"M970.72,1347.11l6,0.75,1.79,3.14h-11l0.24-1,2.92-2.92M970,1345l-4,4-1,4h17l-4-7-8-1h0Z\" style=\"fill: #acb9c2\"/>\\n              </g>\\n              <rect x=\"991\" y=\"1358\" width=\"38\" height=\"2\" style=\"fill: #9bdaf3\"/>\\n              <g>\\n                <polygon points=\"1522.26 1357 1524.89 1345.57 1533.47 1338.9 1548.96 1334.06 1566.28 1340.79 1574.38 1357 1522.26 1357\" style=\"fill: #e1e9ee\"/>\\n                <path d=\"M1548.93,1335.12l16.63,6.47,7.21,14.42h-49.25l2.27-9.86,8.15-6.34,15-4.68M1549,1333l-16,5-9,7-3,13h55l-9-18-18-7h0Z\" style=\"fill: #acb9c2\"/>\\n              </g>\\n              <rect x=\"1516\" y=\"1356\" width=\"66\" height=\"2\" style=\"fill: #9bdaf3\"/>\\n              <rect x=\"963\" y=\"1351\" width=\"20\" height=\"2\" style=\"fill: #9bdaf3\"/>\\n            </g>\\n          </g>\\n        </svg>\\n\\n      </div>\\n\\n      <div id=\"telescopeBase\" class=\"telescope\" aria-hidden=\"true\">\\n        <svg id=\"Artwork\" xmlns=\"http://www.w3.org/2000/svg\" width=\"2560\" height=\"1440\" viewBox=\"0 0 2560 1440\">\\n          <g>\\n            <path d=\"M1243.73,1313.82a1,1,0,0,1-.5-0.13l-3.46-2a1,1,0,0,1-.37-1.36l37.5-65,5.2,3-37.5,65a1,1,0,0,1-.87.5h0Z\" style=\"fill: #c7d1d8\"/>\\n            <path d=\"M1277.27,1246.73l3.46,2-37,64.09-3.46-2,37-64.09m-0.73-2.73-38,65.82a2,2,0,0,0,.73,2.73l3.46,2a2,2,0,0,0,2.73-.73l38-65.82-6.93-4h0Z\" style=\"fill: #005e93\"/>\\n          </g>\\n          <g>\\n            <path d=\"M1316.27,1313.82a1,1,0,0,1-.87-0.5l-37.5-65,5.2-3,37.5,65a1,1,0,0,1-.37,1.37l-3.46,2a1,1,0,0,1-.5.13h0Z\" style=\"fill: #c7d1d8\"/>\\n            <path d=\"M1282.73,1246.73l37,64.09-3.46,2-37-64.09,3.46-2m0.73-2.73-6.93,4,38,65.82a2,2,0,0,0,2.73.73l3.46-2a2,2,0,0,0,.73-2.73l-38-65.82h0Z\" style=\"fill: #005e93\"/>\\n          </g>\\n          <g>\\n            <path d=\"M1278,1323a1,1,0,0,1-1-1v-75h6v75a1,1,0,0,1-1,1h-4Z\" style=\"fill: #e1e9ee\"/>\\n            <path d=\"M1282,1248v74h-4v-74h4m2-2h-8v76a2,2,0,0,0,2,2h4a2,2,0,0,0,2-2v-76h0Z\" style=\"fill: #005e93\"/>\\n          </g>\\n          <g>\\n            <rect x=\"1269\" y=\"1237\" width=\"22\" height=\"10\" rx=\"1\" ry=\"1\" style=\"fill: #65c3e8\"/>\\n            <path d=\"M1290,1238v8h-20v-8h20m0-2h-20a2,2,0,0,0-2,2v8a2,2,0,0,0,2,2h20a2,2,0,0,0,2-2v-8a2,2,0,0,0-2-2h0Z\" style=\"fill: #005e93\"/>\\n          </g>\\n          <g>\\n            <path d=\"M1272,1253a1,1,0,0,1-1-1v-5h18v5a1,1,0,0,1-1,1h-16Z\" style=\"fill: #65c3e8\"/>\\n            <path d=\"M1288,1248v4h-16v-4h16m2-2h-20v6a2,2,0,0,0,2,2h16a2,2,0,0,0,2-2v-6h0Z\" style=\"fill: #005e93\"/>\\n          </g>\\n          <g>\\n            <rect x=\"1278\" y=\"1229\" width=\"4\" height=\"8\" style=\"fill: #c7d1d8\"/>\\n            <path d=\"M1281,1230v6h-2v-6h2m2-2h-6v10h6v-10h0Z\" style=\"fill: #005e93\"/>\\n          </g>\\n          <g id=\"scope-joint\">\\n            <path d=\"M1277.68,1229a1.68,1.68,0,0,1-1.68-1.68V1213h8v14.32a1.68,1.68,0,0,1-1.68,1.68h-4.63Z\" style=\"fill: #e1e9ee\"/>\\n            <path d=\"M1283,1214v13.32a0.68,0.68,0,0,1-.68.68h-4.63a0.68,0.68,0,0,1-.68-0.68V1214h6m2-2h-10v15.32a2.68,2.68,0,0,0,2.68,2.68h4.63a2.68,2.68,0,0,0,2.68-2.68V1212h0Z\" style=\"fill: #005e93\"/>\\n          </g>\\n          <rect x=\"1279\" y=\"1322\" width=\"2\" height=\"6\" style=\"fill: #005e93\"/>\\n          <rect x=\"1239.5\" y=\"1311.42\" width=\"2\" height=\"6\" transform=\"translate(823.4 -444.15) rotate(30)\" style=\"fill: #005e93\"/>\\n          <rect x=\"1318.5\" y=\"1311.42\" width=\"2\" height=\"6\" transform=\"translate(-480.43 835.85) rotate(-30)\" style=\"fill: #005e93\"/>\\n          <rect x=\"1273\" y=\"1328\" width=\"14\" height=\"2\" style=\"fill: #9bdaf3\"/>\\n\\n          <rect x=\"1313\" y=\"1316\" width=\"14\" height=\"2\" style=\"fill: #9bdaf3\"/>\\n          <rect x=\"1233\" y=\"1316\" width=\"14\" height=\"2\" style=\"fill: #9bdaf3\"/>\\n        </svg>\\n      </div>\\n\\n      <div id=\"telescopeScope\" class=\"telescope\" aria-hidden=\"true\">\\n        <svg id=\"Artwork\" xmlns=\"http://www.w3.org/2000/svg\" width=\"2560\" height=\"1440\" viewBox=\"0 0 2560 1440\">\\n          <g class=\"scope\">\\n            <path d=\"M1267.68,1229.93a1,1,0,0,1-.87-0.5l-8-13.86a1,1,0,0,1,.37-1.37l25.11-14.5,9,15.59-25.11,14.5a1,1,0,0,1-.5.13h0Z\" style=\"fill: #fff\"/>\\n            <path d=\"M1283.93,1201.07l8,13.86-24.25,14-8-13.86,24.25-14m0.73-2.73-26,15a2,2,0,0,0-.73,2.73l8,13.86a2,2,0,0,0,2.73.73l26-15-10-17.32h0Z\" style=\"fill: #005e93\"/>\\n          </g>\\n          <g class=\"scope\">\\n            <path d=\"M1295.16,1217.53a1,1,0,0,1-.87-0.5l-11-19.05a1,1,0,0,1,.37-1.37l28.58-16.5,12,20.79-28.58,16.5a1,1,0,0,1-.5.13h0Z\" style=\"fill: #fff\"/>\\n            <path d=\"M1311.87,1181.47l11,19.05-27.71,16-11-19.05,27.71-16m0.73-2.73-29.44,17a2,2,0,0,0-.73,2.73l11,19.05a2,2,0,0,0,2.73.73l29.44-17-13-22.52h0Z\" style=\"fill: #005e93\"/>\\n          </g>\\n          <g class=\"scope\">\\n            <path d=\"M1326.11,1203.12a1,1,0,0,1-.87-0.5l-14-24.25a1,1,0,0,1,.37-1.37l3.46-2a1,1,0,0,1,.5-0.13,1,1,0,0,1,.87.5l14,24.25a1,1,0,0,1-.37,1.37l-3.46,2a1,1,0,0,1-.5.13h0Z\" style=\"fill: #65c3e8\"/>\\n            <path d=\"M1315.57,1175.88h0l14,24.25-3.46,2-14-24.25,3.46-2m0-2a2,2,0,0,0-1,.27l-3.46,2a2,2,0,0,0-.73,2.73l14,24.25a2,2,0,0,0,2.73.73l3.46-2a2,2,0,0,0,.73-2.73l-14-24.25a2,2,0,0,0-1.73-1h0Z\" style=\"fill: #005e93\"/>\\n          </g>\\n          <g class=\"scope\">\\n            <path d=\"M1248.86,1237.33a1,1,0,0,1-.87-0.5l-5-8.66a1,1,0,0,1,.37-1.37l16.45-9.5,6,10.39-16.45,9.5a1,1,0,0,1-.5.13h0Z\" style=\"fill: #fff\"/>\\n            <path d=\"M1259.45,1218.67l5,8.66-15.59,9-5-8.66,15.59-9m0.73-2.73-17.32,10a2,2,0,0,0-.73,2.73l5,8.66a2,2,0,0,0,2.73.73l17.32-10-7-12.12h0Z\" style=\"fill: #005e93\"/>\\n          </g>\\n          <g class=\"scope\">\\n            <rect x=\"1238.03\" y=\"1232.5\" width=\"8\" height=\"4\" transform=\"translate(-450.85 786.4) rotate(-30)\" style=\"fill: #f3f6f8\"/>\\n            <path d=\"M1244.13,1232.13l1,1.73-5.2,3-1-1.73,5.2-3m0.73-2.73-8.66,5,3,5.2,8.66-5-3-5.2h0Z\" style=\"fill: #005e93\"/>\\n          </g>\\n          <rect class=\"scope\" x=\"1234.56\" y=\"1235.5\" width=\"8\" height=\"2\" transform=\"translate(1690.12 -454.38) rotate(60)\" style=\"fill: #005e93\"/>\\n          <rect class=\"scope\" x=\"1286.06\" y=\"1200.5\" width=\"2\" height=\"16\" transform=\"translate(-431.82 805.44) rotate(-30)\" style=\"fill: #caedff\"/>\\n          <rect class=\"scope\" x=\"1260.08\" y=\"1218.5\" width=\"2\" height=\"10\" transform=\"translate(-442.8 794.46) rotate(-30)\" style=\"fill: #caedff\"/>\\n          <rect class=\"scope\" x=\"1315.51\" y=\"1180.5\" width=\"2\" height=\"22\" transform=\"translate(-419.37 817.88) rotate(-30)\" style=\"fill: #caedff\"/>\\n        </svg>\\n      </div>\\n    </div>\\n\\n\\n\\n    <div id=\"body-header\" role=\"banner\">\\n      <div class=\"header-content\">\\n\\n\\n\\n          <div id=\"language-selector\">\\n            <label for=\"selectLanguage\">é\\x81¸æ\\x93\\x87èª\\x9eè¨\\x80</label>\\n            <select id=\"selectLanguage\" data-embedi18n=\"true\">\\n                <option value=\"in_ID\" lang=\"in-ID\">Bahasa Indonesia (Bahasa Indonesia)</option>\\n                <option value=\"ms_MY\" lang=\"ms-MY\">Bahasa Malaysia (Malay)</option>\\n                <option value=\"cs_CZ\" lang=\"cs-CZ\">&#x10C;e&scaron;tina (Czech)</option>\\n                <option value=\"da_DK\" lang=\"da-DK\">Dansk (Danish)</option>\\n                <option value=\"de_DE\" lang=\"de-DE\">Deutsch (German)</option>\\n                <option value=\"en_US\" lang=\"en-US\" selected>English (English)</option>\\n                <option value=\"es_ES\" lang=\"es-ES\">Espa&ntilde;ol (Spanish)</option>\\n                <option value=\"zh_TW\" lang=\"zh-TW\">&#x7E41;&#x9AD4;&#x4E2D;&#x6587; (Chinese (Traditional))</option>\\n                <option value=\"fr_FR\" lang=\"fr-FR\">Fran&ccedil;ais (French)</option>\\n                <option value=\"ko_KR\" lang=\"ko-KR\">&#xD55C;&#xAD6D;&#xC5B4; (Korean)</option>\\n                <option value=\"it_IT\" lang=\"it-IT\">Italiano (Italian)</option>\\n                <option value=\"zh_CN\" lang=\"zh-CN\">&#x7B80;&#x4F53;&#x4E2D;&#x6587; (Chinese (Simplified))</option>\\n                <option value=\"nl_NL\" lang=\"nl-NL\">Nederlands (Dutch)</option>\\n                <option value=\"ja_JP\" lang=\"ja-JP\">&#x65E5;&#x672C;&#x8A9E; (Japanese)</option>\\n                <option value=\"no_NO\" lang=\"no-NO\">Norsk (Norwegian)</option>\\n                <option value=\"pl_PL\" lang=\"pl-PL\">Polski (Polish)</option>\\n                <option value=\"pt_BR\" lang=\"pt-BR\">Portugu&ecirc;s (Portuguese)</option>\\n                <option value=\"ro_RO\" lang=\"ro-RO\">Rom&#xe2;n&#x103; (Romanian)</option>\\n                <option value=\"ru_RU\" lang=\"ru-RU\">&#x0420;&#x0443;&#x0441;&#x0441;&#x043A;&#x0438;&#x0439; (Russian)</option>\\n                <option value=\"sv_SE\" lang=\"sv-SE\">Svenska (Swedish)</option>\\n                <option value=\"tl_PH\" lang=\"tl-PH\">Tagalog (Tagalog)</option>\\n                <option value=\"th_TH\" lang=\"th-TH\">&#x0E20;&#x0E32;&#x0E29;&#x0E32;&#x0E44;&#x0E17;&#x0E22; (Thai)</option>\\n                <option value=\"tr_TR\" lang=\"tr-TR\">T&#x00FC;rk&#x00E7;e (Turkish)</option>\\n                <option value=\"ar_AE\" lang=\"ar-AE\">&#1575;&#1604;&#1593;&#1585;&#1576;&#1610;&#1577; (Arabic)</option>\\n\\n            </select>\\n            <span aria-hidden=\"true\" class=\"icon-globe\">\\n              <svg viewBox=\"0 0 24 24\" width=\"24px\" height=\"24px\" x=\"0\" y=\"0\" preserveAspectRatio=\"xMinYMin meet\" class=\"artdeco-icon\"><g class=\"large-icon\" style=\"fill: currentColor\">\\n                <path d=\"M12,2A10,10,0,1,0,22,12,10,10,0,0,0,12,2Zm0,1.75a8.25,8.25,0,0,1,1,.07V6.16a1,1,0,0,1-.3.72L10.8,8.72a1,1,0,0,1-.7.28H9v1.7L5.25,7.27A8.24,8.24,0,0,1,12,3.75Zm0.45,13.36-1.89-.95A1,1,0,0,1,10,15.26V13h3.61a1,1,0,0,1,.71.29l1.39,1.39a1,1,0,0,1,.2,1.13l-2.47,4.3L13,20.18v-2.8ZM3.75,12a8.2,8.2,0,0,1,1-3.87L9,12.06v3.21a2,2,0,0,0,1.11,1.79L12,18v2.25A8.26,8.26,0,0,1,3.75,12Zm11.06,7.75,2-3.46A2,2,0,0,0,16.42,14L15,12.59A2,2,0,0,0,13.61,12H10V10h0.1a2,2,0,0,0,1.39-.57l1.9-1.84A2,2,0,0,0,14,6.16V4A8.24,8.24,0,0,1,14.81,19.75Z\"></path>\\n              </g></svg>\\n            </span>\\n          </div>\\n        <div class=\"header-logo\">\\n          <a href=\"https://www.linkedin.com/\" title=\\'LinkedIn\\'>\\n            <!--[if lte IE 9]><img src=\"/img/logos/logo-linkedin-84x21-21dp.png\" alt=\\'LinkedIn\\'><![endif]--> <!--[if !IE]><!-->\\n            <svg preserveAspectRatio=\"xMinYMin meet\">\\n              <g class=\"scaling-icon\" style=\"fill-opacity: 1\">\\n                <g class=\"logo-21dp\">\\n                  <g class=\"dpi-1\">\\n                    <g class=\"inbug\" stroke=\"none\" stroke-width=\"1\" fill=\"none\" fill-rule=\"evenodd\">\\n                      <path d=\"M19.479,0 L1.583,0 C0.727,0 0,0.677 0,1.511 L0,19.488 C0,20.323 0.477,21 1.333,21 L19.229,21 C20.086,21 21,20.323 21,19.488 L21,1.511 C21,0.677 20.336,0 19.479,0\" class=\"bug-text-color\" fill=\"#FFFFFF\" transform=\"translate(63.000000, 0.000000)\"></path>\\n                      <path d=\"M82.479,0 L64.583,0 C63.727,0 63,0.677 63,1.511 L63,19.488 C63,20.323 63.477,21 64.333,21 L82.229,21 C83.086,21 84,20.323 84,19.488 L84,1.511 C84,0.677 83.336,0 82.479,0 Z M71,8 L73.827,8 L73.827,9.441 L73.858,9.441 C74.289,8.664 75.562,7.875 77.136,7.875 C80.157,7.875 81,9.479 81,12.45 L81,18 L78,18 L78,12.997 C78,11.667 77.469,10.5 76.227,10.5 C74.719,10.5 74,11.521 74,13.197 L74,18 L71,18 L71,8 Z M66,18 L69,18 L69,8 L66,8 L66,18 Z M69.375,4.5 C69.375,5.536 68.536,6.375 67.5,6.375 C66.464,6.375 65.625,5.536 65.625,4.5 C65.625,3.464 66.464,2.625 67.5,2.625 C68.536,2.625 69.375,3.464 69.375,4.5 Z\" class=\"background\" fill=\"#0073B0\"></path>\\n                    </g>\\n                    <g class=\"linkedin-text\">\\n                      <path d=\"M60,18 L57.2,18 L57.2,16.809 L57.17,16.809 C56.547,17.531 55.465,18.125 53.631,18.125 C51.131,18.125 48.978,16.244 48.978,13.011 C48.978,9.931 51.1,7.875 53.725,7.875 C55.35,7.875 56.359,8.453 56.97,9.191 L57,9.191 L57,3 L60,3 L60,18 Z M54.479,10.125 C52.764,10.125 51.8,11.348 51.8,12.974 C51.8,14.601 52.764,15.875 54.479,15.875 C56.196,15.875 57.2,14.634 57.2,12.974 C57.2,11.268 56.196,10.125 54.479,10.125 L54.479,10.125 Z\" fill=\"#000000\"></path>\\n                      <path d=\"M47.6611,16.3889 C46.9531,17.3059 45.4951,18.1249 43.1411,18.1249 C40.0001,18.1249 38.0001,16.0459 38.0001,12.7779 C38.0001,9.8749 39.8121,7.8749 43.2291,7.8749 C46.1801,7.8749 48.0001,9.8129 48.0001,13.2219 C48.0001,13.5629 47.9451,13.8999 47.9451,13.8999 L40.8311,13.8999 L40.8481,14.2089 C41.0451,15.0709 41.6961,16.1249 43.1901,16.1249 C44.4941,16.1249 45.3881,15.4239 45.7921,14.8749 L47.6611,16.3889 Z M45.1131,11.9999 C45.1331,10.9449 44.3591,9.8749 43.1391,9.8749 C41.6871,9.8749 40.9121,11.0089 40.8311,11.9999 L45.1131,11.9999 Z\" fill=\"#000000\"></path>\\n                      <polygon fill=\"#000000\" points=\"38 8 34.5 8 31 12 31 3 28 3 28 18 31 18 31 13 34.699 18 38.241 18 34 12.533\"></polygon>\\n                      <path d=\"M16,8 L18.827,8 L18.827,9.441 L18.858,9.441 C19.289,8.664 20.562,7.875 22.136,7.875 C25.157,7.875 26,9.792 26,12.45 L26,18 L23,18 L23,12.997 C23,11.525 22.469,10.5 21.227,10.5 C19.719,10.5 19,11.694 19,13.197 L19,18 L16,18 L16,8 Z\" fill=\"#000000\"></path>\\n                      <path d=\"M11,18 L14,18 L14,8 L11,8 L11,18 Z M12.501,6.3 C13.495,6.3 14.3,5.494 14.3,4.5 C14.3,3.506 13.495,2.7 12.501,2.7 C11.508,2.7 10.7,3.506 10.7,4.5 C10.7,5.494 11.508,6.3 12.501,6.3 Z\" fill=\"#000000\"></path>\\n                      <polygon fill=\"#000000\" points=\"3 3 0 3 0 18 9 18 9 15 3 15\"></polygon>\\n                    </g>\\n                  </g>\\n                </g>\\n              </g>\\n            </svg>\\n            <!--<![endif]-->\\n          </a>\\n        </div>\\n      </div>\\n    </div>\\n    <div id=\"body-main\" role=\"main\">\\n      <div class=\"body-content\">\\n          <div class=\"not-found-404\">\\n            <!-- I18N_EMBED -->\\n            <!-- ar_AE -->\\n            <div id=\"i18n_ar_AE\">\\n                 <h1 class=\"heading\">Ù\\x84Ù\\x85 Ù\\x8aØªÙ\\x85 Ø§Ù\\x84Ø¹Ø«Ù\\x88Ø± Ø¹Ù\\x84Ù\\x89 Ø§Ù\\x84ØµÙ\\x81Ø\\xadØ©</h1>\\n                 <h2 class=\"subheading\">Ø¹Ù\\x81Ù\\x88Ø§Ù\\x8bØ\\x8c Ù\\x84Ù\\x85 Ù\\x86ØªÙ\\x85Ù\\x83Ù\\x86 Ù\\x85Ù\\x86 Ø§Ù\\x84Ø¹Ø«Ù\\x88Ø± Ø¹Ù\\x84Ù\\x89 Ø§Ù\\x84ØµÙ\\x81Ø\\xadØ© Ø§Ù\\x84ØªÙ\\x8a ØªØ¨Ø\\xadØ« Ø¹Ù\\x86Ù\\x87Ø§. Ø¨Ø±Ø¬Ø§Ø¡ Ø§Ù\\x84Ù\\x85Ø\\xadØ§Ù\\x88Ù\\x84Ø© Ù\\x85Ø±Ø© Ø£Ø®Ø±Ù\\x89 Ù\\x84Ù\\x84ØµÙ\\x81Ø\\xadØ© Ø§Ù\\x84Ø³Ø§Ø¨Ù\\x82Ø© Ø£Ù\\x88 Ø§Ù\\x84Ø§Ù\\x86ØªÙ\\x82Ø§Ù\\x84 Ù\\x84Ù\\x80<a href=\"https://www.linkedin.com/help/linkedin?trk=404_page\" title=\"Ù\\x85Ø±Ù\\x83Ø² Ø§Ù\\x84Ù\\x85Ø³Ø§Ø¹Ø¯Ø©\">Ù\\x85Ø±Ù\\x83Ø² Ø§Ù\\x84Ù\\x85Ø³Ø§Ø¹Ø¯Ø©</a> Ù\\x84Ù\\x84Ù\\x85Ø²Ù\\x8aØ¯ Ù\\x85Ù\\x86 Ø§Ù\\x84Ù\\x85Ø¹Ù\\x84Ù\\x88Ù\\x85Ø§Øª</h2>\\n                 <span class=\"not-found-cta\"><a href=\"https://www.linkedin.com/feed/?trk=404_page\" title=\"Ø§Ù\\x84Ø¥Ù\\x86ØªÙ\\x82Ø§Ù\\x84 Ù\\x84Ù\\x85Ù\\x88Ø¬Ø²Ù\\x83 Ø§Ù\\x84Ø±Ø¦Ù\\x8aØ³Ù\\x8a\">Ø§Ù\\x84Ø¥Ù\\x86ØªÙ\\x82Ø§Ù\\x84 Ù\\x84Ù\\x85Ù\\x88Ø¬Ø²Ù\\x83 Ø§Ù\\x84Ø±Ø¦Ù\\x8aØ³Ù\\x8a</a></span>\\n            </div>\\n            <!-- /I18N_EMBED -->\\n\\n                <!-- I18N_EMBED -->\\n            <!-- cs_CZ -->\\n            <div id=\"i18n_cs_CZ\">\\n                 <h1 class=\"heading\">StrÃ¡nka nenalezena</h1>\\n                 <h2 class=\"subheading\">Ouha, nemÅ¯Å¾eme najÃ\\xadt strÃ¡nku, kterou hledÃ¡te. Zkuste se vrÃ¡tit zpÃ¡tky na pÅ\\x99edchozÃ\\xad strÃ¡nku, nebo se podÃ\\xadvejte do naÅ¡eho <a href=\"https://www.linkedin.com/help/linkedin?trk=404_page\" title=\"Centrum nÃ¡povÄ\\x9bdy\">Centra nÃ¡povÄ\\x9bdy</a> pro vÃ\\xadce informacÃ\\xad</h2>\\n                 <span class=\"not-found-cta\"><a href=\"https://www.linkedin.com/feed/?trk=404_page\" title=\"PÅ\\x99ejÃ\\xadt do informaÄ\\x8dnÃ\\xadho kanÃ¡lu\">PÅ\\x99ejÃ\\xadt do informaÄ\\x8dnÃ\\xadho kanÃ¡lu</a></span>\\n            </div>\\n            <!-- /I18N_EMBED -->\\n\\n                <!-- I18N_EMBED -->\\n            <!-- da_DK -->\\n            <div id=\"i18n_da_DK\">\\n                 <h1 class=\"heading\">Siden blev ikke fundet</h1>\\n                 <h2 class=\"subheading\">Vi kan desvÃ¦rre ikke finde den side, du leder efter. GÃ¥ tilbage til den forrige side, eller besÃ¸g <a href=\"https://www.linkedin.com/help/linkedin?trk=404_page\" title=\"HjÃ¦lp\">HjÃ¦lp</a> for at fÃ¥ flere oplysninger</h2>\\n                 <span class=\"not-found-cta\"><a href=\"https://www.linkedin.com/feed/?trk=404_page\" title=\"GÃ¥ til dit feed\">GÃ¥ til dit feed</a></span>\\n            </div>\\n            <!-- /I18N_EMBED -->\\n\\n                <!-- I18N_EMBED -->\\n            <!-- de_DE -->\\n            <div id=\"i18n_de_DE\">\\n                 <h1 class=\"heading\">Seite nicht gefunden</h1>\\n                 <h2 class=\"subheading\">Die gewÃ¼nschte Seite konnte leider nicht gefunden werden. Versuchen Sie, zur vorherigen Seite zurÃ¼ckzukehren, oder besuchen Sie unseren <a href=\"https://www.linkedin.com/help/linkedin?trk=404_page\" title=\"Hilfebereich\">Hilfebereich</a>, um mehr zu erfahren.</h2>\\n                 <span class=\"not-found-cta\"><a href=\"https://www.linkedin.com/feed/?trk=404_page\" title=\"Zu Ihrem Feed\">Zu Ihrem Feed</a></span>\\n            </div>\\n            <!-- /I18N_EMBED -->\\n\\n                <!-- I18N_EMBED -->\\n            <!-- en_US -->\\n            <div id=\"i18n_en_US\">\\n                 <h1 class=\"heading\">Page not found</h1>\\n                 <h2 class=\"subheading\">Uh oh, we canâ\\x80\\x99t seem to find the page youâ\\x80\\x99re looking for. Try going back to the previous page or see our <a href=\"https://www.linkedin.com/help/linkedin?trk=404_page\" title=\"Help Center\">Help Center</a> for more information</h2>\\n                 <span class=\"not-found-cta\"><a href=\"https://www.linkedin.com/feed/?trk=404_page\" title=\"Go to your feed\">Go to your feed</a></span>\\n            </div>\\n            <!-- /I18N_EMBED -->\\n\\n                <!-- I18N_EMBED -->\\n            <!-- es_ES -->\\n            <div id=\"i18n_es_ES\">\\n                 <h1 class=\"heading\">PÃ¡gina no encontrada</h1>\\n                 <h2 class=\"subheading\">Vaya, parece que no podemos encontrar la pÃ¡gina que buscas. Intenta volver a la pÃ¡gina anterior o visita nuestro <a href=\"https://www.linkedin.com/help/linkedin?trk=404_page\" title=\"Centro de ayuda\">Centro de ayuda</a> para mÃ¡s informaciÃ³n.</h2>\\n                 <span class=\"not-found-cta\"><a href=\"https://www.linkedin.com/feed/?trk=404_page\" title=\"Ir a tu feed\">Ir a tu feed</a></span>\\n            </div>\\n            <!-- /I18N_EMBED -->\\n\\n                <!-- I18N_EMBED -->\\n            <!-- fr_FR -->\\n            <div id=\"i18n_fr_FR\">\\n                 <h1 class=\"heading\">Impossible de trouver cette page</h1>\\n                 <h2 class=\"subheading\">Nous ne trouvons pas la page que vous recherchez. Essayez de retourner Ã\\xa0 la page prÃ©cÃ©dente ou consultez notre <a href=\"https://www.linkedin.com/help/linkedin?trk=404_page\" title=\"assistance clientÃ¨le\">assistance clientÃ¨le</a> pour plus dâ\\x80\\x99informations</h2>\\n                 <span class=\"not-found-cta\"><a href=\"https://www.linkedin.com/feed/?trk=404_page\" title=\"Ouvrez votre flux\">Ouvrez votre flux</a></span>\\n            </div>\\n            <!-- /I18N_EMBED -->\\n\\n                <!-- I18N_EMBED -->\\n            <!-- in_ID -->\\n            <div id=\"i18n_in_ID\">\\n                 <h1 class=\"heading\">Halaman tidak ditemukan</h1>\\n                 <h2 class=\"subheading\">Maaf, sepertinya kami tidak dapat menemukan halaman yang Anda cari. Coba kembali ke halaman sebelumnya atau lihat <a href=\"https://www.linkedin.com/help/linkedin?trk=404_page\" title=\"Pusat Bantuan\">Pusat Bantuan</a> kami untuk informasi lebih lanjut</h2>\\n                 <span class=\"not-found-cta\"><a href=\"https://www.linkedin.com/feed/?trk=404_page\" title=\"Buka feed Anda\">Buka feed Anda</a></span>\\n            </div>\\n            <!-- /I18N_EMBED -->\\n\\n                <!-- I18N_EMBED -->\\n            <!-- it_IT -->\\n            <div id=\"i18n_it_IT\">\\n                 <h1 class=\"heading\">Pagina non trovata</h1>\\n                 <h2 class=\"subheading\">Non abbiamo trovato la pagina che stai cercando. Prova a tornare alla pagina precedente o visita il nostro <a href=\"https://www.linkedin.com/help/linkedin?trk=404_page\" title=\"Centro assistenza\">Centro assistenza</a> per saperne di piÃ¹.</h2>\\n                 <span class=\"not-found-cta\"><a href=\"https://www.linkedin.com/feed/?trk=404_page\" title=\"Vai al tuo feed\">Vai al tuo feed</a></span>\\n            </div>\\n            <!-- /I18N_EMBED -->\\n\\n                <!-- I18N_EMBED -->\\n            <!-- ja_JP -->\\n            <div id=\"i18n_ja_JP\">\\n                 <h1 class=\"heading\">ã\\x83\\x9aã\\x83¼ã\\x82¸ã\\x81\\x8cè¦\\x8bã\\x81¤ã\\x81\\x8bã\\x82\\x8aã\\x81¾ã\\x81\\x9bã\\x82\\x93ã\\x81§ã\\x81\\x97ã\\x81\\x9f</h1>\\n                 <h2 class=\"subheading\">ç\\x94³ã\\x81\\x97è¨³ã\\x81\\x82ã\\x82\\x8aã\\x81¾ã\\x81\\x9bã\\x82\\x93ã\\x80\\x82ã\\x81\\x8aæ\\x8e¢ã\\x81\\x97ã\\x81®ã\\x83\\x9aã\\x83¼ã\\x82¸ã\\x81\\x8cè¦\\x8bã\\x81¤ã\\x81\\x8bã\\x82\\x8aã\\x81¾ã\\x81\\x9bã\\x82\\x93ã\\x80\\x82å\\x89\\x8dã\\x81®ã\\x83\\x9aã\\x83¼ã\\x82¸ã\\x81«æ\\x88»ã\\x82\\x8bã\\x81\\x8bã\\x80\\x81<a href=\"https://www.linkedin.com/help/linkedin?trk=404_page\" title=\"ã\\x83\\x98ã\\x83«ã\\x83\\x97ã\\x82»ã\\x83³ã\\x82¿ã\\x83¼\">ã\\x83\\x98ã\\x83«ã\\x83\\x97ã\\x82»ã\\x83³ã\\x82¿ã\\x83¼</a>ã\\x81§è©³ç´°ã\\x82\\x92ã\\x81\\x94ç¢ºèª\\x8dã\\x81\\x8fã\\x81\\xa0ã\\x81\\x95ã\\x81\\x84</h2>\\n                 <span class=\"not-found-cta\"><a href=\"https://www.linkedin.com/feed/?trk=404_page\" title=\"ã\\x83\\x95ã\\x82£ã\\x83¼ã\\x83\\x89ã\\x81«ç§»å\\x8b\\x95\">ã\\x83\\x95ã\\x82£ã\\x83¼ã\\x83\\x89ã\\x81«ç§»å\\x8b\\x95</a></span>\\n            </div>\\n            <!-- /I18N_EMBED -->\\n\\n                <!-- I18N_EMBED -->\\n            <!-- ko_KR -->\\n            <div id=\"i18n_ko_KR\">\\n                 <h1 class=\"heading\">í\\x8e\\x98ì\\x9d´ì§\\x80 ì\\x97\\x86ì\\x9d\\x8c</h1>\\n                 <h2 class=\"subheading\">ì\\x9b\\x90í\\x95\\x98ì\\x8b\\x9cë\\x8a\\x94 í\\x8e\\x98ì\\x9d´ì§\\x80ë¥¼ ì°¾ì\\x9d\\x84 ì\\x88\\x98 ì\\x97\\x86ì\\x8aµë\\x8b\\x88ë\\x8b¤. ì\\x9d´ì\\xa0\\x84 í\\x8e\\x98ì\\x9d´ì§\\x80ë¡\\x9c ë\\x8f\\x8cì\\x95\\x84ê°\\x80ê±°ë\\x82\\x98 <a href=\"https://www.linkedin.com/help/linkedin?trk=404_page\" title=\"ê³\\xa0ê°\\x9dì\\x84¼í\\x84°\">ê³\\xa0ê°\\x9dì\\x84¼í\\x84°</a>ì\\x97\\x90ì\\x84\\x9c ì\\x9e\\x90ì\\x84¸í\\x9e\\x88 ì\\x95\\x8cì\\x95\\x84ë³´ì\\x84¸ì\\x9a\\x94.</h2>\\n                 <span class=\"not-found-cta\"><a href=\"https://www.linkedin.com/feed/?trk=404_page\" title=\"í\\x99\\x88 ë°\\x94ë¡\\x9cê°\\x80ê¸°\">í\\x99\\x88 ë°\\x94ë¡\\x9cê°\\x80ê¸°</a></span>\\n            </div>\\n            <!-- /I18N_EMBED -->\\n\\n                <!-- I18N_EMBED -->\\n            <!-- ms_MY -->\\n            <div id=\"i18n_ms_MY\">\\n                 <h1 class=\"heading\">Laman tidak ditemui</h1>\\n                 <h2 class=\"subheading\">Harap maaf, kami tidak dapat menemui laman yang ingin anda cari. Cuba kembali ke laman sebelumnya atau lihat <a href=\"https://www.linkedin.com/help/linkedin?trk=404_page\" title=\"Pusat Bantuan\">Pusat Bantuan</a> kami untuk maklumat lanjut</h2>\\n                 <span class=\"not-found-cta\"><a href=\"https://www.linkedin.com/feed/?trk=404_page\" title=\"Pergi ke suapan\">Pergi ke suapan</a></span>\\n            </div>\\n            <!-- /I18N_EMBED -->\\n\\n                <!-- I18N_EMBED -->\\n            <!-- nl_NL -->\\n            <div id=\"i18n_nl_NL\">\\n                 <h1 class=\"heading\">Pagina niet gevonden</h1>\\n                 <h2 class=\"subheading\">De pagina waar u naar op zoek bent, kan niet worden gevonden. Probeer terug te gaan naar de vorige pagina of bezoek het <a href=\"https://www.linkedin.com/help/linkedin?trk=404_page\" title=\"Helpcentrum\">Help Center</a> voor meer informatie</h2>\\n                 <span class=\"not-found-cta\"><a href=\"https://www.linkedin.com/feed/?trk=404_page\" title=\"Ga naar uw feed\">Ga naar uw feed</a></span>\\n            </div>\\n            <!-- /I18N_EMBED -->\\n\\n                <!-- I18N_EMBED -->\\n            <!-- no_NO -->\\n            <div id=\"i18n_no_NO\">\\n                 <h1 class=\"heading\">Fant ikke siden</h1>\\n                 <h2 class=\"subheading\">Vi finner ikke siden du leter etter. GÃ¥ tilbake til forrige side eller besÃ¸k vÃ¥r <a href=\"https://www.linkedin.com/help/linkedin?trk=404_page\" title=\"brukerstÃ¸tte\">brukerstÃ¸tte</a> for mer informasjon</h2>\\n                 <span class=\"not-found-cta\"><a href=\"https://www.linkedin.com/feed/?trk=404_page\" title=\"GÃ¥ til din feed\">GÃ¥ til din feed</a></span>\\n            </div>\\n            <!-- /I18N_EMBED -->\\n\\n                <!-- I18N_EMBED -->\\n            <!-- pl_PL -->\\n            <div id=\"i18n_pl_PL\">\\n                 <h1 class=\"heading\">Nie znaleziono strony</h1>\\n                 <h2 class=\"subheading\">Nie moÅ¼emy znaleÅºÄ\\x87 strony, ktÃ³rej szukasz. SprÃ³buj wrÃ³ciÄ\\x87 do poprzedniej strony lub nasze <a href=\"https://www.linkedin.com/help/linkedin?trk=404_page\" title=\"Centrum pomocy\">Centrum pomocy</a>, aby uzyskaÄ\\x87 wiÄ\\x99cej informacji</h2>\\n                 <span class=\"not-found-cta\"><a href=\"https://www.linkedin.com/feed/?trk=404_page\" title=\"PrzejdÅº do swojego kanaÅ\\x82u\">PrzejdÅº do swojego kanaÅ\\x82u</a></span>\\n            </div>\\n            <!-- /I18N_EMBED -->\\n\\n                <!-- I18N_EMBED -->\\n            <!-- pt_BR -->\\n            <div id=\"i18n_pt_BR\">\\n                 <h1 class=\"heading\">PÃ¡gina nÃ£o encontrada</h1>\\n                 <h2 class=\"subheading\">A pÃ¡gina que vocÃª estÃ¡ procurando nÃ£o foi encontrada. Volte para a pÃ¡gina anterior ou visite nossa <a href=\"https://www.linkedin.com/help/linkedin?trk=404_page\" title=\"Central de Ajuda\">Central de Ajuda</a> para mais informaÃ§Ãµes</h2>\\n                 <span class=\"not-found-cta\"><a href=\"https://www.linkedin.com/feed/?trk=404_page\" title=\"Voltar para seu feed\">Voltar para seu feed</a></span>\\n            </div>\\n            <!-- /I18N_EMBED -->\\n\\n                <!-- I18N_EMBED -->\\n            <!-- ro_RO -->\\n            <div id=\"i18n_ro_RO\">\\n                 <h1 class=\"heading\">Pagina nu a fost gÄ\\x83sitÄ\\x83</h1>\\n                 <h2 class=\"subheading\">Ne pare rÄ\\x83u, nu gÄ\\x83sim pagina pe care o cÄ\\x83utaÅ£i. ReveniÅ£i la pagina anterioarÄ\\x83 sau consultaÅ£i <a href=\"https://www.linkedin.com/help/linkedin?trk=404_page\" title=\"Centrul nostru de asistenÅ£Ä\\x83\">Centrul nostru de asistenÅ£Ä\\x83</a> pentru mai multe informaÅ£ii</h2>\\n                 <span class=\"not-found-cta\"><a href=\"https://www.linkedin.com/feed/?trk=404_page\" title=\"AccesaÅ£i fluxul dvs.\">AccesaÅ£i fluxul dvs.</a></span>\\n            </div>\\n            <!-- /I18N_EMBED -->\\n\\n                <!-- I18N_EMBED -->\\n            <!-- ru_RU -->\\n            <div id=\"i18n_ru_RU\">\\n                 <h1 class=\"heading\">Ð¡Ñ\\x82Ñ\\x80Ð°Ð½Ð¸Ñ\\x86Ð° Ð½Ðµ Ð½Ð°Ð¹Ð´ÐµÐ½Ð°</h1>\\n                 <h2 class=\"subheading\">Ð\\x9dÐµ Ñ\\x83Ð´Ð°Ñ\\x91Ñ\\x82Ñ\\x81Ñ\\x8f Ð½Ð°Ð¹Ñ\\x82Ð¸ Ð¸Ñ\\x81ÐºÐ¾Ð¼Ñ\\x83Ñ\\x8e Ð²Ð°Ð¼Ð¸ Ñ\\x81Ñ\\x82Ñ\\x80Ð°Ð½Ð¸Ñ\\x86Ñ\\x83. Ð\\x92ÐµÑ\\x80Ð½Ð¸Ñ\\x82ÐµÑ\\x81Ñ\\x8c Ð½Ð° Ð¿Ñ\\x80ÐµÐ´Ñ\\x8bÐ´Ñ\\x83Ñ\\x89Ñ\\x83Ñ\\x8e Ñ\\x81Ñ\\x82Ñ\\x80Ð°Ð½Ð¸Ñ\\x86Ñ\\x83 Ð¸Ð»Ð¸ Ð¿Ð¾Ñ\\x81ÐµÑ\\x82Ð¸Ñ\\x82Ðµ Ñ\\x81Ñ\\x82Ñ\\x80Ð°Ð½Ð¸Ñ\\x86Ñ\\x83 Ð½Ð°Ñ\\x88ÐµÐ³Ð¾ <a href=\"https://www.linkedin.com/help/linkedin?trk=404_page\" title=\"Ð¡Ð¿Ñ\\x80Ð°Ð²Ð¾Ñ\\x87Ð½Ð¾Ð³Ð¾ Ñ\\x86ÐµÐ½Ñ\\x82Ñ\\x80Ð°\">Ñ\\x81Ð¿Ñ\\x80Ð°Ð²Ð¾Ñ\\x87Ð½Ð¾Ð³Ð¾ Ñ\\x86ÐµÐ½Ñ\\x82Ñ\\x80Ð°</a> Ð´Ð»Ñ\\x8f Ð¿Ð¾Ð»Ñ\\x83Ñ\\x87ÐµÐ½Ð¸Ñ\\x8f Ð´Ð¾Ð¿Ð¾Ð»Ð½Ð¸Ñ\\x82ÐµÐ»Ñ\\x8cÐ½Ð¾Ð¹ Ð¸Ð½Ñ\\x84Ð¾Ñ\\x80Ð¼Ð°Ñ\\x86Ð¸Ð¸.</h2>\\n                 <span class=\"not-found-cta\"><a href=\"https://www.linkedin.com/feed/?trk=404_page\" title=\"Ð\\x9fÐµÑ\\x80ÐµÐ¹Ñ\\x82Ð¸ Ðº Ð»ÐµÐ½Ñ\\x82Ðµ\">Ð\\x9fÐµÑ\\x80ÐµÐ¹Ñ\\x82Ð¸ Ðº Ð»ÐµÐ½Ñ\\x82Ðµ</a></span>\\n            </div>\\n            <!-- /I18N_EMBED -->\\n\\n                <!-- I18N_EMBED -->\\n            <!-- sv_SE -->\\n            <div id=\"i18n_sv_SE\">\\n                 <h1 class=\"heading\">Sidan kunde inte hittas.</h1>\\n                 <h2 class=\"subheading\">Sidan du letar efter hittades inte. GÃ¥ tillbaka till fÃ¶regÃ¥ende sida eller besÃ¶k vÃ¥rt <a href=\"https://www.linkedin.com/help/linkedin?trk=404_page\" title=\"HjÃ¤lpcenter\">HjÃ¤lpcenter</a> fÃ¶r mer information</h2>\\n                 <span class=\"not-found-cta\"><a href=\"https://www.linkedin.com/feed/?trk=404_page\" title=\"GÃ¥ till ditt nyhetsflÃ¶de\">GÃ¥ till ditt nyhetsflÃ¶de</a></span>\\n            </div>\\n            <!-- /I18N_EMBED -->\\n\\n                <!-- I18N_EMBED -->\\n            <!-- th_TH -->\\n            <div id=\"i18n_th_TH\">\\n                 <h1 class=\"heading\">à¹\\x84à¸¡à¹\\x88à¸\\x9eà¸\\x9aà¸«à¸\\x99à¹\\x89à¸²à¹\\x80à¸\\x9eà¸\\x88</h1>\\n                 <h2 class=\"subheading\">à¸\\x82à¸\\xadà¸\\xadà¸\\xa0à¸±à¸¢ à¸\\x94à¸¹à¹\\x80à¸«à¸¡à¸·à¸\\xadà¸\\x99à¹\\x80à¸£à¸²à¹\\x84à¸¡à¹\\x88à¸\\x9eà¸\\x9aà¸«à¸\\x99à¹\\x89à¸²à¸\\x97à¸µà¹\\x88à¸\\x84à¸¸à¸\\x93à¸\\x81à¸³à¸¥à¸±à¸\\x87à¸¡à¸\\xadà¸\\x87à¸«à¸²à¸\\xadà¸¢à¸¹à¹\\x88 à¸¥à¸\\xadà¸\\x87à¸\\x81à¸¥à¸±à¸\\x9aà¹\\x84à¸\\x9bà¸\\x97à¸µà¹\\x88à¸«à¸\\x99à¹\\x89à¸²à¹\\x80à¸\\x9eà¸\\x88à¸\\x81à¹\\x88à¸\\xadà¸\\x99 à¸«à¸£à¸·à¸\\xadà¸\\x94à¸¹ <a href=\"https://www.linkedin.com/help/linkedin?trk=404_page\" title=\"à¸¨à¸¹à¸\\x99à¸¢à¹\\x8cà¸\\x84à¸§à¸²à¸¡à¸\\x8aà¹\\x88à¸§à¸¢à¹\\x80à¸«à¸¥à¸·à¸\\xad\">à¸¨à¸¹à¸\\x99à¸¢à¹\\x8cà¸\\x84à¸§à¸²à¸¡à¸\\x8aà¹\\x88à¸§à¸¢à¹\\x80à¸«à¸¥à¸·à¸\\xad</a> à¸\\x82à¸\\xadà¸\\x87à¹\\x80à¸£à¸²à¸ªà¸³à¸«à¸£à¸±à¸\\x9aà¸\\x82à¹\\x89à¸\\xadà¸¡à¸¹à¸¥à¹\\x80à¸\\x9eà¸´à¹\\x88à¸¡à¹\\x80à¸\\x95à¸´à¸¡</h2>\\n                 <span class=\"not-found-cta\"><a href=\"https://www.linkedin.com/feed/?trk=404_page\" title=\"à¹\\x84à¸\\x9bà¸\\x97à¸µà¹\\x88à¸\\x9fà¸µà¸\\x94à¸\\x82à¸\\xadà¸\\x87à¸\\x84à¸¸à¸\\x93\">à¹\\x84à¸\\x9bà¸\\x97à¸µà¹\\x88à¸\\x9fà¸µà¸\\x94à¸\\x82à¸\\xadà¸\\x87à¸\\x84à¸¸à¸\\x93</a></span>\\n            </div>\\n            <!-- /I18N_EMBED -->\\n\\n                <!-- I18N_EMBED -->\\n            <!-- tl_PH -->\\n            <div id=\"i18n_tl_PH\">\\n                 <h1 class=\"heading\">Hindi Nahanap ang Pahina</h1>\\n                 <h2 class=\"subheading\">Naku, mukhang hindi namin mahanap ang pahina na hinahanap mo. Subukang bumalik sa nakaraang pahina o tingnan ang aming <a href=\"https://www.linkedin.com/help/linkedin?trk=404_page\" title=\"Help Center\">Help Center</a> para sa higit pang impormasyon</h2>\\n                 <span class=\"not-found-cta\"><a href=\"https://www.linkedin.com/feed/?trk=404_page\" title=\"Pumunta sa iyong feed\">Pumunta sa iyong feed</a></span>\\n            </div>\\n            <!-- /I18N_EMBED -->\\n\\n                <!-- I18N_EMBED -->\\n            <!-- tr_TR -->\\n            <div id=\"i18n_tr_TR\">\\n                 <h1 class=\"heading\">Sayfa bulunamadÄ±</h1>\\n                 <h2 class=\"subheading\">AradÄ±Ä\\x9fÄ±nÄ±z sayfa bulunamadÄ±. Ã\\x96nceki sayfaya geri dÃ¶nÃ¼n veya daha fazla bilgi iÃ§in <a href=\"https://www.linkedin.com/help/linkedin?trk=404_page\" title=\"YardÄ±m Merkezimizi\">YardÄ±m Merkezimizi</a> gÃ¶rÃ¼ntÃ¼leyin</h2>\\n                 <span class=\"not-found-cta\"><a href=\"https://www.linkedin.com/feed/?trk=404_page\" title=\"Haber akÄ±Å\\x9fÄ±nÄ±za gidin\">Haber akÄ±Å\\x9fÄ±nÄ±za gidin</a></span>\\n            </div>\\n            <!-- /I18N_EMBED -->\\n\\n                <!-- I18N_EMBED -->\\n            <!-- zh_CN -->\\n            <div id=\"i18n_zh_CN\">\\n                 <h1 class=\"heading\">æ\\x9cªæ\\x89¾å\\x88°ç½\\x91é¡µ</h1>\\n                 <h2 class=\"subheading\">æ\\x8a±æ\\xad\\x89ï¼\\x8cæ\\x97\\xa0æ³\\x95æ\\x89¾å\\x88°é¡µé\\x9d¢ã\\x80\\x82è¯\\x95è¯\\x95è¿\\x94å\\x9b\\x9eå\\x88°å\\x89\\x8dä¸\\x80é¡µï¼\\x8cæ\\x88\\x96å\\x89\\x8då¾\\x80<a href=\"https://www.linkedin.com/help/linkedin?trk=404_page\" title=\"å¸®å\\x8a©ä¸\\xadå¿\\x83\">å¸®å\\x8a©ä¸\\xadå¿\\x83</a>äº\\x86è§£æ\\x9b´å¤\\x9aä¿¡æ\\x81¯</h2>\\n                 <span class=\"not-found-cta\"><a href=\"https://www.linkedin.com/feed/?trk=404_page\" title=\"å\\x89\\x8då¾\\x80å\\x8a¨æ\\x80\\x81æ±\\x87æ\\x80»\">å\\x89\\x8då¾\\x80å\\x8a¨æ\\x80\\x81æ±\\x87æ\\x80»</a></span>\\n            </div>\\n            <!-- /I18N_EMBED -->\\n\\n                <!-- I18N_EMBED -->\\n            <!-- zh_TW -->\\n            <div id=\"i18n_zh_TW\">\\n                 <h1 class=\"heading\">ç³»çµ±æ\\x89¾ä¸\\x8då\\x88°é\\xa0\\x81é\\x9d¢ã\\x80\\x82</h1>\\n                 <h2 class=\"subheading\">æ\\x88\\x91å\\x80\\x91å¥½å\\x83\\x8fæ\\x89¾ä¸\\x8då\\x88°è©²é\\xa0\\x81é\\x9d¢ã\\x80\\x82è«\\x8bå\\x9b\\x9eå\\x88°ä¸\\x8aä¸\\x80é\\xa0\\x81æ\\x88\\x96å\\x89\\x8då¾\\x80<a href=\"https://www.linkedin.com/help/linkedin?trk=404_page\" title=\"èªªæ\\x98\\x8eä¸\\xadå¿\\x83\">èªªæ\\x98\\x8eä¸\\xadå¿\\x83</a>ä¾\\x86é\\x80²ä¸\\x80æ\\xad¥ç\\x9e\\xadè§£</h2>\\n                 <span class=\"not-found-cta\"><a href=\"https://www.linkedin.com/feed/?trk=404_page\" title=\"å\\x89\\x8då¾\\x80é¦\\x96é\\xa0\\x81å\\x8b\\x95æ\\x85\\x8b\">å\\x89\\x8då¾\\x80é¦\\x96é\\xa0\\x81å\\x8b\\x95æ\\x85\\x8b</a></span>\\n            </div>\\n            <!-- /I18N_EMBED -->\\n          </div>\\n      </div>\\n    </div>\\n    <div class=\"footer-wrapper\" role=\"contentinfo\">\\n\\n\\n\\n\\n\\n\\n\\n\\n\\n      <div id=\"body-footer\">\\n        <span class=\"footer-copyright\">\\n          <a href=\"https://www.linkedin.com/\" title=\\'LinkedIn\\'>\\n            <!--[if lte IE 9]><img src=\"/img/logos/logo-linkedin-56x14-14dp.png\" alt=\\'LinkedIn\\'><![endif]--> <!--[if !IE]><!-->\\n            <svg preserveAspectRatio=\"xMinYMin meet\">\\n              <g class=\"scaling-icon\" style=\"fill-opacity: 1\">\\n                <g class=\"logo-14dp\">\\n                  <g class=\"dpi-1\">\\n                    <g class=\"inbug\" stroke=\"none\" stroke-width=\"1\" fill=\"none\" fill-rule=\"evenodd\">\\n                      <path d=\"M14,1.25 L14,12.75 C14,13.44 13.44,14 12.75,14 L1.25,14 C0.56,14 0,13.44 0,12.75 L0,1.25 C0,0.56 0.56,0 1.25,0 L12.75,0 C13.44,0 14,0.56 14,1.25\" class=\"bug-text-color\" fill=\"#FFFFFF\" transform=\"translate(42.000000, 0.000000)\"></path>\\n                      <path d=\"M56,1.25 L56,12.75 C56,13.44 55.44,14 54.75,14 L43.25,14 C42.56,14 42,13.44 42,12.75 L42,1.25 C42,0.56 42.56,0 43.25,0 L54.75,0 C55.44,0 56,0.56 56,1.25 Z M47,5 L48.85,5 L48.85,6.016 L48.893,6.016 C49.259,5.541 50.018,4.938 51.25,4.938 C53.125,4.938 54,5.808 54,8 L54,12 L52,12 L52,8.75 C52,7.313 51.672,6.875 50.632,6.875 C49.5,6.875 49,7.75 49,9 L49,12 L47,12 L47,5 Z M44,12 L46,12 L46,5 L44,5 L44,12 Z M46.335,3 C46.335,3.737 45.737,4.335 45,4.335 C44.263,4.335 43.665,3.737 43.665,3 C43.665,2.263 44.263,1.665 45,1.665 C45.737,1.665 46.335,2.263 46.335,3 Z\" class=\"background\" fill=\"#0073B0\"></path>\\n                    </g>\\n                    <g class=\"linkedin-text\">\\n                      <path d=\"M40,12 L38.107,12 L38.107,11.1 L38.077,11.1 C37.847,11.518 37.125,12.062 36.167,12.062 C34.174,12.062 33,10.521 33,8.5 C33,6.479 34.291,4.938 36.2,4.938 C36.971,4.938 37.687,5.332 37.97,5.698 L38,5.698 L38,2 L40,2 L40,12 Z M36.475,6.75 C35.517,6.75 34.875,7.49 34.875,8.5 C34.875,9.51 35.529,10.25 36.475,10.25 C37.422,10.25 38.125,9.609 38.125,8.5 C38.125,7.406 37.433,6.75 36.475,6.75 L36.475,6.75 Z\" fill=\"#000000\"></path>\\n                      <path d=\"M31.7628,10.8217 C31.0968,11.5887 29.9308,12.0627 28.4998,12.0627 C26.3388,12.0627 24.9998,10.6867 24.9998,8.4477 C24.9998,6.3937 26.4328,4.9377 28.6578,4.9377 C30.6758,4.9377 31.9998,6.3497 31.9998,8.6527 C31.9998,8.8457 31.9708,8.9997 31.9708,8.9997 L26.8228,8.9997 L26.8348,9.1487 C26.9538,9.8197 27.6008,10.5797 28.6358,10.5797 C29.6528,10.5797 30.2068,10.1567 30.4718,9.8587 L31.7628,10.8217 Z M30.2268,7.9047 C30.2268,7.0627 29.5848,6.4297 28.6508,6.4297 C27.6058,6.4297 26.9368,7.0597 26.8728,7.9047 L30.2268,7.9047 Z\" fill=\"#000000\"></path>\\n                      <polygon fill=\"#000000\" points=\"18 2 20 2 20 7.882 22.546 5 25 5 21.9 8.199 24.889 12 22.546 12 20 8.515 20 12 18 12\"></polygon>\\n                      <path d=\"M10,5 L11.85,5 L11.85,5.906 L11.893,5.906 C12.283,5.434 13.031,4.938 14.14,4.938 C16.266,4.938 17,6.094 17,8.285 L17,12 L15,12 L15,8.73 C15,7.943 14.821,6.75 13.659,6.75 C12.482,6.75 12,7.844 12,8.73 L12,12 L10,12 L10,5 Z\" fill=\"#000000\"></path>\\n                      <path d=\"M7,12 L9,12 L9,5 L7,5 L7,12 Z M8,1.75 C8.659,1.75 9.25,2.341 9.25,3 C9.25,3.659 8.659,4.25 8,4.25 C7.34,4.25 6.75,3.659 6.75,3 C6.75,2.341 7.34,1.75 8,1.75 L8,1.75 Z\" fill=\"#000000\"></path>\\n                      <polygon fill=\"#000000\" points=\"0 2 2 2 2 10 6 10 6 12 0 12\"></polygon>\\n                    </g>\\n                  </g>\\n                </g>\\n              </g>\\n            </svg>\\n            <!--<![endif]-->\\n          </a>\\n          &copy; 2020\\n        </span>\\n\\n            <!-- I18N_FOOTER_EMBED -->\\n            <!-- ar_AE -->\\n            <div id=\"i18n_footer_ar_AE\">\\n          <ul class=\"footer-nav\">\\n            <li>\\n              <a href=\"https://www.linkedin.com/legal/user-agreement?trk=%7Berror-page%7D-user-agreement\">Ø§ØªÙ\\x81Ø§Ù\\x82Ù\\x8aØ© Ø§Ù\\x84Ù\\x85Ø³ØªØ®Ø¯Ù\\x85</a>\\n            </li>\\n            <li>\\n              <a href=\"https://www.linkedin.com/legal/privacy-policy?trk=%7Berror-page%7D-privacy-policy\">Ø³Ù\\x8aØ§Ø³Ø© Ø§Ù\\x84Ø®ØµÙ\\x88ØµÙ\\x8aØ©</a>\\n            </li>\\n            <li>\\n              <a href=\"https://www.linkedin.com/help/linkedin/answer/34593?trk=%7Berror-page%7D-community-guidelines\">Ø¥Ø±Ø´Ø§Ø¯Ø§Øª Ø§Ù\\x84Ù\\x85Ø¬ØªÙ\\x85Ø¹</a>\\n            </li>\\n            <li>\\n              <a href=\"https://www.linkedin.com/legal/cookie-policy?trk=%7Berror-page%7D-cookie-policy\">Ø³Ù\\x8aØ§Ø³Ø© Ù\\x85Ù\\x84Ù\\x81Ø§Øª ØªØ¹Ø±Ù\\x8aÙ\\x81 Ø§Ù\\x84Ø§Ø±ØªØ¨Ø§Ø·</a>\\n            </li>\\n            <li>\\n              <a href=\"https://www.linkedin.com/legal/copyright-policy?trk=%7Berror-page%7D-copyright-policy\">Ø³Ù\\x8aØ§Ø³Ø© Ø\\xadÙ\\x82Ù\\x88Ù\\x82 Ø§Ù\\x84Ù\\x86Ø´Ø±</a>\\n            </li>\\n            <li>\\n              <a href=\"https://www.linkedin.com/psettings/guest-controls?trk=%7Berror-page%7D-guest-controls\">Ø¥Ø¹Ø¯Ø§Ø¯Ø§Øª Ø¥Ø¯Ø§Ø±Ø© Ø§Ù\\x84Ø¶Ù\\x8aÙ\\x88Ù\\x81</a>\\n            </li>\\n          </ul>\\n            </div>\\n            <!-- /I18N_FOOTER_EMBED -->\\n\\n               <!-- I18N_FOOTER_EMBED -->\\n            <!-- cs_CZ -->\\n            <div id=\"i18n_footer_cs_CZ\">\\n          <ul class=\"footer-nav\">\\n            <li>\\n              <a href=\"https://www.linkedin.com/legal/user-agreement?trk=%7Berror-page%7D-user-agreement\">Smlouva s uÅ¾ivatelem</a>\\n            </li>\\n            <li>\\n              <a href=\"https://www.linkedin.com/legal/privacy-policy?trk=%7Berror-page%7D-privacy-policy\">ZÃ¡sady ochrany osobnÃ\\xadch ÃºdajÅ¯</a>\\n            </li>\\n            <li>\\n              <a href=\"https://www.linkedin.com/help/linkedin/answer/34593?trk=%7Berror-page%7D-community-guidelines\">ZÃ¡sady komunity</a>\\n            </li>\\n            <li>\\n              <a href=\"https://www.linkedin.com/legal/cookie-policy?trk=%7Berror-page%7D-cookie-policy\">ZÃ¡sady pro soubory cookie</a>\\n            </li>\\n            <li>\\n              <a href=\"https://www.linkedin.com/legal/copyright-policy?trk=%7Berror-page%7D-copyright-policy\">ZÃ¡sady ochrany autorskÃ½ch prÃ¡v</a>\\n            </li>\\n            <li>\\n              <a href=\"https://www.linkedin.com/psettings/guest-controls?trk=%7Berror-page%7D-guest-controls\">Volby pro hosty</a>\\n            </li>\\n          </ul>\\n            </div>\\n            <!-- /I18N_FOOTER_EMBED -->\\n\\n               <!-- I18N_FOOTER_EMBED -->\\n            <!-- da_DK -->\\n            <div id=\"i18n_footer_da_DK\">\\n          <ul class=\"footer-nav\">\\n            <li>\\n              <a href=\"https://www.linkedin.com/legal/user-agreement?trk=%7Berror-page%7D-user-agreement\">Brugeraftale</a>\\n            </li>\\n            <li>\\n              <a href=\"https://www.linkedin.com/legal/privacy-policy?trk=%7Berror-page%7D-privacy-policy\">Privatlivspolitik</a>\\n            </li>\\n            <li>\\n              <a href=\"https://www.linkedin.com/help/linkedin/answer/34593?trk=%7Berror-page%7D-community-guidelines\">Forumretningslinjer</a>\\n            </li>\\n            <li>\\n              <a href=\"https://www.linkedin.com/legal/cookie-policy?trk=%7Berror-page%7D-cookie-policy\">Politik for cookies</a>\\n            </li>\\n            <li>\\n              <a href=\"https://www.linkedin.com/legal/copyright-policy?trk=%7Berror-page%7D-copyright-policy\">Ophavsretspolitik</a>\\n            </li>\\n            <li>\\n              <a href=\"https://www.linkedin.com/psettings/guest-controls?trk=%7Berror-page%7D-guest-controls\">Indstillinger for gÃ¦ster</a>\\n            </li>\\n          </ul>\\n            </div>\\n            <!-- /I18N_FOOTER_EMBED -->\\n\\n               <!-- I18N_FOOTER_EMBED -->\\n            <!-- de_DE -->\\n            <div id=\"i18n_footer_de_DE\">\\n          <ul class=\"footer-nav\">\\n            <li>\\n              <a href=\"https://www.linkedin.com/legal/user-agreement?trk=%7Berror-page%7D-user-agreement\">Nutzervereinbarung</a>\\n            </li>\\n            <li>\\n              <a href=\"https://www.linkedin.com/legal/privacy-policy?trk=%7Berror-page%7D-privacy-policy\">Datenschutzrichtlinie</a>\\n            </li>\\n            <li>\\n              <a href=\"https://www.linkedin.com/help/linkedin/answer/34593?trk=%7Berror-page%7D-community-guidelines\">Netzwerkrichtlinien</a>\\n            </li>\\n            <li>\\n              <a href=\"https://www.linkedin.com/legal/cookie-policy?trk=%7Berror-page%7D-cookie-policy\">Cookie-Richtlinie</a>\\n            </li>\\n            <li>\\n              <a href=\"https://www.linkedin.com/legal/copyright-policy?trk=%7Berror-page%7D-copyright-policy\">Copyright-Richtlinie\\n      </a>\\n            </li>\\n            <li>\\n              <a href=\"https://www.linkedin.com/psettings/guest-controls?trk=%7Berror-page%7D-guest-controls\">Einstellungen fÃ¼r Nichtmitglieder</a>\\n            </li>\\n          </ul>\\n            </div>\\n            <!-- /I18N_FOOTER_EMBED -->\\n\\n               <!-- I18N_FOOTER_EMBED -->\\n            <!-- en_US -->\\n            <div id=\"i18n_footer_en_US\">\\n          <ul class=\"footer-nav\">\\n            <li>\\n              <a href=\"https://www.linkedin.com/legal/user-agreement?trk=%7Berror-page%7D-user-agreement\">User Agreement</a>\\n            </li>\\n            <li>\\n              <a href=\"https://www.linkedin.com/legal/privacy-policy?trk=%7Berror-page%7D-privacy-policy\">Privacy Policy</a>\\n            </li>\\n            <li>\\n              <a href=\"https://www.linkedin.com/help/linkedin/answer/34593?trk=%7Berror-page%7D-community-guidelines\">Community Guidelines</a>\\n            </li>\\n            <li>\\n              <a href=\"https://www.linkedin.com/legal/cookie-policy?trk=%7Berror-page%7D-cookie-policy\">Cookie Policy</a>\\n            </li>\\n            <li>\\n              <a href=\"https://www.linkedin.com/legal/copyright-policy?trk=%7Berror-page%7D-copyright-policy\">Copyright Policy</a>\\n            </li>\\n            <li>\\n              <a href=\"https://www.linkedin.com/psettings/guest-controls?trk=%7Berror-page%7D-guest-controls\">Guest Controls</a>\\n            </li>\\n          </ul>\\n            </div>\\n            <!-- /I18N_FOOTER_EMBED -->\\n\\n               <!-- I18N_FOOTER_EMBED -->\\n            <!-- es_ES -->\\n            <div id=\"i18n_footer_es_ES\">\\n          <ul class=\"footer-nav\">\\n            <li>\\n              <a href=\"https://www.linkedin.com/legal/user-agreement?trk=%7Berror-page%7D-user-agreement\">Condiciones de uso</a>\\n            </li>\\n            <li>\\n              <a href=\"https://www.linkedin.com/legal/privacy-policy?trk=%7Berror-page%7D-privacy-policy\">PolÃ\\xadtica de privacidad</a>\\n            </li>\\n            <li>\\n              <a href=\"https://www.linkedin.com/help/linkedin/answer/34593?trk=%7Berror-page%7D-community-guidelines\">Directrices comunitarias</a>\\n            </li>\\n            <li>\\n              <a href=\"https://www.linkedin.com/legal/cookie-policy?trk=%7Berror-page%7D-cookie-policy\">PolÃ\\xadtica de cookies</a>\\n            </li>\\n            <li>\\n              <a href=\"https://www.linkedin.com/legal/copyright-policy?trk=%7Berror-page%7D-copyright-policy\">PolÃ\\xadtica de copyright</a>\\n            </li>\\n            <li>\\n              <a href=\"https://www.linkedin.com/psettings/guest-controls?trk=%7Berror-page%7D-guest-controls\">Controles de invitados</a>\\n            </li>\\n          </ul>\\n            </div>\\n            <!-- /I18N_FOOTER_EMBED -->\\n\\n               <!-- I18N_FOOTER_EMBED -->\\n            <!-- fr_FR -->\\n            <div id=\"i18n_footer_fr_FR\">\\n          <ul class=\"footer-nav\">\\n            <li>\\n              <a href=\"https://www.linkedin.com/legal/user-agreement?trk=%7Berror-page%7D-user-agreement\">Conditions gÃ©nÃ©rales dâ\\x80\\x99utilisation de LinkedIn</a>\\n            </li>\\n            <li>\\n              <a href=\"https://www.linkedin.com/legal/privacy-policy?trk=%7Berror-page%7D-privacy-policy\">Politique de confidentialitÃ©</a>\\n            </li>\\n            <li>\\n              <a href=\"https://www.linkedin.com/help/linkedin/answer/34593?trk=%7Berror-page%7D-community-guidelines\">Directives de la communautÃ© </a>\\n            </li>\\n            <li>\\n              <a href=\"https://www.linkedin.com/legal/cookie-policy?trk=%7Berror-page%7D-cookie-policy\">Politique relative aux cookies</a>\\n            </li>\\n            <li>\\n              <a href=\"https://www.linkedin.com/legal/copyright-policy?trk=%7Berror-page%7D-copyright-policy\">Politique de copyright</a>\\n            </li>\\n            <li>\\n              <a href=\"https://www.linkedin.com/psettings/guest-controls?trk=%7Berror-page%7D-guest-controls\">RÃ©glages invitÃ©s</a>\\n            </li>\\n          </ul>\\n            </div>\\n            <!-- /I18N_FOOTER_EMBED -->\\n\\n               <!-- I18N_FOOTER_EMBED -->\\n            <!-- in_ID -->\\n            <div id=\"i18n_footer_in_ID\">\\n          <ul class=\"footer-nav\">\\n            <li>\\n              <a href=\"https://www.linkedin.com/legal/user-agreement?trk=%7Berror-page%7D-user-agreement\">Perjanjian Pengguna</a>\\n            </li>\\n            <li>\\n              <a href=\"https://www.linkedin.com/legal/privacy-policy?trk=%7Berror-page%7D-privacy-policy\">Kebijakan Privasi</a>\\n            </li>\\n            <li>\\n              <a href=\"https://www.linkedin.com/help/linkedin/answer/34593?trk=%7Berror-page%7D-community-guidelines\">Panduan Komunitas</a>\\n            </li>\\n            <li>\\n              <a href=\"https://www.linkedin.com/legal/cookie-policy?trk=%7Berror-page%7D-cookie-policy\">Kebijakan Cookie</a>\\n            </li>\\n            <li>\\n              <a href=\"https://www.linkedin.com/legal/copyright-policy?trk=%7Berror-page%7D-copyright-policy\">Kebijakan Hak Cipta</a>\\n            </li>\\n            <li>\\n              <a href=\"https://www.linkedin.com/psettings/guest-controls?trk=%7Berror-page%7D-guest-controls\">Pengaturan Tamu</a>\\n            </li>\\n          </ul>\\n            </div>\\n            <!-- /I18N_FOOTER_EMBED -->\\n\\n               <!-- I18N_FOOTER_EMBED -->\\n            <!-- it_IT -->\\n            <div id=\"i18n_footer_it_IT\">\\n          <ul class=\"footer-nav\">\\n            <li>\\n              <a href=\"https://www.linkedin.com/legal/user-agreement?trk=%7Berror-page%7D-user-agreement\">Contratto di licenza</a>\\n            </li>\\n            <li>\\n              <a href=\"https://www.linkedin.com/legal/privacy-policy?trk=%7Berror-page%7D-privacy-policy\">Informativa sulla privacy</a>\\n            </li>\\n            <li>\\n              <a href=\"https://www.linkedin.com/help/linkedin/answer/34593?trk=%7Berror-page%7D-community-guidelines\">Linee guida della community</a>\\n            </li>\\n            <li>\\n              <a href=\"https://www.linkedin.com/legal/cookie-policy?trk=%7Berror-page%7D-cookie-policy\">Informativa sui cookie</a>\\n            </li>\\n            <li>\\n              <a href=\"https://www.linkedin.com/legal/copyright-policy?trk=%7Berror-page%7D-copyright-policy\">Informativa sul copyright</a>\\n            </li>\\n            <li>\\n              <a href=\"https://www.linkedin.com/psettings/guest-controls?trk=%7Berror-page%7D-guest-controls\">Controlli ospite</a>\\n            </li>\\n          </ul>\\n            </div>\\n            <!-- /I18N_FOOTER_EMBED -->\\n\\n               <!-- I18N_FOOTER_EMBED -->\\n            <!-- ja_JP -->\\n            <div id=\"i18n_footer_ja_JP\">\\n          <ul class=\"footer-nav\">\\n            <li>\\n              <a href=\"https://www.linkedin.com/legal/user-agreement?trk=%7Berror-page%7D-user-agreement\">å\\x88©ç\\x94¨è¦\\x8fç´\\x84</a>\\n            </li>\\n            <li>\\n              <a href=\"https://www.linkedin.com/legal/privacy-policy?trk=%7Berror-page%7D-privacy-policy\">ã\\x83\\x97ã\\x83©ã\\x82¤ã\\x83\\x90ã\\x82·ã\\x83¼ã\\x83\\x9dã\\x83ªã\\x82·ã\\x83¼</a>\\n            </li>\\n            <li>\\n              <a href=\"https://www.linkedin.com/help/linkedin/answer/34593?trk=%7Berror-page%7D-community-guidelines\">ã\\x82³ã\\x83\\x9fã\\x83¥ã\\x83\\x8bã\\x83\\x86ã\\x82£ã\\x82¬ã\\x82¤ã\\x83\\x89ã\\x83©ã\\x82¤ã\\x83³</a>\\n            </li>\\n            <li>\\n              <a href=\"https://www.linkedin.com/legal/cookie-policy?trk=%7Berror-page%7D-cookie-policy\">Cookieã\\x83\\x9dã\\x83ªã\\x82·ã\\x83¼</a>\\n            </li>\\n            <li>\\n              <a href=\"https://www.linkedin.com/legal/copyright-policy?trk=%7Berror-page%7D-copyright-policy\">è\\x91\\x97ä½\\x9cæ¨©ã\\x83\\x9dã\\x83ªã\\x82·ã\\x83¼</a>\\n            </li>\\n            <li>\\n              <a href=\"https://www.linkedin.com/psettings/guest-controls?trk=%7Berror-page%7D-guest-controls\">ã\\x82²ã\\x82¹ã\\x83\\x88å\\x90\\x91ã\\x81\\x91ç®¡ç\\x90\\x86æ©\\x9fè\\x83½</a>\\n            </li>\\n          </ul>\\n            </div>\\n            <!-- /I18N_FOOTER_EMBED -->\\n\\n               <!-- I18N_FOOTER_EMBED -->\\n            <!-- ko_KR -->\\n            <div id=\"i18n_footer_ko_KR\">\\n          <ul class=\"footer-nav\">\\n            <li>\\n              <a href=\"https://www.linkedin.com/legal/user-agreement?trk=%7Berror-page%7D-user-agreement\">ì\\x82¬ì\\x9a©ì\\x9e\\x90ì\\x95½ê´\\x80</a>\\n            </li>\\n            <li>\\n              <a href=\"https://www.linkedin.com/legal/privacy-policy?trk=%7Berror-page%7D-privacy-policy\">ê°\\x9cì\\x9d¸ì\\xa0\\x95ë³´ ì·¨ê¸\\x89ë°©ì¹¨</a>\\n            </li>\\n            <li>\\n              <a href=\"https://www.linkedin.com/help/linkedin/answer/34593?trk=%7Berror-page%7D-community-guidelines\">ì»¤ë®¤ë\\x8b\\x88í\\x8b°ì\\xa0\\x95ì±\\x85</a>\\n            </li>\\n            <li>\\n              <a href=\"https://www.linkedin.com/legal/cookie-policy?trk=%7Berror-page%7D-cookie-policy\">ì¿\\xa0í\\x82¤ì\\xa0\\x95ì±\\x85</a>\\n            </li>\\n            <li>\\n              <a href=\"https://www.linkedin.com/legal/copyright-policy?trk=%7Berror-page%7D-copyright-policy\">ì\\xa0\\x80ì\\x9e\\x91ê¶\\x8cì\\xa0\\x95ì±\\x85</a>\\n            </li>\\n            <li>\\n              <a href=\"https://www.linkedin.com/psettings/guest-controls?trk=%7Berror-page%7D-guest-controls\">ë¹\\x84í\\x9a\\x8cì\\x9b\\x90 ì\\x84¤ì\\xa0\\x95</a>\\n            </li>\\n          </ul>\\n            </div>\\n            <!-- /I18N_FOOTER_EMBED -->\\n\\n               <!-- I18N_FOOTER_EMBED -->\\n            <!-- ms_MY -->\\n            <div id=\"i18n_footer_ms_MY\">\\n          <ul class=\"footer-nav\">\\n            <li>\\n              <a href=\"https://www.linkedin.com/legal/user-agreement?trk=%7Berror-page%7D-user-agreement\">Perjanjian Pengguna</a>\\n            </li>\\n            <li>\\n              <a href=\"https://www.linkedin.com/legal/privacy-policy?trk=%7Berror-page%7D-privacy-policy\">Dasar Privasi</a>\\n            </li>\\n            <li>\\n              <a href=\"https://www.linkedin.com/help/linkedin/answer/34593?trk=%7Berror-page%7D-community-guidelines\">Garis Panduan Komuniti</a>\\n            </li>\\n            <li>\\n              <a href=\"https://www.linkedin.com/legal/cookie-policy?trk=%7Berror-page%7D-cookie-policy\">Dasar Kuki</a>\\n            </li>\\n            <li>\\n              <a href=\"https://www.linkedin.com/legal/copyright-policy?trk=%7Berror-page%7D-copyright-policy\">Dasar Hak Cipta</a>\\n            </li>\\n            <li>\\n              <a href=\"https://www.linkedin.com/psettings/guest-controls?trk=%7Berror-page%7D-guest-controls\">Kawalan Tetamu</a>\\n            </li>\\n          </ul>\\n            </div>\\n            <!-- /I18N_FOOTER_EMBED -->\\n\\n               <!-- I18N_FOOTER_EMBED -->\\n            <!-- nl_NL -->\\n            <div id=\"i18n_footer_nl_NL\">\\n          <ul class=\"footer-nav\">\\n            <li>\\n              <a href=\"https://www.linkedin.com/legal/user-agreement?trk=%7Berror-page%7D-user-agreement\">Gebruikersovereenkomst</a>\\n            </li>\\n            <li>\\n              <a href=\"https://www.linkedin.com/legal/privacy-policy?trk=%7Berror-page%7D-privacy-policy\">Privacybeleid</a>\\n            </li>\\n            <li>\\n              <a href=\"https://www.linkedin.com/help/linkedin/answer/34593?trk=%7Berror-page%7D-community-guidelines\">Communityrichtlijnen</a>\\n            </li>\\n            <li>\\n              <a href=\"https://www.linkedin.com/legal/cookie-policy?trk=%7Berror-page%7D-cookie-policy\">Cookiebeleid</a>\\n            </li>\\n            <li>\\n              <a href=\"https://www.linkedin.com/legal/copyright-policy?trk=%7Berror-page%7D-copyright-policy\">Auteursrechtenbeleid</a>\\n            </li>\\n            <li>\\n              <a href=\"https://www.linkedin.com/psettings/guest-controls?trk=%7Berror-page%7D-guest-controls\">Instellingen voor gasten</a>\\n            </li>\\n          </ul>\\n            </div>\\n            <!-- /I18N_FOOTER_EMBED -->\\n\\n               <!-- I18N_FOOTER_EMBED -->\\n            <!-- no_NO -->\\n            <div id=\"i18n_footer_no_NO\">\\n          <ul class=\"footer-nav\">\\n            <li>\\n              <a href=\"https://www.linkedin.com/legal/user-agreement?trk=%7Berror-page%7D-user-agreement\">Brukeravtale</a>\\n            </li>\\n            <li>\\n              <a href=\"https://www.linkedin.com/legal/privacy-policy?trk=%7Berror-page%7D-privacy-policy\">PersonvernerklÃ¦ring</a>\\n            </li>\\n            <li>\\n              <a href=\"https://www.linkedin.com/help/linkedin/answer/34593?trk=%7Berror-page%7D-community-guidelines\">Retningslinjer for fellesskapet</a>\\n            </li>\\n            <li>\\n              <a href=\"https://www.linkedin.com/legal/cookie-policy?trk=%7Berror-page%7D-cookie-policy\">Retningslinjer for informasjonskapsler</a>\\n            </li>\\n            <li>\\n              <a href=\"https://www.linkedin.com/legal/copyright-policy?trk=%7Berror-page%7D-copyright-policy\">Retningslinjer vedrÃ¸rende opphavsrett</a>\\n            </li>\\n            <li>\\n              <a href=\"https://www.linkedin.com/psettings/guest-controls?trk=%7Berror-page%7D-guest-controls\">Gjestestyring</a>\\n            </li>\\n          </ul>\\n            </div>\\n            <!-- /I18N_FOOTER_EMBED -->\\n\\n               <!-- I18N_FOOTER_EMBED -->\\n            <!-- pl_PL -->\\n            <div id=\"i18n_footer_pl_PL\">\\n          <ul class=\"footer-nav\">\\n            <li>\\n              <a href=\"https://www.linkedin.com/legal/user-agreement?trk=%7Berror-page%7D-user-agreement\">Umowa uÅ¼ytkownika</a>\\n            </li>\\n            <li>\\n              <a href=\"https://www.linkedin.com/legal/privacy-policy?trk=%7Berror-page%7D-privacy-policy\">Polityka ochrony prywatnoÅ\\x9bci</a>\\n            </li>\\n            <li>\\n              <a href=\"https://www.linkedin.com/help/linkedin/answer/34593?trk=%7Berror-page%7D-community-guidelines\">WskazÃ³wki dotyczÄ\\x85ce spoÅ\\x82ecznoÅ\\x9bci</a>\\n            </li>\\n            <li>\\n              <a href=\"https://www.linkedin.com/legal/cookie-policy?trk=%7Berror-page%7D-cookie-policy\">Zasady korzystania z plikÃ³w cookie</a>\\n            </li>\\n            <li>\\n              <a href=\"https://www.linkedin.com/legal/copyright-policy?trk=%7Berror-page%7D-copyright-policy\">Copyright</a>\\n            </li>\\n            <li>\\n              <a href=\"https://www.linkedin.com/psettings/guest-controls?trk=%7Berror-page%7D-guest-controls\">Ustawienia goÅ\\x9bcia</a>\\n            </li>\\n          </ul>\\n            </div>\\n            <!-- /I18N_FOOTER_EMBED -->\\n\\n               <!-- I18N_FOOTER_EMBED -->\\n            <!-- pt_BR -->\\n            <div id=\"i18n_footer_pt_BR\">\\n          <ul class=\"footer-nav\">\\n            <li>\\n              <a href=\"https://www.linkedin.com/legal/user-agreement?trk=%7Berror-page%7D-user-agreement\">Contrato do UsuÃ¡rio</a>\\n            </li>\\n            <li>\\n              <a href=\"https://www.linkedin.com/legal/privacy-policy?trk=%7Berror-page%7D-privacy-policy\">PolÃ\\xadtica de Privacidade do LinkedIn</a>\\n            </li>\\n            <li>\\n              <a href=\"https://www.linkedin.com/help/linkedin/answer/34593?trk=%7Berror-page%7D-community-guidelines\">Diretrizes da Comunidade</a>\\n            </li>\\n            <li>\\n              <a href=\"https://www.linkedin.com/legal/cookie-policy?trk=%7Berror-page%7D-cookie-policy\">PolÃ\\xadtica de Cookies</a>\\n            </li>\\n            <li>\\n              <a href=\"https://www.linkedin.com/legal/copyright-policy?trk=%7Berror-page%7D-copyright-policy\">PolÃ\\xadtica de Direitos Autorais</a>\\n            </li>\\n            <li>\\n              <a href=\"https://www.linkedin.com/psettings/guest-controls?trk=%7Berror-page%7D-guest-controls\">Controles de visitantes</a>\\n            </li>\\n          </ul>\\n            </div>\\n            <!-- /I18N_FOOTER_EMBED -->\\n\\n               <!-- I18N_FOOTER_EMBED -->\\n            <!-- ro_RO -->\\n            <div id=\"i18n_footer_ro_RO\">\\n          <ul class=\"footer-nav\">\\n            <li>\\n              <a href=\"https://www.linkedin.com/legal/user-agreement?trk=%7Berror-page%7D-user-agreement\">Acordul utilizatorului</a>\\n            </li>\\n            <li>\\n              <a href=\"https://www.linkedin.com/legal/privacy-policy?trk=%7Berror-page%7D-privacy-policy\">Politica de confidenÈ\\x9bialitate</a>\\n            </li>\\n            <li>\\n              <a href=\"https://www.linkedin.com/help/linkedin/answer/34593?trk=%7Berror-page%7D-community-guidelines\">Linii directoare comunitate</a>\\n            </li>\\n            <li>\\n              <a href=\"https://www.linkedin.com/legal/cookie-policy?trk=%7Berror-page%7D-cookie-policy\">Politica privind modulele cookie</a>\\n            </li>\\n            <li>\\n              <a href=\"https://www.linkedin.com/legal/copyright-policy?trk=%7Berror-page%7D-copyright-policy\">Politica de copyright</a>\\n            </li>\\n            <li>\\n              <a href=\"https://www.linkedin.com/psettings/guest-controls?trk=%7Berror-page%7D-guest-controls\">Controale vizitator</a>\\n            </li>\\n          </ul>\\n            </div>\\n            <!-- /I18N_FOOTER_EMBED -->\\n\\n               <!-- I18N_FOOTER_EMBED -->\\n            <!-- ru_RU -->\\n            <div id=\"i18n_footer_ru_RU\">\\n          <ul class=\"footer-nav\">\\n            <li>\\n              <a href=\"https://www.linkedin.com/legal/user-agreement?trk=%7Berror-page%7D-user-agreement\">Ð\\x9fÐ¾Ð»Ñ\\x8cÐ·Ð¾Ð²Ð°Ñ\\x82ÐµÐ»Ñ\\x8cÑ\\x81ÐºÐ¾Ðµ Ñ\\x81Ð¾Ð³Ð»Ð°Ñ\\x88ÐµÐ½Ð¸Ðµ</a>\\n            </li>\\n            <li>\\n              <a href=\"https://www.linkedin.com/legal/privacy-policy?trk=%7Berror-page%7D-privacy-policy\">Ð\\x9fÐ¾Ð»Ð¸Ñ\\x82Ð¸ÐºÐ° ÐºÐ¾Ð½Ñ\\x84Ð¸Ð´ÐµÐ½Ñ\\x86Ð¸Ð°Ð»Ñ\\x8cÐ½Ð¾Ñ\\x81Ñ\\x82Ð¸</a>\\n            </li>\\n            <li>\\n              <a href=\"https://www.linkedin.com/help/linkedin/answer/34593?trk=%7Berror-page%7D-community-guidelines\">Ð\\x9fÑ\\x80Ð°Ð²Ð¸Ð»Ð°Â\\xa0Ñ\\x81Ð¾Ð¾Ð±Ñ\\x89ÐµÑ\\x81Ñ\\x82Ð²Ð°</a>\\n            </li>\\n            <li>\\n              <a href=\"https://www.linkedin.com/legal/cookie-policy?trk=%7Berror-page%7D-cookie-policy\">Ð\\x9fÐ¾Ð»Ð¸Ñ\\x82Ð¸ÐºÐ° Ð¸Ñ\\x81Ð¿Ð¾Ð»Ñ\\x8cÐ·Ð¾Ð²Ð°Ð½Ð¸Ñ\\x8f Ñ\\x84Ð°Ð¹Ð»Ð¾Ð² cookie</a>\\n            </li>\\n            <li>\\n              <a href=\"https://www.linkedin.com/legal/copyright-policy?trk=%7Berror-page%7D-copyright-policy\">Ð\\x9fÐ¾Ð»Ð¸Ñ\\x82Ð¸ÐºÐ°Â\\xa0Ð·Ð°Ñ\\x89Ð¸Ñ\\x82Ñ\\x8bÂ\\xa0Ð°Ð²Ñ\\x82Ð¾Ñ\\x80Ñ\\x81ÐºÐ¸Ñ\\x85Â\\xa0Ð¿Ñ\\x80Ð°Ð²</a>\\n            </li>\\n            <li>\\n              <a href=\"https://www.linkedin.com/psettings/guest-controls?trk=%7Berror-page%7D-guest-controls\">Ð\\x9dÐ°Ñ\\x81Ñ\\x82Ñ\\x80Ð¾Ð¹ÐºÐ¸Â\\xa0Ð³Ð¾Ñ\\x81Ñ\\x82Ñ\\x8f</a>\\n            </li>\\n          </ul>\\n            </div>\\n            <!-- /I18N_FOOTER_EMBED -->\\n\\n               <!-- I18N_FOOTER_EMBED -->\\n            <!-- sv_SE -->\\n            <div id=\"i18n_footer_sv_SE\">\\n          <ul class=\"footer-nav\">\\n            <li>\\n              <a href=\"https://www.linkedin.com/legal/user-agreement?trk=%7Berror-page%7D-user-agreement\">AnvÃ¤ndaravtal</a>\\n            </li>\\n            <li>\\n              <a href=\"https://www.linkedin.com/legal/privacy-policy?trk=%7Berror-page%7D-privacy-policy\">Sekretesspolicy</a>\\n            </li>\\n            <li>\\n              <a href=\"https://www.linkedin.com/help/linkedin/answer/34593?trk=%7Berror-page%7D-community-guidelines\">Riktlinjer</a>\\n            </li>\\n            <li>\\n              <a href=\"https://www.linkedin.com/legal/cookie-policy?trk=%7Berror-page%7D-cookie-policy\">Cookiepolicy</a>\\n            </li>\\n            <li>\\n              <a href=\"https://www.linkedin.com/legal/copyright-policy?trk=%7Berror-page%7D-copyright-policy\">UpphovsrÃ¤ttspolicy</a>\\n            </li>\\n            <li>\\n              <a href=\"https://www.linkedin.com/psettings/guest-controls?trk=%7Berror-page%7D-guest-controls\">GÃ¤stinstÃ¤llningar</a>\\n            </li>\\n          </ul>\\n            </div>\\n            <!-- /I18N_FOOTER_EMBED -->\\n\\n               <!-- I18N_FOOTER_EMBED -->\\n            <!-- th_TH -->\\n            <div id=\"i18n_footer_th_TH\">\\n          <ul class=\"footer-nav\">\\n            <li>\\n              <a href=\"https://www.linkedin.com/legal/user-agreement?trk=%7Berror-page%7D-user-agreement\">à¸\\x82à¹\\x89à¸\\xadà¸\\x95à¸\\x81à¸¥à¸\\x87à¸\\x9cà¸¹à¹\\x89à¹\\x83à¸\\x8aà¹\\x89</a>\\n            </li>\\n            <li>\\n              <a href=\"https://www.linkedin.com/legal/privacy-policy?trk=%7Berror-page%7D-privacy-policy\">à¸\\x99à¹\\x82à¸¢à¸\\x9aà¸²à¸¢à¸ªà¸´à¸\\x97à¸\\x98à¸´à¸ªà¹\\x88à¸§à¸\\x99à¸\\x9aà¸¸à¸\\x84à¸\\x84à¸¥</a>\\n            </li>\\n            <li>\\n              <a href=\"https://www.linkedin.com/help/linkedin/answer/34593?trk=%7Berror-page%7D-community-guidelines\">à¹\\x81à¸\\x99à¸§à¸\\x97à¸²à¸\\x87à¸\\x8aà¸¸à¸¡à¸\\x8aà¸\\x99</a>\\n            </li>\\n            <li>\\n              <a href=\"https://www.linkedin.com/legal/cookie-policy?trk=%7Berror-page%7D-cookie-policy\">à¸\\x99à¹\\x82à¸¢à¸\\x9aà¸²à¸¢à¸ªà¸³à¸«à¸£à¸±à¸\\x9aà¸\\x84à¸¸à¸\\x81à¸\\x81à¸µà¹\\x89</a>\\n            </li>\\n            <li>\\n              <a href=\"https://www.linkedin.com/legal/copyright-policy?trk=%7Berror-page%7D-copyright-policy\">à¸\\x99à¹\\x82à¸¢à¸\\x9aà¸²à¸¢à¸¥à¸´à¸\\x82à¸ªà¸´à¸\\x97à¸\\x98à¸´à¹\\x8c</a>\\n            </li>\\n            <li>\\n              <a href=\"https://www.linkedin.com/psettings/guest-controls?trk=%7Berror-page%7D-guest-controls\">à¸\\x81à¸²à¸£à¸\\x84à¸§à¸\\x9aà¸\\x84à¸¸à¸¡à¸ªà¸³à¸«à¸£à¸±à¸\\x9aà¸\\x9cà¸¹à¹\\x89à¹\\x80à¸¢à¸µà¹\\x88à¸¢à¸¡à¸\\x8aà¸¡</a>\\n            </li>\\n          </ul>\\n            </div>\\n            <!-- /I18N_FOOTER_EMBED -->\\n\\n               <!-- I18N_FOOTER_EMBED -->\\n            <!-- tl_PH -->\\n            <div id=\"i18n_footer_tl_PH\">\\n          <ul class=\"footer-nav\">\\n            <li>\\n              <a href=\"https://www.linkedin.com/legal/user-agreement?trk=%7Berror-page%7D-user-agreement\">Kasunduan sa Gumagamit</a>\\n            </li>\\n            <li>\\n              <a href=\"https://www.linkedin.com/legal/privacy-policy?trk=%7Berror-page%7D-privacy-policy\">Patakaran sa Pagkapribado</a>\\n            </li>\\n            <li>\\n              <a href=\"https://www.linkedin.com/help/linkedin/answer/34593?trk=%7Berror-page%7D-community-guidelines\">Mga alituntunin sa komunidad</a>\\n            </li>\\n            <li>\\n              <a href=\"https://www.linkedin.com/legal/cookie-policy?trk=%7Berror-page%7D-cookie-policy\">Patakara sa Cookie</a>\\n            </li>\\n            <li>\\n              <a href=\"https://www.linkedin.com/legal/copyright-policy?trk=%7Berror-page%7D-copyright-policy\">Patakaran sa Copyright</a>\\n            </li>\\n            <li>\\n              <a href=\"https://www.linkedin.com/psettings/guest-controls?trk=%7Berror-page%7D-guest-controls\">Mga kontrol ng Panauhin</a>\\n            </li>\\n          </ul>\\n            </div>\\n            <!-- /I18N_FOOTER_EMBED -->\\n\\n               <!-- I18N_FOOTER_EMBED -->\\n            <!-- tr_TR -->\\n            <div id=\"i18n_footer_tr_TR\">\\n          <ul class=\"footer-nav\">\\n            <li>\\n              <a href=\"https://www.linkedin.com/legal/user-agreement?trk=%7Berror-page%7D-user-agreement\">KullanÄ±cÄ± AnlaÅ\\x9fmasÄ±</a>\\n            </li>\\n            <li>\\n              <a href=\"https://www.linkedin.com/legal/privacy-policy?trk=%7Berror-page%7D-privacy-policy\">Gizlilik PolitikasÄ±</a>\\n            </li>\\n            <li>\\n              <a href=\"https://www.linkedin.com/help/linkedin/answer/34593?trk=%7Berror-page%7D-community-guidelines\">Topluluk YÃ¶nergeleri</a>\\n            </li>\\n            <li>\\n              <a href=\"https://www.linkedin.com/legal/cookie-policy?trk=%7Berror-page%7D-cookie-policy\">Ã\\x87erez PolitikasÄ±</a>\\n            </li>\\n            <li>\\n              <a href=\"https://www.linkedin.com/legal/copyright-policy?trk=%7Berror-page%7D-copyright-policy\">Telif HakkÄ± PolitikasÄ±</a>\\n            </li>\\n            <li>\\n              <a href=\"https://www.linkedin.com/psettings/guest-controls?trk=%7Berror-page%7D-guest-controls\">ZiyaretÃ§i Kontrolleri</a>\\n            </li>\\n          </ul>\\n            </div>\\n            <!-- /I18N_FOOTER_EMBED -->\\n\\n               <!-- I18N_FOOTER_EMBED -->\\n            <!-- zh_CN -->\\n            <div id=\"i18n_footer_zh_CN\">\\n          <ul class=\"footer-nav\">\\n            <li>\\n              <a href=\"https://www.linkedin.com/legal/user-agreement?trk=%7Berror-page%7D-user-agreement\">ç\\x94¨æ\\x88·å\\x8d\\x8fè®®</a>\\n            </li>\\n            <li>\\n              <a href=\"https://www.linkedin.com/legal/privacy-policy?trk=%7Berror-page%7D-privacy-policy\">é\\x9a\\x90ç§\\x81æ\\x94¿ç\\xad\\x96</a>\\n            </li>\\n            <li>\\n              <a href=\"https://www.linkedin.com/help/linkedin/answer/34593?trk=%7Berror-page%7D-community-guidelines\">ç¤¾å\\x8cºå\\x87\\x86å\\x88\\x99</a>\\n            </li>\\n            <li>\\n              <a href=\"https://www.linkedin.com/legal/cookie-policy?trk=%7Berror-page%7D-cookie-policy\">Cookie æ\\x94¿ç\\xad\\x96</a>\\n            </li>\\n            <li>\\n              <a href=\"https://www.linkedin.com/legal/copyright-policy?trk=%7Berror-page%7D-copyright-policy\">ç\\x89\\x88æ\\x9d\\x83æ\\x94¿ç\\xad\\x96</a>\\n            </li>\\n            <li>\\n              <a href=\"https://www.linkedin.com/psettings/guest-controls?trk=%7Berror-page%7D-guest-controls\">è®¿å®¢è®¾ç½®</a>\\n            </li>\\n          </ul>\\n            </div>\\n            <!-- /I18N_FOOTER_EMBED -->\\n\\n               <!-- I18N_FOOTER_EMBED -->\\n            <!-- zh_TW -->\\n            <div id=\"i18n_footer_zh_TW\">\\n          <ul class=\"footer-nav\">\\n            <li>\\n              <a href=\"https://www.linkedin.com/legal/user-agreement?trk=%7Berror-page%7D-user-agreement\">ç\\x94¨æ\\x88¶å\\x8d\\x94è\\xad°</a>\\n            </li>\\n            <li>\\n              <a href=\"https://www.linkedin.com/legal/privacy-policy?trk=%7Berror-page%7D-privacy-policy\">é\\x9a±ç§\\x81æ¬\\x8aæ\\x94¿ç\\xad\\x96</a>\\n            </li>\\n            <li>\\n              <a href=\"https://www.linkedin.com/help/linkedin/answer/34593?trk=%7Berror-page%7D-community-guidelines\">ç¤¾ç¾¤æ\\x8c\\x87å\\x8d\\x97</a>\\n            </li>\\n            <li>\\n              <a href=\"https://www.linkedin.com/legal/cookie-policy?trk=%7Berror-page%7D-cookie-policy\">Cookie æ\\x94¿ç\\xad\\x96</a>\\n            </li>\\n            <li>\\n              <a href=\"https://www.linkedin.com/legal/copyright-policy?trk=%7Berror-page%7D-copyright-policy\">è\\x91\\x97ä½\\x9cæ¬\\x8aæ\\x94¿ç\\xad\\x96</a>\\n            </li>\\n            <li>\\n              <a href=\"https://www.linkedin.com/psettings/guest-controls?trk=%7Berror-page%7D-guest-controls\">è¨ªå®¢æ\\x8e§ç®¡</a>\\n            </li>\\n          </ul>\\n            </div>\\n            <!-- /I18N_FOOTER_EMBED -->\\n      </div>\\n    </div>\\n    <script>document.documentElement.className += \" js \";</script>\\n    <script type=\"text/javascript\">!function(){\"use strict\";function t(t,e){if(e=e||\"log\",window&&window.jet&&\"error\"===e.toLowerCase())try{throw new Error(t)}catch(t){try{window.jet.error(t)}catch(t){}}\"undefined\"!=typeof console&&\"function\"==typeof console[e]&&console[e](t)}function n(e){var n=void 0;if(\"string\"!=typeof e)return t(\"jSecure Warning: url must be a string\",\"error\"),\"invalid://\";if((n=e.trim()).indexOf(\" \")>-1&&(t(\"jSecure Warning: url should not contain spaces: \"+e,\"warn\"),n=n.replace(a,\"+\")),!d.test(n))return t(\"jSecure Error: URL should be absolute with allowed schemas, relative, a hash fragment or query string. \"+e,\"error\"),\"invalid://\";if(s.test(n))return t(\"jSecure Error: not valid url character found in url: \"+e,\"error\"),\"invalid://\";var r=n.split(\"?\")[0];return c.test(r)||l.test(r)||l.test(decodeURI(r))?(t(\"jSecure Error: malicious data found in url path: \"+r,\"error\"),\"invalid://\"):e}function r(){var t=document.cookie.split(\\' lang=\"v=2&lang=\\');return 1===t.length?\"en-us\":t[1].substring(0,5)}function o(){var t=arguments.length>0&&void 0!==arguments[0]?arguments[0]:\"en_US\",e=arguments.length>1&&void 0!==arguments[1]&&arguments[1];arguments[2];if(e){var r=\"ar_AE\"===t;document.documentElement.setAttribute(\"lang\",t.split(\"_\")[0]),document.body.setAttribute(\"data-lang\",t),document.body.setAttribute(\"dir\",r?\"rtl\":\"ltr\");var o=document.getElementById(\"DOM_CSS\"),i=document.getElementById(\"i18n_rtl_css\"),a=void 0,s=o.innerText;document.getElementById(\"i18n_ltr_css\")?a=document.getElementById(\"i18n_ltr_css\"):((a=document.createElement(\"meta\")).setAttribute(\"id\",\"i18n_ltr_css\"),a.setAttribute(\"name\",\"i18n_ltr_css\"),a.content=s,i.parentNode.appendChild(a));var c=i.content,l=a.content;o.innerText=r?c:l,o.setAttribute(\"dir\",r?\"rtl\":\"ltr\")}else{var d=window.location.pathname;t=t.toLowerCase().replace(\"_\",\"-\");var u=d.split(\".\")[0].split(\"/\"),m=u[u.length-1],f=m.substring(m.length-5),g=\"\";g=0!==window.location.href.indexOf(\"file:///\")?n(window.location.href.replace(f,function(){return t})):window.location.href.replace(f,function(){return t}),location.assign(g)}}function i(t){var e=t.offsetHeight;document.body.style.marginBottom=e+\"px\"}var a=/ /g,s=/[\\\\s\\\\u0000<>\"]|%00/,c=/\\\\\\\\/,l=/([.]|%2e){2}/i,d=new RegExp(\"^(?:https?|ftp|mailto|tel|sms|blob|voyager|android-app|linkedin|chrome-extension|data:(?:(?:image/(?:gif|jpe?g|png))|(?:application/x-font-woff)|(?:font/(?:opentype|ttf)))[;,]|[/.#?])\");!function(){var t=document.getElementById(\"selectLanguage\"),n=\"true\"===t.getAttribute(\"data-embedi18n\");if(t&&(t.addEventListener(\"change\",function(t){o(t.target.value,n,t)}),n&&\"en-us\"!==r())){var i=r().split(\"-\");i[1]=i[1].toUpperCase(),o(i.join(\"_\"),n,e)}}(),function(){var t=document.getElementById(\"body-footer\");t&&(window.addEventListener(\"resize\",i(t)),i(t))}(),function(){var t=document.getElementById(\"scope-joint\"),e=document.getElementById(\"telescopeScope\"),n=document.getElementById(\"stars\"),r=document.querySelectorAll(\".star\");e.className+=\" animating \",n.className+=\" animating \",r.forEach(function(t){var e=Math.floor(9*Math.random()),n=\"\";n=e>=0&&e<3?\"slow\":e>=3&&e<6?\"medium\":\"fast\";var r=t.getAttribute(\"class\").split(\" \");r.push(n),t.setAttribute(\"class\",r.join(\" \"))});var o=function(){var n=t.getBoundingClientRect();e.style.transformOrigin=n.left+\"px \"+n.top+\"px\"};!function(t,e,n){var r=!1;(n=n||window).addEventListener(t,function(){r||(r=!0,requestAnimationFrame(function(){n.dispatchEvent(new CustomEvent(e)),r=!1}))})}(\"resize\",\"optimizedResize\"),window.addEventListener(\"optimizedResize\",function(){o()}),o()}()}();</script></body>\\n</html>'"
      ]
     },
     "execution_count": 49,
     "metadata": {},
     "output_type": "execute_result"
    }
   ],
   "source": [
    "requests.get(\"https://www.linkedin.com/palash-pandey-b51036130/\").text"
   ]
  }
 ],
 "metadata": {
  "kernelspec": {
   "display_name": "Python 3",
   "language": "python",
   "name": "python3"
  },
  "language_info": {
   "codemirror_mode": {
    "name": "ipython",
    "version": 3
   },
   "file_extension": ".py",
   "mimetype": "text/x-python",
   "name": "python",
   "nbconvert_exporter": "python",
   "pygments_lexer": "ipython3",
   "version": "3.7.4"
  }
 },
 "nbformat": 4,
 "nbformat_minor": 2
}
